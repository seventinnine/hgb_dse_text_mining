{
 "cells": [
  {
   "cell_type": "markdown",
   "id": "a1e00d63-0f75-47ed-a974-b100f7d3006d",
   "metadata": {},
   "source": [
    "## Exercise 1\n",
    "\n",
    "first paragraph of https://en.wikipedia.org/wiki/Path_of_Exile"
   ]
  },
  {
   "cell_type": "markdown",
   "id": "d51dcfe8-128c-4336-923d-e1ca8c7b3085",
   "metadata": {},
   "source": [
    "### Download the language model"
   ]
  },
  {
   "cell_type": "code",
   "execution_count": 4,
   "id": "e47f0c76-e8be-40d8-86eb-ea855285afbc",
   "metadata": {},
   "outputs": [],
   "source": [
    "%%capture output\n",
    "!python -m spacy download en_core_web_lg"
   ]
  },
  {
   "cell_type": "code",
   "execution_count": 5,
   "id": "b1b0397c-9638-4b50-bcf2-0913f9f692ba",
   "metadata": {},
   "outputs": [
    {
     "name": "stdout",
     "output_type": "stream",
     "text": [
      "Download and installation successful!\n"
     ]
    }
   ],
   "source": [
    "if \"Download and installation successful\" in output.stdout:\n",
    "    print(\"Download and installation successful!\")\n",
    "else:\n",
    "    print(output.stdout)\n",
    "    print(output.stderr)"
   ]
  },
  {
   "cell_type": "markdown",
   "id": "e1c45eb9-1fe8-4faa-87e7-0e8f9f605eb4",
   "metadata": {},
   "source": [
    "### Get and preprocess text"
   ]
  },
  {
   "cell_type": "code",
   "execution_count": 57,
   "id": "2dbccc8e-a6c8-4255-9750-84b488acd5dc",
   "metadata": {},
   "outputs": [
    {
     "name": "stdout",
     "output_type": "stream",
     "text": [
      "Path of Exile is a free-to-play action role-playing video game developed and published by Grinding Gear Games. Following an open beta phase, the game was released for Microsoft Windows in October 2013. A version for Xbox One was released in August 2017, and a PlayStation 4 version was released in March 2019. Path of Exile takes place in a dark fantasy world, where the government of the island nation of Oriath exiles people to the continent of Wraeclast, a ruined continent home to many ancient gods. Taking control of an exile, players can choose to play as one of seven character classes – Marauder, Duelist, Ranger, Shadow, Witch, Templar, and Scion. Players are then tasked with fighting their way back to Oriath, defeating ancient gods and great evils during their journey. Path of Exile 2, a sequel, is currently in development. It was originally announced in 2019 as a large update for the original game. In 2023, the studio announced that it would instead be a separate game.\n"
     ]
    }
   ],
   "source": [
    "import spacy\n",
    "import re\n",
    "import pandas as pd\n",
    "\n",
    "text = \"Path of Exile is a free-to-play action role-playing video game developed and published by Grinding Gear Games. Following an open beta phase, the game was released for Microsoft Windows in October 2013.[3][4][5][6][7] A version for Xbox One was released in August 2017, and a PlayStation 4 version was released in March 2019. Path of Exile takes place in a dark fantasy world, where the government of the island nation of Oriath exiles people to the continent of Wraeclast, a ruined continent home to many ancient gods. Taking control of an exile, players can choose to play as one of seven character classes – Marauder, Duelist, Ranger, Shadow, Witch, Templar, and Scion. Players are then tasked with fighting their way back to Oriath, defeating ancient gods and great evils during their journey. Path of Exile 2, a sequel, is currently in development. It was originally announced in 2019 as a large update for the original game. In 2023, the studio announced that it would instead be a separate game.[8]\";\n",
    "# preprocess\n",
    "text_preprocessed = re.sub(r'\\[[^\\]]*\\]', '', text)\n",
    "\n",
    "print(text_preprocessed)"
   ]
  },
  {
   "cell_type": "markdown",
   "id": "09ed5781-3cfa-4307-bfb4-35c32eb0f7c7",
   "metadata": {},
   "source": [
    "### Select appropriate spaCy model"
   ]
  },
  {
   "cell_type": "code",
   "execution_count": 58,
   "id": "4e80f623-7262-4228-a7c7-e6c5b5dfd112",
   "metadata": {},
   "outputs": [],
   "source": [
    "import en_core_web_lg\n",
    "import random\n",
    "\n",
    "nlp_en = en_core_web_lg.load()"
   ]
  },
  {
   "cell_type": "markdown",
   "id": "4e8edd2f-0f43-4837-a6f7-501569f7d10a",
   "metadata": {},
   "source": [
    "### Select random sentence"
   ]
  },
  {
   "cell_type": "code",
   "execution_count": 82,
   "id": "91eacfa3-7294-48a6-8122-7a631fa77a15",
   "metadata": {},
   "outputs": [
    {
     "name": "stdout",
     "output_type": "stream",
     "text": [
      "Taking control of an exile, players can choose to play as one of seven character classes – Marauder, Duelist, Ranger, Shadow, Witch, Templar, and Scion.\n"
     ]
    }
   ],
   "source": [
    "article_en = nlp_en(text_preprocessed)\n",
    "# picks 3 random sentences\n",
    "# random_sentence = ' '.join(map(str, random.sample(list(article_en.sents), 3)))\n",
    "random_sentence = random.choice(list(article_en.sents)).text\n",
    "print(random_sentence)"
   ]
  },
  {
   "cell_type": "markdown",
   "id": "d7049144-31c7-415c-884a-ef709b34242c",
   "metadata": {},
   "source": [
    "### Tokenize sentence"
   ]
  },
  {
   "cell_type": "code",
   "execution_count": 83,
   "id": "021b6dc3-6013-4d5f-acd5-06876170f87f",
   "metadata": {},
   "outputs": [
    {
     "name": "stdout",
     "output_type": "stream",
     "text": [
      "['Taking', 'control', 'of', 'an', 'exile', ',', 'players', 'can', 'choose', 'to', 'play', 'as', 'one', 'of', 'seven', 'character', 'classes', '–', 'Marauder', ',', 'Duelist', ',', 'Ranger', ',', 'Shadow', ',', 'Witch', ',', 'Templar', ',', 'and', 'Scion', '.']\n"
     ]
    }
   ],
   "source": [
    "# tokenize\n",
    "tokens = nlp_en(random_sentence)\n",
    "#tokens = nlp_en(text_preprocessed)\n",
    "\n",
    "# print tokens (only first 20)\n",
    "print([token.text for token in tokens])"
   ]
  },
  {
   "cell_type": "markdown",
   "id": "64bf2b76-3c49-49fe-9e07-2e21d6292aa3",
   "metadata": {},
   "source": [
    "### Lemmatize it"
   ]
  },
  {
   "cell_type": "code",
   "execution_count": 84,
   "id": "d1687de7-0473-473b-8a55-fc7657657d9f",
   "metadata": {},
   "outputs": [
    {
     "name": "stdout",
     "output_type": "stream",
     "text": [
      "['take', 'control', 'of', 'an', 'exile', ',', 'player', 'can', 'choose', 'to', 'play', 'as', 'one', 'of', 'seven', 'character', 'class', '–', 'Marauder', ',', 'Duelist', ',', 'Ranger', ',', 'Shadow', ',', 'Witch', ',', 'Templar', ',', 'and', 'scion', '.']\n"
     ]
    }
   ],
   "source": [
    "print([token.lemma_ for token in tokens])"
   ]
  },
  {
   "cell_type": "markdown",
   "id": "56da6a4a-e092-413f-aadc-9f3374f26e64",
   "metadata": {},
   "source": [
    "### Carry out POS-tagging, dependency plot"
   ]
  },
  {
   "cell_type": "code",
   "execution_count": 85,
   "id": "914d85f2-bc04-4405-bf86-8aed3528d2e1",
   "metadata": {},
   "outputs": [
    {
     "name": "stdout",
     "output_type": "stream",
     "text": [
      "        Token      Lemma    POS  Tag       Dep  Shape  Is_alpha  Is_stop\n",
      "0      Taking       take   VERB  VBG     advcl  Xxxxx      True    False\n",
      "1     control    control   NOUN   NN      dobj   xxxx      True    False\n",
      "2          of         of    ADP   IN      prep     xx      True     True\n",
      "3          an         an    DET   DT       det     xx      True     True\n",
      "4       exile      exile   NOUN   NN      pobj   xxxx      True    False\n",
      "5           ,          ,  PUNCT    ,     punct      ,     False    False\n",
      "6     players     player   NOUN  NNS     nsubj   xxxx      True    False\n",
      "7         can        can    AUX   MD       aux    xxx      True     True\n",
      "8      choose     choose   VERB   VB      ROOT   xxxx      True    False\n",
      "9          to         to   PART   TO       aux     xx      True     True\n",
      "10       play       play   VERB   VB     xcomp   xxxx      True    False\n",
      "11         as         as    ADP   IN      prep     xx      True     True\n",
      "12        one        one    NUM   CD      pobj    xxx      True     True\n",
      "13         of         of    ADP   IN      prep     xx      True     True\n",
      "14      seven      seven    NUM   CD    nummod   xxxx      True    False\n",
      "15  character  character   NOUN   NN  compound   xxxx      True    False\n",
      "16    classes      class   NOUN  NNS      pobj   xxxx      True    False\n",
      "17          –          –  PUNCT    :     punct      –     False    False\n",
      "18   Marauder   Marauder  PROPN  NNP     appos  Xxxxx      True    False\n",
      "19          ,          ,  PUNCT    ,     punct      ,     False    False\n",
      "20    Duelist    Duelist  PROPN  NNP      conj  Xxxxx      True    False\n",
      "21          ,          ,  PUNCT    ,     punct      ,     False    False\n",
      "22     Ranger     Ranger  PROPN  NNP      conj  Xxxxx      True    False\n",
      "23          ,          ,  PUNCT    ,     punct      ,     False    False\n",
      "24     Shadow     Shadow  PROPN  NNP      conj  Xxxxx      True    False\n",
      "25          ,          ,  PUNCT    ,     punct      ,     False    False\n",
      "26      Witch      Witch  PROPN  NNP      conj  Xxxxx      True    False\n",
      "27          ,          ,  PUNCT    ,     punct      ,     False    False\n",
      "28    Templar    Templar  PROPN  NNP      conj  Xxxxx      True    False\n",
      "29          ,          ,  PUNCT    ,     punct      ,     False    False\n",
      "30        and        and  CCONJ   CC        cc    xxx      True     True\n",
      "31      Scion      scion   NOUN   NN      conj  Xxxxx      True    False\n",
      "32          .          .  PUNCT    .     punct      .     False    False\n"
     ]
    },
    {
     "data": {
      "text/html": [
       "<span class=\"tex2jax_ignore\"><svg xmlns=\"http://www.w3.org/2000/svg\" xmlns:xlink=\"http://www.w3.org/1999/xlink\" xml:lang=\"en\" id=\"1b2c48538ab84b5fa8fb553558be413e-0\" class=\"displacy\" width=\"2450\" height=\"287.0\" direction=\"ltr\" style=\"max-width: none; height: 287.0px; color: #000000; background: #ffffff; font-family: Arial; direction: ltr\">\n",
       "<text class=\"displacy-token\" fill=\"currentColor\" text-anchor=\"middle\" y=\"197.0\">\n",
       "    <tspan class=\"displacy-word\" fill=\"currentColor\" x=\"50\">Taking</tspan>\n",
       "    <tspan class=\"displacy-tag\" dy=\"2em\" fill=\"currentColor\" x=\"50\">VERB</tspan>\n",
       "</text>\n",
       "\n",
       "<text class=\"displacy-token\" fill=\"currentColor\" text-anchor=\"middle\" y=\"197.0\">\n",
       "    <tspan class=\"displacy-word\" fill=\"currentColor\" x=\"150\">control</tspan>\n",
       "    <tspan class=\"displacy-tag\" dy=\"2em\" fill=\"currentColor\" x=\"150\">NOUN</tspan>\n",
       "</text>\n",
       "\n",
       "<text class=\"displacy-token\" fill=\"currentColor\" text-anchor=\"middle\" y=\"197.0\">\n",
       "    <tspan class=\"displacy-word\" fill=\"currentColor\" x=\"250\">of</tspan>\n",
       "    <tspan class=\"displacy-tag\" dy=\"2em\" fill=\"currentColor\" x=\"250\">ADP</tspan>\n",
       "</text>\n",
       "\n",
       "<text class=\"displacy-token\" fill=\"currentColor\" text-anchor=\"middle\" y=\"197.0\">\n",
       "    <tspan class=\"displacy-word\" fill=\"currentColor\" x=\"350\">an</tspan>\n",
       "    <tspan class=\"displacy-tag\" dy=\"2em\" fill=\"currentColor\" x=\"350\">DET</tspan>\n",
       "</text>\n",
       "\n",
       "<text class=\"displacy-token\" fill=\"currentColor\" text-anchor=\"middle\" y=\"197.0\">\n",
       "    <tspan class=\"displacy-word\" fill=\"currentColor\" x=\"450\">exile,</tspan>\n",
       "    <tspan class=\"displacy-tag\" dy=\"2em\" fill=\"currentColor\" x=\"450\">NOUN</tspan>\n",
       "</text>\n",
       "\n",
       "<text class=\"displacy-token\" fill=\"currentColor\" text-anchor=\"middle\" y=\"197.0\">\n",
       "    <tspan class=\"displacy-word\" fill=\"currentColor\" x=\"550\">players</tspan>\n",
       "    <tspan class=\"displacy-tag\" dy=\"2em\" fill=\"currentColor\" x=\"550\">NOUN</tspan>\n",
       "</text>\n",
       "\n",
       "<text class=\"displacy-token\" fill=\"currentColor\" text-anchor=\"middle\" y=\"197.0\">\n",
       "    <tspan class=\"displacy-word\" fill=\"currentColor\" x=\"650\">can</tspan>\n",
       "    <tspan class=\"displacy-tag\" dy=\"2em\" fill=\"currentColor\" x=\"650\">AUX</tspan>\n",
       "</text>\n",
       "\n",
       "<text class=\"displacy-token\" fill=\"currentColor\" text-anchor=\"middle\" y=\"197.0\">\n",
       "    <tspan class=\"displacy-word\" fill=\"currentColor\" x=\"750\">choose</tspan>\n",
       "    <tspan class=\"displacy-tag\" dy=\"2em\" fill=\"currentColor\" x=\"750\">VERB</tspan>\n",
       "</text>\n",
       "\n",
       "<text class=\"displacy-token\" fill=\"currentColor\" text-anchor=\"middle\" y=\"197.0\">\n",
       "    <tspan class=\"displacy-word\" fill=\"currentColor\" x=\"850\">to</tspan>\n",
       "    <tspan class=\"displacy-tag\" dy=\"2em\" fill=\"currentColor\" x=\"850\">PART</tspan>\n",
       "</text>\n",
       "\n",
       "<text class=\"displacy-token\" fill=\"currentColor\" text-anchor=\"middle\" y=\"197.0\">\n",
       "    <tspan class=\"displacy-word\" fill=\"currentColor\" x=\"950\">play</tspan>\n",
       "    <tspan class=\"displacy-tag\" dy=\"2em\" fill=\"currentColor\" x=\"950\">VERB</tspan>\n",
       "</text>\n",
       "\n",
       "<text class=\"displacy-token\" fill=\"currentColor\" text-anchor=\"middle\" y=\"197.0\">\n",
       "    <tspan class=\"displacy-word\" fill=\"currentColor\" x=\"1050\">as</tspan>\n",
       "    <tspan class=\"displacy-tag\" dy=\"2em\" fill=\"currentColor\" x=\"1050\">ADP</tspan>\n",
       "</text>\n",
       "\n",
       "<text class=\"displacy-token\" fill=\"currentColor\" text-anchor=\"middle\" y=\"197.0\">\n",
       "    <tspan class=\"displacy-word\" fill=\"currentColor\" x=\"1150\">one</tspan>\n",
       "    <tspan class=\"displacy-tag\" dy=\"2em\" fill=\"currentColor\" x=\"1150\">NUM</tspan>\n",
       "</text>\n",
       "\n",
       "<text class=\"displacy-token\" fill=\"currentColor\" text-anchor=\"middle\" y=\"197.0\">\n",
       "    <tspan class=\"displacy-word\" fill=\"currentColor\" x=\"1250\">of</tspan>\n",
       "    <tspan class=\"displacy-tag\" dy=\"2em\" fill=\"currentColor\" x=\"1250\">ADP</tspan>\n",
       "</text>\n",
       "\n",
       "<text class=\"displacy-token\" fill=\"currentColor\" text-anchor=\"middle\" y=\"197.0\">\n",
       "    <tspan class=\"displacy-word\" fill=\"currentColor\" x=\"1350\">seven</tspan>\n",
       "    <tspan class=\"displacy-tag\" dy=\"2em\" fill=\"currentColor\" x=\"1350\">NUM</tspan>\n",
       "</text>\n",
       "\n",
       "<text class=\"displacy-token\" fill=\"currentColor\" text-anchor=\"middle\" y=\"197.0\">\n",
       "    <tspan class=\"displacy-word\" fill=\"currentColor\" x=\"1450\">character</tspan>\n",
       "    <tspan class=\"displacy-tag\" dy=\"2em\" fill=\"currentColor\" x=\"1450\">NOUN</tspan>\n",
       "</text>\n",
       "\n",
       "<text class=\"displacy-token\" fill=\"currentColor\" text-anchor=\"middle\" y=\"197.0\">\n",
       "    <tspan class=\"displacy-word\" fill=\"currentColor\" x=\"1550\">classes –</tspan>\n",
       "    <tspan class=\"displacy-tag\" dy=\"2em\" fill=\"currentColor\" x=\"1550\">NOUN</tspan>\n",
       "</text>\n",
       "\n",
       "<text class=\"displacy-token\" fill=\"currentColor\" text-anchor=\"middle\" y=\"197.0\">\n",
       "    <tspan class=\"displacy-word\" fill=\"currentColor\" x=\"1650\">Marauder,</tspan>\n",
       "    <tspan class=\"displacy-tag\" dy=\"2em\" fill=\"currentColor\" x=\"1650\">PROPN</tspan>\n",
       "</text>\n",
       "\n",
       "<text class=\"displacy-token\" fill=\"currentColor\" text-anchor=\"middle\" y=\"197.0\">\n",
       "    <tspan class=\"displacy-word\" fill=\"currentColor\" x=\"1750\">Duelist,</tspan>\n",
       "    <tspan class=\"displacy-tag\" dy=\"2em\" fill=\"currentColor\" x=\"1750\">PROPN</tspan>\n",
       "</text>\n",
       "\n",
       "<text class=\"displacy-token\" fill=\"currentColor\" text-anchor=\"middle\" y=\"197.0\">\n",
       "    <tspan class=\"displacy-word\" fill=\"currentColor\" x=\"1850\">Ranger,</tspan>\n",
       "    <tspan class=\"displacy-tag\" dy=\"2em\" fill=\"currentColor\" x=\"1850\">PROPN</tspan>\n",
       "</text>\n",
       "\n",
       "<text class=\"displacy-token\" fill=\"currentColor\" text-anchor=\"middle\" y=\"197.0\">\n",
       "    <tspan class=\"displacy-word\" fill=\"currentColor\" x=\"1950\">Shadow,</tspan>\n",
       "    <tspan class=\"displacy-tag\" dy=\"2em\" fill=\"currentColor\" x=\"1950\">PROPN</tspan>\n",
       "</text>\n",
       "\n",
       "<text class=\"displacy-token\" fill=\"currentColor\" text-anchor=\"middle\" y=\"197.0\">\n",
       "    <tspan class=\"displacy-word\" fill=\"currentColor\" x=\"2050\">Witch,</tspan>\n",
       "    <tspan class=\"displacy-tag\" dy=\"2em\" fill=\"currentColor\" x=\"2050\">PROPN</tspan>\n",
       "</text>\n",
       "\n",
       "<text class=\"displacy-token\" fill=\"currentColor\" text-anchor=\"middle\" y=\"197.0\">\n",
       "    <tspan class=\"displacy-word\" fill=\"currentColor\" x=\"2150\">Templar,</tspan>\n",
       "    <tspan class=\"displacy-tag\" dy=\"2em\" fill=\"currentColor\" x=\"2150\">PROPN</tspan>\n",
       "</text>\n",
       "\n",
       "<text class=\"displacy-token\" fill=\"currentColor\" text-anchor=\"middle\" y=\"197.0\">\n",
       "    <tspan class=\"displacy-word\" fill=\"currentColor\" x=\"2250\">and</tspan>\n",
       "    <tspan class=\"displacy-tag\" dy=\"2em\" fill=\"currentColor\" x=\"2250\">CCONJ</tspan>\n",
       "</text>\n",
       "\n",
       "<text class=\"displacy-token\" fill=\"currentColor\" text-anchor=\"middle\" y=\"197.0\">\n",
       "    <tspan class=\"displacy-word\" fill=\"currentColor\" x=\"2350\">Scion.</tspan>\n",
       "    <tspan class=\"displacy-tag\" dy=\"2em\" fill=\"currentColor\" x=\"2350\">NOUN</tspan>\n",
       "</text>\n",
       "\n",
       "<g class=\"displacy-arrow\">\n",
       "    <path class=\"displacy-arc\" id=\"arrow-1b2c48538ab84b5fa8fb553558be413e-0-0\" stroke-width=\"2px\" d=\"M70,152.0 C70,2.0 750.0,2.0 750.0,152.0\" fill=\"none\" stroke=\"currentColor\"/>\n",
       "    <text dy=\"1.25em\" style=\"font-size: 0.8em; letter-spacing: 1px\">\n",
       "        <textPath xlink:href=\"#arrow-1b2c48538ab84b5fa8fb553558be413e-0-0\" class=\"displacy-label\" startOffset=\"50%\" side=\"left\" fill=\"currentColor\" text-anchor=\"middle\">advcl</textPath>\n",
       "    </text>\n",
       "    <path class=\"displacy-arrowhead\" d=\"M70,154.0 L62,142.0 78,142.0\" fill=\"currentColor\"/>\n",
       "</g>\n",
       "\n",
       "<g class=\"displacy-arrow\">\n",
       "    <path class=\"displacy-arc\" id=\"arrow-1b2c48538ab84b5fa8fb553558be413e-0-1\" stroke-width=\"2px\" d=\"M70,152.0 C70,102.0 140.0,102.0 140.0,152.0\" fill=\"none\" stroke=\"currentColor\"/>\n",
       "    <text dy=\"1.25em\" style=\"font-size: 0.8em; letter-spacing: 1px\">\n",
       "        <textPath xlink:href=\"#arrow-1b2c48538ab84b5fa8fb553558be413e-0-1\" class=\"displacy-label\" startOffset=\"50%\" side=\"left\" fill=\"currentColor\" text-anchor=\"middle\">dobj</textPath>\n",
       "    </text>\n",
       "    <path class=\"displacy-arrowhead\" d=\"M140.0,154.0 L148.0,142.0 132.0,142.0\" fill=\"currentColor\"/>\n",
       "</g>\n",
       "\n",
       "<g class=\"displacy-arrow\">\n",
       "    <path class=\"displacy-arc\" id=\"arrow-1b2c48538ab84b5fa8fb553558be413e-0-2\" stroke-width=\"2px\" d=\"M170,152.0 C170,102.0 240.0,102.0 240.0,152.0\" fill=\"none\" stroke=\"currentColor\"/>\n",
       "    <text dy=\"1.25em\" style=\"font-size: 0.8em; letter-spacing: 1px\">\n",
       "        <textPath xlink:href=\"#arrow-1b2c48538ab84b5fa8fb553558be413e-0-2\" class=\"displacy-label\" startOffset=\"50%\" side=\"left\" fill=\"currentColor\" text-anchor=\"middle\">prep</textPath>\n",
       "    </text>\n",
       "    <path class=\"displacy-arrowhead\" d=\"M240.0,154.0 L248.0,142.0 232.0,142.0\" fill=\"currentColor\"/>\n",
       "</g>\n",
       "\n",
       "<g class=\"displacy-arrow\">\n",
       "    <path class=\"displacy-arc\" id=\"arrow-1b2c48538ab84b5fa8fb553558be413e-0-3\" stroke-width=\"2px\" d=\"M370,152.0 C370,102.0 440.0,102.0 440.0,152.0\" fill=\"none\" stroke=\"currentColor\"/>\n",
       "    <text dy=\"1.25em\" style=\"font-size: 0.8em; letter-spacing: 1px\">\n",
       "        <textPath xlink:href=\"#arrow-1b2c48538ab84b5fa8fb553558be413e-0-3\" class=\"displacy-label\" startOffset=\"50%\" side=\"left\" fill=\"currentColor\" text-anchor=\"middle\">det</textPath>\n",
       "    </text>\n",
       "    <path class=\"displacy-arrowhead\" d=\"M370,154.0 L362,142.0 378,142.0\" fill=\"currentColor\"/>\n",
       "</g>\n",
       "\n",
       "<g class=\"displacy-arrow\">\n",
       "    <path class=\"displacy-arc\" id=\"arrow-1b2c48538ab84b5fa8fb553558be413e-0-4\" stroke-width=\"2px\" d=\"M270,152.0 C270,52.0 445.0,52.0 445.0,152.0\" fill=\"none\" stroke=\"currentColor\"/>\n",
       "    <text dy=\"1.25em\" style=\"font-size: 0.8em; letter-spacing: 1px\">\n",
       "        <textPath xlink:href=\"#arrow-1b2c48538ab84b5fa8fb553558be413e-0-4\" class=\"displacy-label\" startOffset=\"50%\" side=\"left\" fill=\"currentColor\" text-anchor=\"middle\">pobj</textPath>\n",
       "    </text>\n",
       "    <path class=\"displacy-arrowhead\" d=\"M445.0,154.0 L453.0,142.0 437.0,142.0\" fill=\"currentColor\"/>\n",
       "</g>\n",
       "\n",
       "<g class=\"displacy-arrow\">\n",
       "    <path class=\"displacy-arc\" id=\"arrow-1b2c48538ab84b5fa8fb553558be413e-0-5\" stroke-width=\"2px\" d=\"M570,152.0 C570,52.0 745.0,52.0 745.0,152.0\" fill=\"none\" stroke=\"currentColor\"/>\n",
       "    <text dy=\"1.25em\" style=\"font-size: 0.8em; letter-spacing: 1px\">\n",
       "        <textPath xlink:href=\"#arrow-1b2c48538ab84b5fa8fb553558be413e-0-5\" class=\"displacy-label\" startOffset=\"50%\" side=\"left\" fill=\"currentColor\" text-anchor=\"middle\">nsubj</textPath>\n",
       "    </text>\n",
       "    <path class=\"displacy-arrowhead\" d=\"M570,154.0 L562,142.0 578,142.0\" fill=\"currentColor\"/>\n",
       "</g>\n",
       "\n",
       "<g class=\"displacy-arrow\">\n",
       "    <path class=\"displacy-arc\" id=\"arrow-1b2c48538ab84b5fa8fb553558be413e-0-6\" stroke-width=\"2px\" d=\"M670,152.0 C670,102.0 740.0,102.0 740.0,152.0\" fill=\"none\" stroke=\"currentColor\"/>\n",
       "    <text dy=\"1.25em\" style=\"font-size: 0.8em; letter-spacing: 1px\">\n",
       "        <textPath xlink:href=\"#arrow-1b2c48538ab84b5fa8fb553558be413e-0-6\" class=\"displacy-label\" startOffset=\"50%\" side=\"left\" fill=\"currentColor\" text-anchor=\"middle\">aux</textPath>\n",
       "    </text>\n",
       "    <path class=\"displacy-arrowhead\" d=\"M670,154.0 L662,142.0 678,142.0\" fill=\"currentColor\"/>\n",
       "</g>\n",
       "\n",
       "<g class=\"displacy-arrow\">\n",
       "    <path class=\"displacy-arc\" id=\"arrow-1b2c48538ab84b5fa8fb553558be413e-0-7\" stroke-width=\"2px\" d=\"M870,152.0 C870,102.0 940.0,102.0 940.0,152.0\" fill=\"none\" stroke=\"currentColor\"/>\n",
       "    <text dy=\"1.25em\" style=\"font-size: 0.8em; letter-spacing: 1px\">\n",
       "        <textPath xlink:href=\"#arrow-1b2c48538ab84b5fa8fb553558be413e-0-7\" class=\"displacy-label\" startOffset=\"50%\" side=\"left\" fill=\"currentColor\" text-anchor=\"middle\">aux</textPath>\n",
       "    </text>\n",
       "    <path class=\"displacy-arrowhead\" d=\"M870,154.0 L862,142.0 878,142.0\" fill=\"currentColor\"/>\n",
       "</g>\n",
       "\n",
       "<g class=\"displacy-arrow\">\n",
       "    <path class=\"displacy-arc\" id=\"arrow-1b2c48538ab84b5fa8fb553558be413e-0-8\" stroke-width=\"2px\" d=\"M770,152.0 C770,52.0 945.0,52.0 945.0,152.0\" fill=\"none\" stroke=\"currentColor\"/>\n",
       "    <text dy=\"1.25em\" style=\"font-size: 0.8em; letter-spacing: 1px\">\n",
       "        <textPath xlink:href=\"#arrow-1b2c48538ab84b5fa8fb553558be413e-0-8\" class=\"displacy-label\" startOffset=\"50%\" side=\"left\" fill=\"currentColor\" text-anchor=\"middle\">xcomp</textPath>\n",
       "    </text>\n",
       "    <path class=\"displacy-arrowhead\" d=\"M945.0,154.0 L953.0,142.0 937.0,142.0\" fill=\"currentColor\"/>\n",
       "</g>\n",
       "\n",
       "<g class=\"displacy-arrow\">\n",
       "    <path class=\"displacy-arc\" id=\"arrow-1b2c48538ab84b5fa8fb553558be413e-0-9\" stroke-width=\"2px\" d=\"M970,152.0 C970,102.0 1040.0,102.0 1040.0,152.0\" fill=\"none\" stroke=\"currentColor\"/>\n",
       "    <text dy=\"1.25em\" style=\"font-size: 0.8em; letter-spacing: 1px\">\n",
       "        <textPath xlink:href=\"#arrow-1b2c48538ab84b5fa8fb553558be413e-0-9\" class=\"displacy-label\" startOffset=\"50%\" side=\"left\" fill=\"currentColor\" text-anchor=\"middle\">prep</textPath>\n",
       "    </text>\n",
       "    <path class=\"displacy-arrowhead\" d=\"M1040.0,154.0 L1048.0,142.0 1032.0,142.0\" fill=\"currentColor\"/>\n",
       "</g>\n",
       "\n",
       "<g class=\"displacy-arrow\">\n",
       "    <path class=\"displacy-arc\" id=\"arrow-1b2c48538ab84b5fa8fb553558be413e-0-10\" stroke-width=\"2px\" d=\"M1070,152.0 C1070,102.0 1140.0,102.0 1140.0,152.0\" fill=\"none\" stroke=\"currentColor\"/>\n",
       "    <text dy=\"1.25em\" style=\"font-size: 0.8em; letter-spacing: 1px\">\n",
       "        <textPath xlink:href=\"#arrow-1b2c48538ab84b5fa8fb553558be413e-0-10\" class=\"displacy-label\" startOffset=\"50%\" side=\"left\" fill=\"currentColor\" text-anchor=\"middle\">pobj</textPath>\n",
       "    </text>\n",
       "    <path class=\"displacy-arrowhead\" d=\"M1140.0,154.0 L1148.0,142.0 1132.0,142.0\" fill=\"currentColor\"/>\n",
       "</g>\n",
       "\n",
       "<g class=\"displacy-arrow\">\n",
       "    <path class=\"displacy-arc\" id=\"arrow-1b2c48538ab84b5fa8fb553558be413e-0-11\" stroke-width=\"2px\" d=\"M1170,152.0 C1170,102.0 1240.0,102.0 1240.0,152.0\" fill=\"none\" stroke=\"currentColor\"/>\n",
       "    <text dy=\"1.25em\" style=\"font-size: 0.8em; letter-spacing: 1px\">\n",
       "        <textPath xlink:href=\"#arrow-1b2c48538ab84b5fa8fb553558be413e-0-11\" class=\"displacy-label\" startOffset=\"50%\" side=\"left\" fill=\"currentColor\" text-anchor=\"middle\">prep</textPath>\n",
       "    </text>\n",
       "    <path class=\"displacy-arrowhead\" d=\"M1240.0,154.0 L1248.0,142.0 1232.0,142.0\" fill=\"currentColor\"/>\n",
       "</g>\n",
       "\n",
       "<g class=\"displacy-arrow\">\n",
       "    <path class=\"displacy-arc\" id=\"arrow-1b2c48538ab84b5fa8fb553558be413e-0-12\" stroke-width=\"2px\" d=\"M1370,152.0 C1370,52.0 1545.0,52.0 1545.0,152.0\" fill=\"none\" stroke=\"currentColor\"/>\n",
       "    <text dy=\"1.25em\" style=\"font-size: 0.8em; letter-spacing: 1px\">\n",
       "        <textPath xlink:href=\"#arrow-1b2c48538ab84b5fa8fb553558be413e-0-12\" class=\"displacy-label\" startOffset=\"50%\" side=\"left\" fill=\"currentColor\" text-anchor=\"middle\">nummod</textPath>\n",
       "    </text>\n",
       "    <path class=\"displacy-arrowhead\" d=\"M1370,154.0 L1362,142.0 1378,142.0\" fill=\"currentColor\"/>\n",
       "</g>\n",
       "\n",
       "<g class=\"displacy-arrow\">\n",
       "    <path class=\"displacy-arc\" id=\"arrow-1b2c48538ab84b5fa8fb553558be413e-0-13\" stroke-width=\"2px\" d=\"M1470,152.0 C1470,102.0 1540.0,102.0 1540.0,152.0\" fill=\"none\" stroke=\"currentColor\"/>\n",
       "    <text dy=\"1.25em\" style=\"font-size: 0.8em; letter-spacing: 1px\">\n",
       "        <textPath xlink:href=\"#arrow-1b2c48538ab84b5fa8fb553558be413e-0-13\" class=\"displacy-label\" startOffset=\"50%\" side=\"left\" fill=\"currentColor\" text-anchor=\"middle\">compound</textPath>\n",
       "    </text>\n",
       "    <path class=\"displacy-arrowhead\" d=\"M1470,154.0 L1462,142.0 1478,142.0\" fill=\"currentColor\"/>\n",
       "</g>\n",
       "\n",
       "<g class=\"displacy-arrow\">\n",
       "    <path class=\"displacy-arc\" id=\"arrow-1b2c48538ab84b5fa8fb553558be413e-0-14\" stroke-width=\"2px\" d=\"M1270,152.0 C1270,2.0 1550.0,2.0 1550.0,152.0\" fill=\"none\" stroke=\"currentColor\"/>\n",
       "    <text dy=\"1.25em\" style=\"font-size: 0.8em; letter-spacing: 1px\">\n",
       "        <textPath xlink:href=\"#arrow-1b2c48538ab84b5fa8fb553558be413e-0-14\" class=\"displacy-label\" startOffset=\"50%\" side=\"left\" fill=\"currentColor\" text-anchor=\"middle\">pobj</textPath>\n",
       "    </text>\n",
       "    <path class=\"displacy-arrowhead\" d=\"M1550.0,154.0 L1558.0,142.0 1542.0,142.0\" fill=\"currentColor\"/>\n",
       "</g>\n",
       "\n",
       "<g class=\"displacy-arrow\">\n",
       "    <path class=\"displacy-arc\" id=\"arrow-1b2c48538ab84b5fa8fb553558be413e-0-15\" stroke-width=\"2px\" d=\"M1570,152.0 C1570,102.0 1640.0,102.0 1640.0,152.0\" fill=\"none\" stroke=\"currentColor\"/>\n",
       "    <text dy=\"1.25em\" style=\"font-size: 0.8em; letter-spacing: 1px\">\n",
       "        <textPath xlink:href=\"#arrow-1b2c48538ab84b5fa8fb553558be413e-0-15\" class=\"displacy-label\" startOffset=\"50%\" side=\"left\" fill=\"currentColor\" text-anchor=\"middle\">appos</textPath>\n",
       "    </text>\n",
       "    <path class=\"displacy-arrowhead\" d=\"M1640.0,154.0 L1648.0,142.0 1632.0,142.0\" fill=\"currentColor\"/>\n",
       "</g>\n",
       "\n",
       "<g class=\"displacy-arrow\">\n",
       "    <path class=\"displacy-arc\" id=\"arrow-1b2c48538ab84b5fa8fb553558be413e-0-16\" stroke-width=\"2px\" d=\"M1670,152.0 C1670,102.0 1740.0,102.0 1740.0,152.0\" fill=\"none\" stroke=\"currentColor\"/>\n",
       "    <text dy=\"1.25em\" style=\"font-size: 0.8em; letter-spacing: 1px\">\n",
       "        <textPath xlink:href=\"#arrow-1b2c48538ab84b5fa8fb553558be413e-0-16\" class=\"displacy-label\" startOffset=\"50%\" side=\"left\" fill=\"currentColor\" text-anchor=\"middle\">conj</textPath>\n",
       "    </text>\n",
       "    <path class=\"displacy-arrowhead\" d=\"M1740.0,154.0 L1748.0,142.0 1732.0,142.0\" fill=\"currentColor\"/>\n",
       "</g>\n",
       "\n",
       "<g class=\"displacy-arrow\">\n",
       "    <path class=\"displacy-arc\" id=\"arrow-1b2c48538ab84b5fa8fb553558be413e-0-17\" stroke-width=\"2px\" d=\"M1770,152.0 C1770,102.0 1840.0,102.0 1840.0,152.0\" fill=\"none\" stroke=\"currentColor\"/>\n",
       "    <text dy=\"1.25em\" style=\"font-size: 0.8em; letter-spacing: 1px\">\n",
       "        <textPath xlink:href=\"#arrow-1b2c48538ab84b5fa8fb553558be413e-0-17\" class=\"displacy-label\" startOffset=\"50%\" side=\"left\" fill=\"currentColor\" text-anchor=\"middle\">conj</textPath>\n",
       "    </text>\n",
       "    <path class=\"displacy-arrowhead\" d=\"M1840.0,154.0 L1848.0,142.0 1832.0,142.0\" fill=\"currentColor\"/>\n",
       "</g>\n",
       "\n",
       "<g class=\"displacy-arrow\">\n",
       "    <path class=\"displacy-arc\" id=\"arrow-1b2c48538ab84b5fa8fb553558be413e-0-18\" stroke-width=\"2px\" d=\"M1870,152.0 C1870,102.0 1940.0,102.0 1940.0,152.0\" fill=\"none\" stroke=\"currentColor\"/>\n",
       "    <text dy=\"1.25em\" style=\"font-size: 0.8em; letter-spacing: 1px\">\n",
       "        <textPath xlink:href=\"#arrow-1b2c48538ab84b5fa8fb553558be413e-0-18\" class=\"displacy-label\" startOffset=\"50%\" side=\"left\" fill=\"currentColor\" text-anchor=\"middle\">conj</textPath>\n",
       "    </text>\n",
       "    <path class=\"displacy-arrowhead\" d=\"M1940.0,154.0 L1948.0,142.0 1932.0,142.0\" fill=\"currentColor\"/>\n",
       "</g>\n",
       "\n",
       "<g class=\"displacy-arrow\">\n",
       "    <path class=\"displacy-arc\" id=\"arrow-1b2c48538ab84b5fa8fb553558be413e-0-19\" stroke-width=\"2px\" d=\"M1970,152.0 C1970,102.0 2040.0,102.0 2040.0,152.0\" fill=\"none\" stroke=\"currentColor\"/>\n",
       "    <text dy=\"1.25em\" style=\"font-size: 0.8em; letter-spacing: 1px\">\n",
       "        <textPath xlink:href=\"#arrow-1b2c48538ab84b5fa8fb553558be413e-0-19\" class=\"displacy-label\" startOffset=\"50%\" side=\"left\" fill=\"currentColor\" text-anchor=\"middle\">conj</textPath>\n",
       "    </text>\n",
       "    <path class=\"displacy-arrowhead\" d=\"M2040.0,154.0 L2048.0,142.0 2032.0,142.0\" fill=\"currentColor\"/>\n",
       "</g>\n",
       "\n",
       "<g class=\"displacy-arrow\">\n",
       "    <path class=\"displacy-arc\" id=\"arrow-1b2c48538ab84b5fa8fb553558be413e-0-20\" stroke-width=\"2px\" d=\"M2070,152.0 C2070,102.0 2140.0,102.0 2140.0,152.0\" fill=\"none\" stroke=\"currentColor\"/>\n",
       "    <text dy=\"1.25em\" style=\"font-size: 0.8em; letter-spacing: 1px\">\n",
       "        <textPath xlink:href=\"#arrow-1b2c48538ab84b5fa8fb553558be413e-0-20\" class=\"displacy-label\" startOffset=\"50%\" side=\"left\" fill=\"currentColor\" text-anchor=\"middle\">conj</textPath>\n",
       "    </text>\n",
       "    <path class=\"displacy-arrowhead\" d=\"M2140.0,154.0 L2148.0,142.0 2132.0,142.0\" fill=\"currentColor\"/>\n",
       "</g>\n",
       "\n",
       "<g class=\"displacy-arrow\">\n",
       "    <path class=\"displacy-arc\" id=\"arrow-1b2c48538ab84b5fa8fb553558be413e-0-21\" stroke-width=\"2px\" d=\"M2170,152.0 C2170,102.0 2240.0,102.0 2240.0,152.0\" fill=\"none\" stroke=\"currentColor\"/>\n",
       "    <text dy=\"1.25em\" style=\"font-size: 0.8em; letter-spacing: 1px\">\n",
       "        <textPath xlink:href=\"#arrow-1b2c48538ab84b5fa8fb553558be413e-0-21\" class=\"displacy-label\" startOffset=\"50%\" side=\"left\" fill=\"currentColor\" text-anchor=\"middle\">cc</textPath>\n",
       "    </text>\n",
       "    <path class=\"displacy-arrowhead\" d=\"M2240.0,154.0 L2248.0,142.0 2232.0,142.0\" fill=\"currentColor\"/>\n",
       "</g>\n",
       "\n",
       "<g class=\"displacy-arrow\">\n",
       "    <path class=\"displacy-arc\" id=\"arrow-1b2c48538ab84b5fa8fb553558be413e-0-22\" stroke-width=\"2px\" d=\"M2170,152.0 C2170,52.0 2345.0,52.0 2345.0,152.0\" fill=\"none\" stroke=\"currentColor\"/>\n",
       "    <text dy=\"1.25em\" style=\"font-size: 0.8em; letter-spacing: 1px\">\n",
       "        <textPath xlink:href=\"#arrow-1b2c48538ab84b5fa8fb553558be413e-0-22\" class=\"displacy-label\" startOffset=\"50%\" side=\"left\" fill=\"currentColor\" text-anchor=\"middle\">conj</textPath>\n",
       "    </text>\n",
       "    <path class=\"displacy-arrowhead\" d=\"M2345.0,154.0 L2353.0,142.0 2337.0,142.0\" fill=\"currentColor\"/>\n",
       "</g>\n",
       "</svg></span>"
      ],
      "text/plain": [
       "<IPython.core.display.HTML object>"
      ]
     },
     "metadata": {},
     "output_type": "display_data"
    }
   ],
   "source": [
    "from spacy import displacy\n",
    "\n",
    "tokens_data = [{\n",
    "        'Token': token.text,\n",
    "        'Lemma': token.lemma_,\n",
    "        'POS': token.pos_,\n",
    "        'Tag': token.tag_,\n",
    "        'Dep': token.dep_,\n",
    "        'Shape': token.shape_,\n",
    "        'Is_alpha': token.is_alpha,\n",
    "        'Is_stop': token.is_stop\n",
    "    } for token in tokens]\n",
    "\n",
    "print(pd.DataFrame(tokens_data))\n",
    "displacy.render(tokens, style='dep', options={'distance': 100}, jupyter=True)"
   ]
  },
  {
   "cell_type": "markdown",
   "id": "17c63fe6-c918-480f-bcda-0354c262cb38",
   "metadata": {},
   "source": [
    "### Carry out NER"
   ]
  },
  {
   "cell_type": "code",
   "execution_count": 86,
   "id": "fdb3edff-d456-4b80-9d66-ef19dcb583f7",
   "metadata": {},
   "outputs": [
    {
     "name": "stdout",
     "output_type": "stream",
     "text": [
      "                             Text  Start_char  End_char     Label\n",
      "0                             one          58        61  CARDINAL\n",
      "1                           seven          65        70  CARDINAL\n",
      "2                        Marauder          91        99   PRODUCT\n",
      "3  Ranger, Shadow, Witch, Templar         110       140       ORG\n",
      "4                           Scion         146       151   PRODUCT\n"
     ]
    }
   ],
   "source": [
    "entities_data = [{'Text': ent.text, 'Start_char': ent.start_char, 'End_char': ent.end_char, 'Label': ent.label_} for ent in tokens.ents]\n",
    "print(pd.DataFrame(entities_data))"
   ]
  },
  {
   "cell_type": "code",
   "execution_count": 87,
   "id": "dda02b3c-3eb2-4b76-9f03-bb40f8ca8268",
   "metadata": {},
   "outputs": [
    {
     "data": {
      "text/html": [
       "<span class=\"tex2jax_ignore\"><div class=\"entities\" style=\"line-height: 2.5; direction: ltr\">Taking control of an exile, players can choose to play as \n",
       "<mark class=\"entity\" style=\"background: #e4e7d2; padding: 0.45em 0.6em; margin: 0 0.25em; line-height: 1; border-radius: 0.35em;\">\n",
       "    one\n",
       "    <span style=\"font-size: 0.8em; font-weight: bold; line-height: 1; border-radius: 0.35em; vertical-align: middle; margin-left: 0.5rem\">CARDINAL</span>\n",
       "</mark>\n",
       " of \n",
       "<mark class=\"entity\" style=\"background: #e4e7d2; padding: 0.45em 0.6em; margin: 0 0.25em; line-height: 1; border-radius: 0.35em;\">\n",
       "    seven\n",
       "    <span style=\"font-size: 0.8em; font-weight: bold; line-height: 1; border-radius: 0.35em; vertical-align: middle; margin-left: 0.5rem\">CARDINAL</span>\n",
       "</mark>\n",
       " character classes – \n",
       "<mark class=\"entity\" style=\"background: #bfeeb7; padding: 0.45em 0.6em; margin: 0 0.25em; line-height: 1; border-radius: 0.35em;\">\n",
       "    Marauder\n",
       "    <span style=\"font-size: 0.8em; font-weight: bold; line-height: 1; border-radius: 0.35em; vertical-align: middle; margin-left: 0.5rem\">PRODUCT</span>\n",
       "</mark>\n",
       ", Duelist, \n",
       "<mark class=\"entity\" style=\"background: #7aecec; padding: 0.45em 0.6em; margin: 0 0.25em; line-height: 1; border-radius: 0.35em;\">\n",
       "    Ranger, Shadow, Witch, Templar\n",
       "    <span style=\"font-size: 0.8em; font-weight: bold; line-height: 1; border-radius: 0.35em; vertical-align: middle; margin-left: 0.5rem\">ORG</span>\n",
       "</mark>\n",
       ", and \n",
       "<mark class=\"entity\" style=\"background: #bfeeb7; padding: 0.45em 0.6em; margin: 0 0.25em; line-height: 1; border-radius: 0.35em;\">\n",
       "    Scion\n",
       "    <span style=\"font-size: 0.8em; font-weight: bold; line-height: 1; border-radius: 0.35em; vertical-align: middle; margin-left: 0.5rem\">PRODUCT</span>\n",
       "</mark>\n",
       ".</div></span>"
      ],
      "text/plain": [
       "<IPython.core.display.HTML object>"
      ]
     },
     "metadata": {},
     "output_type": "display_data"
    }
   ],
   "source": [
    "displacy.render(tokens, style='ent', options={'distance': 100}, jupyter=True)"
   ]
  },
  {
   "cell_type": "code",
   "execution_count": null,
   "id": "575a0997-4e9d-43b2-a2e9-f9c3c2b92e6d",
   "metadata": {},
   "outputs": [],
   "source": []
  }
 ],
 "metadata": {
  "kernelspec": {
   "display_name": "Python 3 (ipykernel)",
   "language": "python",
   "name": "python3"
  },
  "language_info": {
   "codemirror_mode": {
    "name": "ipython",
    "version": 3
   },
   "file_extension": ".py",
   "mimetype": "text/x-python",
   "name": "python",
   "nbconvert_exporter": "python",
   "pygments_lexer": "ipython3",
   "version": "3.11.6"
  }
 },
 "nbformat": 4,
 "nbformat_minor": 5
}
