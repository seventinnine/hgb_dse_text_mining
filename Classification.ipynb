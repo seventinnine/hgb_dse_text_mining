{
 "cells": [
  {
   "cell_type": "markdown",
   "id": "2ef4d8ec-b651-43cd-b92a-7676e3fc8ec6",
   "metadata": {},
   "source": [
    "### Loading our data\n",
    "\n",
    "For the following exercise we will use the word count matrix representation and only use a small subset of our data since we will implement a naiveBayes classifier - which is a \"lazy learner\" and so predictions will be rather slow."
   ]
  },
  {
   "cell_type": "code",
   "execution_count": 1,
   "id": "1c7efa9f-be80-4108-9387-6cd68255c89f",
   "metadata": {},
   "outputs": [],
   "source": [
    "from sklearn.model_selection import train_test_split\n",
    "from sklearn.metrics import confusion_matrix\n",
    "from sklearn.metrics import accuracy_score\n",
    "import matplotlib.pyplot as plt\n",
    "from tqdm import tqdm\n",
    "import pandas as pd\n",
    "import numpy as np\n",
    "import itertools\n",
    "\n",
    "classes_en = {1: \"World\", 2: \"Sports\", 3: \"Business\", 4: \"Sci/Tech\"}\n",
    "train_en = pd.read_csv(\"https://raw.githubusercontent.com/michabirklbauer/hgb_dse_text_mining/master/data/AGNews/train.csv\", \n",
    "                       names = [\"Label\", \"Title\", \"Article\"],\n",
    "                       encoding = \"utf-8\")\n",
    "test_en = pd.read_csv(\"https://raw.githubusercontent.com/michabirklbauer/hgb_dse_text_mining/master/data/AGNews/test.csv\", \n",
    "                      names = [\"Label\", \"Title\", \"Article\"],\n",
    "                      encoding = \"utf-8\")\n",
    "\n",
    "sample = train_en.sample(100)"
   ]
  },
  {
   "cell_type": "markdown",
   "id": "f007c515-5a39-4ad2-b904-bdca9a21df0e",
   "metadata": {},
   "source": [
    "### Splitting data into a training dataset and a test dataset\n",
    "\n",
    "*Note:* Data splitting should be your first step in any data science project that involves some kind of machine learning, doing transformations - even something like word counts - will inherently introduce bias and make the calculated generalization error on the test datast less meaningful!"
   ]
  },
  {
   "cell_type": "code",
   "execution_count": 2,
   "id": "e2c52bfe-0d55-4e4b-b745-6805cdbe46a2",
   "metadata": {},
   "outputs": [
    {
     "name": "stdout",
     "output_type": "stream",
     "text": [
      "(65, 3)\n",
      "(35, 3)\n"
     ]
    },
    {
     "data": {
      "text/html": [
       "<div>\n",
       "<style scoped>\n",
       "    .dataframe tbody tr th:only-of-type {\n",
       "        vertical-align: middle;\n",
       "    }\n",
       "\n",
       "    .dataframe tbody tr th {\n",
       "        vertical-align: top;\n",
       "    }\n",
       "\n",
       "    .dataframe thead th {\n",
       "        text-align: right;\n",
       "    }\n",
       "</style>\n",
       "<table border=\"1\" class=\"dataframe\">\n",
       "  <thead>\n",
       "    <tr style=\"text-align: right;\">\n",
       "      <th></th>\n",
       "      <th>Label</th>\n",
       "      <th>Title</th>\n",
       "      <th>Article</th>\n",
       "    </tr>\n",
       "  </thead>\n",
       "  <tbody>\n",
       "    <tr>\n",
       "      <th>40696</th>\n",
       "      <td>4</td>\n",
       "      <td>Virgin seeks slice of net music</td>\n",
       "      <td>Virgin becomes one of the first major music re...</td>\n",
       "    </tr>\n",
       "    <tr>\n",
       "      <th>75663</th>\n",
       "      <td>3</td>\n",
       "      <td>Delta pilots agreed on cost saving package</td>\n",
       "      <td>On Wednesday, Delta pilots agreed on cost savi...</td>\n",
       "    </tr>\n",
       "    <tr>\n",
       "      <th>1461</th>\n",
       "      <td>4</td>\n",
       "      <td>Rival Targets Apple's ITunes Music Customers</td>\n",
       "      <td>By ALEX VEIGA    LOS ANGELES (AP) -- For more ...</td>\n",
       "    </tr>\n",
       "    <tr>\n",
       "      <th>42323</th>\n",
       "      <td>2</td>\n",
       "      <td>Red Sox Clinch 2nd Straight Playoff Berth (AP)</td>\n",
       "      <td>AP - The Boston Red Sox clinched a playoff ber...</td>\n",
       "    </tr>\n",
       "    <tr>\n",
       "      <th>33537</th>\n",
       "      <td>3</td>\n",
       "      <td>Samsung Develops First 60-Nanometer 8-GB NAND ...</td>\n",
       "      <td>Samsung #39;s advanced 60nm process technology...</td>\n",
       "    </tr>\n",
       "  </tbody>\n",
       "</table>\n",
       "</div>"
      ],
      "text/plain": [
       "       Label                                              Title  \\\n",
       "40696      4                    Virgin seeks slice of net music   \n",
       "75663      3         Delta pilots agreed on cost saving package   \n",
       "1461       4       Rival Targets Apple's ITunes Music Customers   \n",
       "42323      2     Red Sox Clinch 2nd Straight Playoff Berth (AP)   \n",
       "33537      3  Samsung Develops First 60-Nanometer 8-GB NAND ...   \n",
       "\n",
       "                                                 Article  \n",
       "40696  Virgin becomes one of the first major music re...  \n",
       "75663  On Wednesday, Delta pilots agreed on cost savi...  \n",
       "1461   By ALEX VEIGA    LOS ANGELES (AP) -- For more ...  \n",
       "42323  AP - The Boston Red Sox clinched a playoff ber...  \n",
       "33537  Samsung #39;s advanced 60nm process technology...  "
      ]
     },
     "execution_count": 2,
     "metadata": {},
     "output_type": "execute_result"
    }
   ],
   "source": [
    "train, test = train_test_split(sample, test_size = 0.35, random_state = 1337)\n",
    "print(train.shape)\n",
    "print(test.shape)\n",
    "train.head()"
   ]
  },
  {
   "cell_type": "markdown",
   "id": "736cb8f5-3c0b-4a93-b207-e66e6022c5bc",
   "metadata": {},
   "source": [
    "### Creating the word count matrices\n",
    "\n",
    "Notice that we will not fit_transform the test data but apply the same transformation that we use for the training data."
   ]
  },
  {
   "cell_type": "code",
   "execution_count": 3,
   "id": "e50b0510-2c09-4ec6-9e28-b2a8933197e5",
   "metadata": {},
   "outputs": [
    {
     "name": "stdout",
     "output_type": "stream",
     "text": [
      "(65, 1043)\n",
      "(35, 1043)\n",
      "(1043,)\n"
     ]
    }
   ],
   "source": [
    "labels_train = [classes_en[int(row[\"Label\"])] for i, row in train.iterrows()]\n",
    "docs_train = [row[\"Article\"] for i, row in train.iterrows()]\n",
    "labels_test = [classes_en[int(row[\"Label\"])] for i, row in test.iterrows()]\n",
    "docs_test = [row[\"Article\"] for i, row in test.iterrows()]\n",
    "\n",
    "from nltk.corpus import stopwords as nltkStopwords\n",
    "from sklearn.feature_extraction.text import CountVectorizer\n",
    "\n",
    "stopwords_en = list(nltkStopwords.words(\"english\"))\n",
    "count_vectorizer = CountVectorizer(strip_accents = \"unicode\",\n",
    "                                   stop_words = stopwords_en)\n",
    "\n",
    "X_train = count_vectorizer.fit_transform(docs_train)\n",
    "X_test = count_vectorizer.transform(docs_test)\n",
    "counts_features_names = count_vectorizer.get_feature_names_out()\n",
    "print(X_train.shape)\n",
    "print(X_test.shape)\n",
    "print(counts_features_names.shape)\n",
    "\n",
    "counts_train = pd.DataFrame(X_train.A, columns = counts_features_names)\n",
    "counts_train[\"Label\"] = labels_train\n",
    "counts_test = pd.DataFrame(X_test.A, columns = counts_features_names)\n",
    "counts_test[\"Label\"] = labels_test"
   ]
  },
  {
   "cell_type": "markdown",
   "id": "a5a0647a-6646-49f8-b9ae-646b2e7aef99",
   "metadata": {},
   "source": [
    "### Use the following function to plot confusion matrices of the predictions"
   ]
  },
  {
   "cell_type": "code",
   "execution_count": 44,
   "id": "e6210175-dbea-4ea8-aacb-b539473c7149",
   "metadata": {},
   "outputs": [],
   "source": [
    "def plot_confusion_matrix(cm, classes, normalize = False, title = \"Confusion matrix\", cmap = plt.cm.Blues):\n",
    "\n",
    "    plt.imshow(cm, interpolation = \"nearest\", cmap = cmap)\n",
    "    plt.title(title)\n",
    "    plt.colorbar()\n",
    "    tick_marks = np.arange(len(classes))\n",
    "    plt.xticks(tick_marks, classes, rotation = 45)\n",
    "    plt.yticks(tick_marks, classes)\n",
    "    \n",
    "    if normalize:\n",
    "        cm = cm.astype(\"float\") / cm.sum(axis = 1)[:, np.newaxis]\n",
    "        print(\"Normalized confusion matrix\")\n",
    "\n",
    "    thresh = cm.max() / 2.\n",
    "    for i, j in itertools.product(range(cm.shape[0]), range(cm.shape[1])):\n",
    "        plt.text(j, i, cm[i, j],\n",
    "                 horizontalalignment = \"center\",\n",
    "                 color=\"white\" if cm[i, j] > thresh else \"black\")\n",
    "\n",
    "    plt.tight_layout()\n",
    "    plt.ylim(len(cm) - 0.5, -0.5)\n",
    "    plt.ylabel(\"True label\")\n",
    "    plt.xlabel(\"Predicted label\")\n",
    "    \n",
    "    return cm"
   ]
  },
  {
   "cell_type": "markdown",
   "id": "e4668bef-ea9c-4356-a4a6-f0896ec4799d",
   "metadata": {},
   "source": [
    "# **Classification**\n",
    "\n",
    "### **Exercise:** Implement a NaiveBayes classifier that follows a lazy-learning approach -> conditional probabilities are not saved but calculated on demand. A class skeleton with documentation is given which you *may* use. But you can also come up with your own approach!\n",
    "\n",
    "**NaiveBayes Classifier Implementation - Documentation:**\n",
    "\n",
    "*class NaiveBayes(data, target, delta=1)*\n",
    "\n",
    "- Parameters:\n",
    "  - data: a pandas dataframe (pandas.DataFrame)\n",
    "  - target: column name of response variable (string)\n",
    "  - delta: Lidstone's Law Succession's delta (int)\n",
    "      - if delta = 0 this corresponds to base NaiveBayes\n",
    "      - if delta = 1 this corresponds to Laplace Estimation\n",
    "      - DEFAULT: 1\n",
    "      \n",
    "*method predict(x, has_target=False)*\n",
    "\n",
    "- Parameters:\n",
    "  - x: a pandas series (pandas.Series)\n",
    "  - has_target: whether or not x is still labeled (bool)\n",
    "    - DEFAULT: False\n",
    "- Return:\n",
    "  - predicted label (int/string)"
   ]
  },
  {
   "cell_type": "code",
   "execution_count": 40,
   "id": "7a629cd5-7444-4b3e-b52a-afcc51657e4c",
   "metadata": {},
   "outputs": [],
   "source": [
    "class NaiveBayes:\n",
    "    \n",
    "    def __init__(self, data, target, delta=1):\n",
    "        self.data = data\n",
    "        self.target = target\n",
    "        self.delta = delta\n",
    "        return\n",
    "    \n",
    "    def predict(self, x, has_target=False):\n",
    "        \n",
    "        data = self.data\n",
    "        target = self.target\n",
    "        delta = self.delta\n",
    "        print(data)\n",
    "        # Implement a function P(C) that returns\n",
    "        # the probability of Class C in the dataset which is\n",
    "        # nr. of rows with C / nr. of rows\n",
    "        # Hint: to get the number of rows of a pandas dataframe use df.shape[0]\n",
    "        def P(C):\n",
    "            return data[data[target] == C].shape[0] / data.shape[0]\n",
    "\n",
    "        \n",
    "        # Implement a function P_conditional(f, F, C) that returns\n",
    "        # the conditional Probability of a Feature f having the value F, given class C which is\n",
    "        # nr. of rows that have both F and C / nr. of rows that have C\n",
    "        # (optionally + delta: (nr. of rows that have both F and C + delta)/(nr. of rows that have C + nr. of unique feature values in f * delta)\n",
    "        # ^ this is called Lidstone's Law Succession and adresses the problem of the probability going to 0 as soon as feature does not occur (very frequently)\n",
    "        def P_conditional(f, F, C):\n",
    "            rows_with_c_and_f = data[(data[target] == C) & (data[F] == f)].shape[0];\n",
    "            rows_with_c = data[data[target] == C].shape[0];\n",
    "            \n",
    "            return rows_with_c_and_f / rows_with_c;\n",
    "            \n",
    "        \n",
    "        # we can retrieve our features like this\n",
    "        features = x.index.tolist()\n",
    "        if has_target:\n",
    "            features.remove(target)\n",
    "            \n",
    "        # res will be our result vector that will consist of tuples of\n",
    "        # C <-> probability\n",
    "        # So the probability the our predicted class is C\n",
    "        # in our case res will be of length 4: World, Sports, Business, Sci/Tech\n",
    "        # and each class will be associated with a probability\n",
    "        res = []\n",
    "        \n",
    "        # The Conditional Probability of class C given features f\n",
    "        # = Product of Probability of Class C and all Conditional Probabilities F of f given C\n",
    "        # for class in classes\n",
    "        for C_i in data[target].unique().tolist():\n",
    "            # calculate the probability of class C\n",
    "            r = P(C_i)\n",
    "            \n",
    "            # multiply the above probability of class C with the Conditional Probability of Feature f having the value F, given class C for every feature\n",
    "            for f in features:\n",
    "                r = r * P_conditional(x.loc[f], f, C_i)\n",
    "                \n",
    "            res.append((r, C_i))\n",
    "        \n",
    "        # Predict class C that has highest Probability\n",
    "        res.sort(key=lambda x: x[0], reverse=True)\n",
    "        argmax = res[0][1]\n",
    "        \n",
    "        return argmax"
   ]
  },
  {
   "cell_type": "code",
   "execution_count": 41,
   "id": "2df90bb9-24d7-4590-a843-a286b6da0b2c",
   "metadata": {},
   "outputs": [],
   "source": [
    "NB = NaiveBayes(data = counts_train, target = \"Label\", delta = 1)"
   ]
  },
  {
   "cell_type": "markdown",
   "id": "6c4e02ac-2fd5-485c-b623-a12df97e52d3",
   "metadata": {},
   "source": [
    "### Evaluate your implementation on the training data..."
   ]
  },
  {
   "cell_type": "code",
   "execution_count": 42,
   "id": "876ef0d7-7837-4ba8-94ea-9bc890762e62",
   "metadata": {},
   "outputs": [
    {
     "name": "stderr",
     "output_type": "stream",
     "text": [
      "progress bar:   0%|                                                    | 0/65 [00:00<?, ?it/s]"
     ]
    },
    {
     "name": "stdout",
     "output_type": "stream",
     "text": [
      "    000  08  10  100  11  12th  15  16  18  1904  ...  www  yasir  yasser  \\\n",
      "0     0   0   0    0   0     0   0   0   0     0  ...    0      0       0   \n",
      "1     0   0   0    0   1     0   0   0   0     0  ...    0      0       0   \n",
      "2     0   0   0    0   0     0   0   0   0     0  ...    0      0       0   \n",
      "3     0   0   0    0   0     0   0   0   0     0  ...    0      0       0   \n",
      "4     0   0   0    0   0     0   0   0   0     0  ...    0      0       0   \n",
      "..  ...  ..  ..  ...  ..   ...  ..  ..  ..   ...  ...  ...    ...     ...   \n",
      "60    0   0   0    0   0     0   0   0   0     0  ...    0      0       0   \n",
      "61    0   0   0    0   0     0   0   0   0     0  ...    0      0       0   \n",
      "62    0   0   0    0   0     0   0   0   1     0  ...    0      0       0   \n",
      "63    0   0   0    0   0     0   0   0   0     0  ...    0      0       0   \n",
      "64    0   0   0    0   0     0   0   0   0     0  ...    0      0       0   \n",
      "\n",
      "    year  years  yes  yielding  york  zurich     Label  \n",
      "0      0      0    0         0     0       0  Sci/Tech  \n",
      "1      0      0    0         0     0       0  Business  \n",
      "2      1      0    0         0     0       0  Sci/Tech  \n",
      "3      0      0    0         0     0       0    Sports  \n",
      "4      1      0    0         0     0       0  Business  \n",
      "..   ...    ...  ...       ...   ...     ...       ...  \n",
      "60     0      0    0         0     0       0  Business  \n",
      "61     0      0    0         0     0       0    Sports  \n",
      "62     0      0    0         0     0       0     World  \n",
      "63     0      0    0         0     0       0  Business  \n",
      "64     0      0    0         0     0       0     World  \n",
      "\n",
      "[65 rows x 1044 columns]\n"
     ]
    },
    {
     "name": "stderr",
     "output_type": "stream",
     "text": [
      "progress bar:   3%|█▎                                          | 2/65 [00:01<01:02,  1.01it/s]"
     ]
    },
    {
     "name": "stdout",
     "output_type": "stream",
     "text": [
      "    000  08  10  100  11  12th  15  16  18  1904  ...  www  yasir  yasser  \\\n",
      "0     0   0   0    0   0     0   0   0   0     0  ...    0      0       0   \n",
      "1     0   0   0    0   1     0   0   0   0     0  ...    0      0       0   \n",
      "2     0   0   0    0   0     0   0   0   0     0  ...    0      0       0   \n",
      "3     0   0   0    0   0     0   0   0   0     0  ...    0      0       0   \n",
      "4     0   0   0    0   0     0   0   0   0     0  ...    0      0       0   \n",
      "..  ...  ..  ..  ...  ..   ...  ..  ..  ..   ...  ...  ...    ...     ...   \n",
      "60    0   0   0    0   0     0   0   0   0     0  ...    0      0       0   \n",
      "61    0   0   0    0   0     0   0   0   0     0  ...    0      0       0   \n",
      "62    0   0   0    0   0     0   0   0   1     0  ...    0      0       0   \n",
      "63    0   0   0    0   0     0   0   0   0     0  ...    0      0       0   \n",
      "64    0   0   0    0   0     0   0   0   0     0  ...    0      0       0   \n",
      "\n",
      "    year  years  yes  yielding  york  zurich     Label  \n",
      "0      0      0    0         0     0       0  Sci/Tech  \n",
      "1      0      0    0         0     0       0  Business  \n",
      "2      1      0    0         0     0       0  Sci/Tech  \n",
      "3      0      0    0         0     0       0    Sports  \n",
      "4      1      0    0         0     0       0  Business  \n",
      "..   ...    ...  ...       ...   ...     ...       ...  \n",
      "60     0      0    0         0     0       0  Business  \n",
      "61     0      0    0         0     0       0    Sports  \n",
      "62     0      0    0         0     0       0     World  \n",
      "63     0      0    0         0     0       0  Business  \n",
      "64     0      0    0         0     0       0     World  \n",
      "\n",
      "[65 rows x 1044 columns]\n"
     ]
    },
    {
     "name": "stderr",
     "output_type": "stream",
     "text": [
      "progress bar:   5%|██                                          | 3/65 [00:03<01:24,  1.36s/it]"
     ]
    },
    {
     "name": "stdout",
     "output_type": "stream",
     "text": [
      "    000  08  10  100  11  12th  15  16  18  1904  ...  www  yasir  yasser  \\\n",
      "0     0   0   0    0   0     0   0   0   0     0  ...    0      0       0   \n",
      "1     0   0   0    0   1     0   0   0   0     0  ...    0      0       0   \n",
      "2     0   0   0    0   0     0   0   0   0     0  ...    0      0       0   \n",
      "3     0   0   0    0   0     0   0   0   0     0  ...    0      0       0   \n",
      "4     0   0   0    0   0     0   0   0   0     0  ...    0      0       0   \n",
      "..  ...  ..  ..  ...  ..   ...  ..  ..  ..   ...  ...  ...    ...     ...   \n",
      "60    0   0   0    0   0     0   0   0   0     0  ...    0      0       0   \n",
      "61    0   0   0    0   0     0   0   0   0     0  ...    0      0       0   \n",
      "62    0   0   0    0   0     0   0   0   1     0  ...    0      0       0   \n",
      "63    0   0   0    0   0     0   0   0   0     0  ...    0      0       0   \n",
      "64    0   0   0    0   0     0   0   0   0     0  ...    0      0       0   \n",
      "\n",
      "    year  years  yes  yielding  york  zurich     Label  \n",
      "0      0      0    0         0     0       0  Sci/Tech  \n",
      "1      0      0    0         0     0       0  Business  \n",
      "2      1      0    0         0     0       0  Sci/Tech  \n",
      "3      0      0    0         0     0       0    Sports  \n",
      "4      1      0    0         0     0       0  Business  \n",
      "..   ...    ...  ...       ...   ...     ...       ...  \n",
      "60     0      0    0         0     0       0  Business  \n",
      "61     0      0    0         0     0       0    Sports  \n",
      "62     0      0    0         0     0       0     World  \n",
      "63     0      0    0         0     0       0  Business  \n",
      "64     0      0    0         0     0       0     World  \n",
      "\n",
      "[65 rows x 1044 columns]\n"
     ]
    },
    {
     "name": "stderr",
     "output_type": "stream",
     "text": [
      "progress bar:   6%|██▋                                         | 4/65 [00:05<01:34,  1.56s/it]"
     ]
    },
    {
     "name": "stdout",
     "output_type": "stream",
     "text": [
      "    000  08  10  100  11  12th  15  16  18  1904  ...  www  yasir  yasser  \\\n",
      "0     0   0   0    0   0     0   0   0   0     0  ...    0      0       0   \n",
      "1     0   0   0    0   1     0   0   0   0     0  ...    0      0       0   \n",
      "2     0   0   0    0   0     0   0   0   0     0  ...    0      0       0   \n",
      "3     0   0   0    0   0     0   0   0   0     0  ...    0      0       0   \n",
      "4     0   0   0    0   0     0   0   0   0     0  ...    0      0       0   \n",
      "..  ...  ..  ..  ...  ..   ...  ..  ..  ..   ...  ...  ...    ...     ...   \n",
      "60    0   0   0    0   0     0   0   0   0     0  ...    0      0       0   \n",
      "61    0   0   0    0   0     0   0   0   0     0  ...    0      0       0   \n",
      "62    0   0   0    0   0     0   0   0   1     0  ...    0      0       0   \n",
      "63    0   0   0    0   0     0   0   0   0     0  ...    0      0       0   \n",
      "64    0   0   0    0   0     0   0   0   0     0  ...    0      0       0   \n",
      "\n",
      "    year  years  yes  yielding  york  zurich     Label  \n",
      "0      0      0    0         0     0       0  Sci/Tech  \n",
      "1      0      0    0         0     0       0  Business  \n",
      "2      1      0    0         0     0       0  Sci/Tech  \n",
      "3      0      0    0         0     0       0    Sports  \n",
      "4      1      0    0         0     0       0  Business  \n",
      "..   ...    ...  ...       ...   ...     ...       ...  \n",
      "60     0      0    0         0     0       0  Business  \n",
      "61     0      0    0         0     0       0    Sports  \n",
      "62     0      0    0         0     0       0     World  \n",
      "63     0      0    0         0     0       0  Business  \n",
      "64     0      0    0         0     0       0     World  \n",
      "\n",
      "[65 rows x 1044 columns]\n"
     ]
    },
    {
     "name": "stderr",
     "output_type": "stream",
     "text": [
      "progress bar:   8%|███▍                                        | 5/65 [00:07<01:39,  1.66s/it]"
     ]
    },
    {
     "name": "stdout",
     "output_type": "stream",
     "text": [
      "    000  08  10  100  11  12th  15  16  18  1904  ...  www  yasir  yasser  \\\n",
      "0     0   0   0    0   0     0   0   0   0     0  ...    0      0       0   \n",
      "1     0   0   0    0   1     0   0   0   0     0  ...    0      0       0   \n",
      "2     0   0   0    0   0     0   0   0   0     0  ...    0      0       0   \n",
      "3     0   0   0    0   0     0   0   0   0     0  ...    0      0       0   \n",
      "4     0   0   0    0   0     0   0   0   0     0  ...    0      0       0   \n",
      "..  ...  ..  ..  ...  ..   ...  ..  ..  ..   ...  ...  ...    ...     ...   \n",
      "60    0   0   0    0   0     0   0   0   0     0  ...    0      0       0   \n",
      "61    0   0   0    0   0     0   0   0   0     0  ...    0      0       0   \n",
      "62    0   0   0    0   0     0   0   0   1     0  ...    0      0       0   \n",
      "63    0   0   0    0   0     0   0   0   0     0  ...    0      0       0   \n",
      "64    0   0   0    0   0     0   0   0   0     0  ...    0      0       0   \n",
      "\n",
      "    year  years  yes  yielding  york  zurich     Label  \n",
      "0      0      0    0         0     0       0  Sci/Tech  \n",
      "1      0      0    0         0     0       0  Business  \n",
      "2      1      0    0         0     0       0  Sci/Tech  \n",
      "3      0      0    0         0     0       0    Sports  \n",
      "4      1      0    0         0     0       0  Business  \n",
      "..   ...    ...  ...       ...   ...     ...       ...  \n",
      "60     0      0    0         0     0       0  Business  \n",
      "61     0      0    0         0     0       0    Sports  \n",
      "62     0      0    0         0     0       0     World  \n",
      "63     0      0    0         0     0       0  Business  \n",
      "64     0      0    0         0     0       0     World  \n",
      "\n",
      "[65 rows x 1044 columns]\n"
     ]
    },
    {
     "name": "stderr",
     "output_type": "stream",
     "text": [
      "progress bar:   9%|████                                        | 6/65 [00:09<01:41,  1.73s/it]"
     ]
    },
    {
     "name": "stdout",
     "output_type": "stream",
     "text": [
      "    000  08  10  100  11  12th  15  16  18  1904  ...  www  yasir  yasser  \\\n",
      "0     0   0   0    0   0     0   0   0   0     0  ...    0      0       0   \n",
      "1     0   0   0    0   1     0   0   0   0     0  ...    0      0       0   \n",
      "2     0   0   0    0   0     0   0   0   0     0  ...    0      0       0   \n",
      "3     0   0   0    0   0     0   0   0   0     0  ...    0      0       0   \n",
      "4     0   0   0    0   0     0   0   0   0     0  ...    0      0       0   \n",
      "..  ...  ..  ..  ...  ..   ...  ..  ..  ..   ...  ...  ...    ...     ...   \n",
      "60    0   0   0    0   0     0   0   0   0     0  ...    0      0       0   \n",
      "61    0   0   0    0   0     0   0   0   0     0  ...    0      0       0   \n",
      "62    0   0   0    0   0     0   0   0   1     0  ...    0      0       0   \n",
      "63    0   0   0    0   0     0   0   0   0     0  ...    0      0       0   \n",
      "64    0   0   0    0   0     0   0   0   0     0  ...    0      0       0   \n",
      "\n",
      "    year  years  yes  yielding  york  zurich     Label  \n",
      "0      0      0    0         0     0       0  Sci/Tech  \n",
      "1      0      0    0         0     0       0  Business  \n",
      "2      1      0    0         0     0       0  Sci/Tech  \n",
      "3      0      0    0         0     0       0    Sports  \n",
      "4      1      0    0         0     0       0  Business  \n",
      "..   ...    ...  ...       ...   ...     ...       ...  \n",
      "60     0      0    0         0     0       0  Business  \n",
      "61     0      0    0         0     0       0    Sports  \n",
      "62     0      0    0         0     0       0     World  \n",
      "63     0      0    0         0     0       0  Business  \n",
      "64     0      0    0         0     0       0     World  \n",
      "\n",
      "[65 rows x 1044 columns]\n"
     ]
    },
    {
     "name": "stderr",
     "output_type": "stream",
     "text": [
      "progress bar:  11%|████▋                                       | 7/65 [00:11<01:42,  1.77s/it]"
     ]
    },
    {
     "name": "stdout",
     "output_type": "stream",
     "text": [
      "    000  08  10  100  11  12th  15  16  18  1904  ...  www  yasir  yasser  \\\n",
      "0     0   0   0    0   0     0   0   0   0     0  ...    0      0       0   \n",
      "1     0   0   0    0   1     0   0   0   0     0  ...    0      0       0   \n",
      "2     0   0   0    0   0     0   0   0   0     0  ...    0      0       0   \n",
      "3     0   0   0    0   0     0   0   0   0     0  ...    0      0       0   \n",
      "4     0   0   0    0   0     0   0   0   0     0  ...    0      0       0   \n",
      "..  ...  ..  ..  ...  ..   ...  ..  ..  ..   ...  ...  ...    ...     ...   \n",
      "60    0   0   0    0   0     0   0   0   0     0  ...    0      0       0   \n",
      "61    0   0   0    0   0     0   0   0   0     0  ...    0      0       0   \n",
      "62    0   0   0    0   0     0   0   0   1     0  ...    0      0       0   \n",
      "63    0   0   0    0   0     0   0   0   0     0  ...    0      0       0   \n",
      "64    0   0   0    0   0     0   0   0   0     0  ...    0      0       0   \n",
      "\n",
      "    year  years  yes  yielding  york  zurich     Label  \n",
      "0      0      0    0         0     0       0  Sci/Tech  \n",
      "1      0      0    0         0     0       0  Business  \n",
      "2      1      0    0         0     0       0  Sci/Tech  \n",
      "3      0      0    0         0     0       0    Sports  \n",
      "4      1      0    0         0     0       0  Business  \n",
      "..   ...    ...  ...       ...   ...     ...       ...  \n",
      "60     0      0    0         0     0       0  Business  \n",
      "61     0      0    0         0     0       0    Sports  \n",
      "62     0      0    0         0     0       0     World  \n",
      "63     0      0    0         0     0       0  Business  \n",
      "64     0      0    0         0     0       0     World  \n",
      "\n",
      "[65 rows x 1044 columns]\n"
     ]
    },
    {
     "name": "stderr",
     "output_type": "stream",
     "text": [
      "progress bar:  12%|█████▍                                      | 8/65 [00:13<01:44,  1.83s/it]"
     ]
    },
    {
     "name": "stdout",
     "output_type": "stream",
     "text": [
      "    000  08  10  100  11  12th  15  16  18  1904  ...  www  yasir  yasser  \\\n",
      "0     0   0   0    0   0     0   0   0   0     0  ...    0      0       0   \n",
      "1     0   0   0    0   1     0   0   0   0     0  ...    0      0       0   \n",
      "2     0   0   0    0   0     0   0   0   0     0  ...    0      0       0   \n",
      "3     0   0   0    0   0     0   0   0   0     0  ...    0      0       0   \n",
      "4     0   0   0    0   0     0   0   0   0     0  ...    0      0       0   \n",
      "..  ...  ..  ..  ...  ..   ...  ..  ..  ..   ...  ...  ...    ...     ...   \n",
      "60    0   0   0    0   0     0   0   0   0     0  ...    0      0       0   \n",
      "61    0   0   0    0   0     0   0   0   0     0  ...    0      0       0   \n",
      "62    0   0   0    0   0     0   0   0   1     0  ...    0      0       0   \n",
      "63    0   0   0    0   0     0   0   0   0     0  ...    0      0       0   \n",
      "64    0   0   0    0   0     0   0   0   0     0  ...    0      0       0   \n",
      "\n",
      "    year  years  yes  yielding  york  zurich     Label  \n",
      "0      0      0    0         0     0       0  Sci/Tech  \n",
      "1      0      0    0         0     0       0  Business  \n",
      "2      1      0    0         0     0       0  Sci/Tech  \n",
      "3      0      0    0         0     0       0    Sports  \n",
      "4      1      0    0         0     0       0  Business  \n",
      "..   ...    ...  ...       ...   ...     ...       ...  \n",
      "60     0      0    0         0     0       0  Business  \n",
      "61     0      0    0         0     0       0    Sports  \n",
      "62     0      0    0         0     0       0     World  \n",
      "63     0      0    0         0     0       0  Business  \n",
      "64     0      0    0         0     0       0     World  \n",
      "\n",
      "[65 rows x 1044 columns]\n"
     ]
    },
    {
     "name": "stderr",
     "output_type": "stream",
     "text": [
      "progress bar:  14%|██████                                      | 9/65 [00:15<01:43,  1.84s/it]"
     ]
    },
    {
     "name": "stdout",
     "output_type": "stream",
     "text": [
      "    000  08  10  100  11  12th  15  16  18  1904  ...  www  yasir  yasser  \\\n",
      "0     0   0   0    0   0     0   0   0   0     0  ...    0      0       0   \n",
      "1     0   0   0    0   1     0   0   0   0     0  ...    0      0       0   \n",
      "2     0   0   0    0   0     0   0   0   0     0  ...    0      0       0   \n",
      "3     0   0   0    0   0     0   0   0   0     0  ...    0      0       0   \n",
      "4     0   0   0    0   0     0   0   0   0     0  ...    0      0       0   \n",
      "..  ...  ..  ..  ...  ..   ...  ..  ..  ..   ...  ...  ...    ...     ...   \n",
      "60    0   0   0    0   0     0   0   0   0     0  ...    0      0       0   \n",
      "61    0   0   0    0   0     0   0   0   0     0  ...    0      0       0   \n",
      "62    0   0   0    0   0     0   0   0   1     0  ...    0      0       0   \n",
      "63    0   0   0    0   0     0   0   0   0     0  ...    0      0       0   \n",
      "64    0   0   0    0   0     0   0   0   0     0  ...    0      0       0   \n",
      "\n",
      "    year  years  yes  yielding  york  zurich     Label  \n",
      "0      0      0    0         0     0       0  Sci/Tech  \n",
      "1      0      0    0         0     0       0  Business  \n",
      "2      1      0    0         0     0       0  Sci/Tech  \n",
      "3      0      0    0         0     0       0    Sports  \n",
      "4      1      0    0         0     0       0  Business  \n",
      "..   ...    ...  ...       ...   ...     ...       ...  \n",
      "60     0      0    0         0     0       0  Business  \n",
      "61     0      0    0         0     0       0    Sports  \n",
      "62     0      0    0         0     0       0     World  \n",
      "63     0      0    0         0     0       0  Business  \n",
      "64     0      0    0         0     0       0     World  \n",
      "\n",
      "[65 rows x 1044 columns]\n"
     ]
    },
    {
     "name": "stderr",
     "output_type": "stream",
     "text": [
      "progress bar:  15%|██████▌                                    | 10/65 [00:17<01:41,  1.85s/it]"
     ]
    },
    {
     "name": "stdout",
     "output_type": "stream",
     "text": [
      "    000  08  10  100  11  12th  15  16  18  1904  ...  www  yasir  yasser  \\\n",
      "0     0   0   0    0   0     0   0   0   0     0  ...    0      0       0   \n",
      "1     0   0   0    0   1     0   0   0   0     0  ...    0      0       0   \n",
      "2     0   0   0    0   0     0   0   0   0     0  ...    0      0       0   \n",
      "3     0   0   0    0   0     0   0   0   0     0  ...    0      0       0   \n",
      "4     0   0   0    0   0     0   0   0   0     0  ...    0      0       0   \n",
      "..  ...  ..  ..  ...  ..   ...  ..  ..  ..   ...  ...  ...    ...     ...   \n",
      "60    0   0   0    0   0     0   0   0   0     0  ...    0      0       0   \n",
      "61    0   0   0    0   0     0   0   0   0     0  ...    0      0       0   \n",
      "62    0   0   0    0   0     0   0   0   1     0  ...    0      0       0   \n",
      "63    0   0   0    0   0     0   0   0   0     0  ...    0      0       0   \n",
      "64    0   0   0    0   0     0   0   0   0     0  ...    0      0       0   \n",
      "\n",
      "    year  years  yes  yielding  york  zurich     Label  \n",
      "0      0      0    0         0     0       0  Sci/Tech  \n",
      "1      0      0    0         0     0       0  Business  \n",
      "2      1      0    0         0     0       0  Sci/Tech  \n",
      "3      0      0    0         0     0       0    Sports  \n",
      "4      1      0    0         0     0       0  Business  \n",
      "..   ...    ...  ...       ...   ...     ...       ...  \n",
      "60     0      0    0         0     0       0  Business  \n",
      "61     0      0    0         0     0       0    Sports  \n",
      "62     0      0    0         0     0       0     World  \n",
      "63     0      0    0         0     0       0  Business  \n",
      "64     0      0    0         0     0       0     World  \n",
      "\n",
      "[65 rows x 1044 columns]\n"
     ]
    },
    {
     "name": "stderr",
     "output_type": "stream",
     "text": [
      "progress bar:  17%|███████▎                                   | 11/65 [00:18<01:40,  1.85s/it]"
     ]
    },
    {
     "name": "stdout",
     "output_type": "stream",
     "text": [
      "    000  08  10  100  11  12th  15  16  18  1904  ...  www  yasir  yasser  \\\n",
      "0     0   0   0    0   0     0   0   0   0     0  ...    0      0       0   \n",
      "1     0   0   0    0   1     0   0   0   0     0  ...    0      0       0   \n",
      "2     0   0   0    0   0     0   0   0   0     0  ...    0      0       0   \n",
      "3     0   0   0    0   0     0   0   0   0     0  ...    0      0       0   \n",
      "4     0   0   0    0   0     0   0   0   0     0  ...    0      0       0   \n",
      "..  ...  ..  ..  ...  ..   ...  ..  ..  ..   ...  ...  ...    ...     ...   \n",
      "60    0   0   0    0   0     0   0   0   0     0  ...    0      0       0   \n",
      "61    0   0   0    0   0     0   0   0   0     0  ...    0      0       0   \n",
      "62    0   0   0    0   0     0   0   0   1     0  ...    0      0       0   \n",
      "63    0   0   0    0   0     0   0   0   0     0  ...    0      0       0   \n",
      "64    0   0   0    0   0     0   0   0   0     0  ...    0      0       0   \n",
      "\n",
      "    year  years  yes  yielding  york  zurich     Label  \n",
      "0      0      0    0         0     0       0  Sci/Tech  \n",
      "1      0      0    0         0     0       0  Business  \n",
      "2      1      0    0         0     0       0  Sci/Tech  \n",
      "3      0      0    0         0     0       0    Sports  \n",
      "4      1      0    0         0     0       0  Business  \n",
      "..   ...    ...  ...       ...   ...     ...       ...  \n",
      "60     0      0    0         0     0       0  Business  \n",
      "61     0      0    0         0     0       0    Sports  \n",
      "62     0      0    0         0     0       0     World  \n",
      "63     0      0    0         0     0       0  Business  \n",
      "64     0      0    0         0     0       0     World  \n",
      "\n",
      "[65 rows x 1044 columns]\n"
     ]
    },
    {
     "name": "stderr",
     "output_type": "stream",
     "text": [
      "progress bar:  18%|███████▉                                   | 12/65 [00:20<01:39,  1.87s/it]"
     ]
    },
    {
     "name": "stdout",
     "output_type": "stream",
     "text": [
      "    000  08  10  100  11  12th  15  16  18  1904  ...  www  yasir  yasser  \\\n",
      "0     0   0   0    0   0     0   0   0   0     0  ...    0      0       0   \n",
      "1     0   0   0    0   1     0   0   0   0     0  ...    0      0       0   \n",
      "2     0   0   0    0   0     0   0   0   0     0  ...    0      0       0   \n",
      "3     0   0   0    0   0     0   0   0   0     0  ...    0      0       0   \n",
      "4     0   0   0    0   0     0   0   0   0     0  ...    0      0       0   \n",
      "..  ...  ..  ..  ...  ..   ...  ..  ..  ..   ...  ...  ...    ...     ...   \n",
      "60    0   0   0    0   0     0   0   0   0     0  ...    0      0       0   \n",
      "61    0   0   0    0   0     0   0   0   0     0  ...    0      0       0   \n",
      "62    0   0   0    0   0     0   0   0   1     0  ...    0      0       0   \n",
      "63    0   0   0    0   0     0   0   0   0     0  ...    0      0       0   \n",
      "64    0   0   0    0   0     0   0   0   0     0  ...    0      0       0   \n",
      "\n",
      "    year  years  yes  yielding  york  zurich     Label  \n",
      "0      0      0    0         0     0       0  Sci/Tech  \n",
      "1      0      0    0         0     0       0  Business  \n",
      "2      1      0    0         0     0       0  Sci/Tech  \n",
      "3      0      0    0         0     0       0    Sports  \n",
      "4      1      0    0         0     0       0  Business  \n",
      "..   ...    ...  ...       ...   ...     ...       ...  \n",
      "60     0      0    0         0     0       0  Business  \n",
      "61     0      0    0         0     0       0    Sports  \n",
      "62     0      0    0         0     0       0     World  \n",
      "63     0      0    0         0     0       0  Business  \n",
      "64     0      0    0         0     0       0     World  \n",
      "\n",
      "[65 rows x 1044 columns]\n"
     ]
    },
    {
     "name": "stderr",
     "output_type": "stream",
     "text": [
      "progress bar:  20%|████████▌                                  | 13/65 [00:22<01:37,  1.87s/it]"
     ]
    },
    {
     "name": "stdout",
     "output_type": "stream",
     "text": [
      "    000  08  10  100  11  12th  15  16  18  1904  ...  www  yasir  yasser  \\\n",
      "0     0   0   0    0   0     0   0   0   0     0  ...    0      0       0   \n",
      "1     0   0   0    0   1     0   0   0   0     0  ...    0      0       0   \n",
      "2     0   0   0    0   0     0   0   0   0     0  ...    0      0       0   \n",
      "3     0   0   0    0   0     0   0   0   0     0  ...    0      0       0   \n",
      "4     0   0   0    0   0     0   0   0   0     0  ...    0      0       0   \n",
      "..  ...  ..  ..  ...  ..   ...  ..  ..  ..   ...  ...  ...    ...     ...   \n",
      "60    0   0   0    0   0     0   0   0   0     0  ...    0      0       0   \n",
      "61    0   0   0    0   0     0   0   0   0     0  ...    0      0       0   \n",
      "62    0   0   0    0   0     0   0   0   1     0  ...    0      0       0   \n",
      "63    0   0   0    0   0     0   0   0   0     0  ...    0      0       0   \n",
      "64    0   0   0    0   0     0   0   0   0     0  ...    0      0       0   \n",
      "\n",
      "    year  years  yes  yielding  york  zurich     Label  \n",
      "0      0      0    0         0     0       0  Sci/Tech  \n",
      "1      0      0    0         0     0       0  Business  \n",
      "2      1      0    0         0     0       0  Sci/Tech  \n",
      "3      0      0    0         0     0       0    Sports  \n",
      "4      1      0    0         0     0       0  Business  \n",
      "..   ...    ...  ...       ...   ...     ...       ...  \n",
      "60     0      0    0         0     0       0  Business  \n",
      "61     0      0    0         0     0       0    Sports  \n",
      "62     0      0    0         0     0       0     World  \n",
      "63     0      0    0         0     0       0  Business  \n",
      "64     0      0    0         0     0       0     World  \n",
      "\n",
      "[65 rows x 1044 columns]\n"
     ]
    },
    {
     "name": "stderr",
     "output_type": "stream",
     "text": [
      "progress bar:  22%|█████████▎                                 | 14/65 [00:24<01:36,  1.90s/it]"
     ]
    },
    {
     "name": "stdout",
     "output_type": "stream",
     "text": [
      "    000  08  10  100  11  12th  15  16  18  1904  ...  www  yasir  yasser  \\\n",
      "0     0   0   0    0   0     0   0   0   0     0  ...    0      0       0   \n",
      "1     0   0   0    0   1     0   0   0   0     0  ...    0      0       0   \n",
      "2     0   0   0    0   0     0   0   0   0     0  ...    0      0       0   \n",
      "3     0   0   0    0   0     0   0   0   0     0  ...    0      0       0   \n",
      "4     0   0   0    0   0     0   0   0   0     0  ...    0      0       0   \n",
      "..  ...  ..  ..  ...  ..   ...  ..  ..  ..   ...  ...  ...    ...     ...   \n",
      "60    0   0   0    0   0     0   0   0   0     0  ...    0      0       0   \n",
      "61    0   0   0    0   0     0   0   0   0     0  ...    0      0       0   \n",
      "62    0   0   0    0   0     0   0   0   1     0  ...    0      0       0   \n",
      "63    0   0   0    0   0     0   0   0   0     0  ...    0      0       0   \n",
      "64    0   0   0    0   0     0   0   0   0     0  ...    0      0       0   \n",
      "\n",
      "    year  years  yes  yielding  york  zurich     Label  \n",
      "0      0      0    0         0     0       0  Sci/Tech  \n",
      "1      0      0    0         0     0       0  Business  \n",
      "2      1      0    0         0     0       0  Sci/Tech  \n",
      "3      0      0    0         0     0       0    Sports  \n",
      "4      1      0    0         0     0       0  Business  \n",
      "..   ...    ...  ...       ...   ...     ...       ...  \n",
      "60     0      0    0         0     0       0  Business  \n",
      "61     0      0    0         0     0       0    Sports  \n",
      "62     0      0    0         0     0       0     World  \n",
      "63     0      0    0         0     0       0  Business  \n",
      "64     0      0    0         0     0       0     World  \n",
      "\n",
      "[65 rows x 1044 columns]\n"
     ]
    },
    {
     "name": "stderr",
     "output_type": "stream",
     "text": [
      "progress bar:  23%|█████████▉                                 | 15/65 [00:26<01:35,  1.90s/it]"
     ]
    },
    {
     "name": "stdout",
     "output_type": "stream",
     "text": [
      "    000  08  10  100  11  12th  15  16  18  1904  ...  www  yasir  yasser  \\\n",
      "0     0   0   0    0   0     0   0   0   0     0  ...    0      0       0   \n",
      "1     0   0   0    0   1     0   0   0   0     0  ...    0      0       0   \n",
      "2     0   0   0    0   0     0   0   0   0     0  ...    0      0       0   \n",
      "3     0   0   0    0   0     0   0   0   0     0  ...    0      0       0   \n",
      "4     0   0   0    0   0     0   0   0   0     0  ...    0      0       0   \n",
      "..  ...  ..  ..  ...  ..   ...  ..  ..  ..   ...  ...  ...    ...     ...   \n",
      "60    0   0   0    0   0     0   0   0   0     0  ...    0      0       0   \n",
      "61    0   0   0    0   0     0   0   0   0     0  ...    0      0       0   \n",
      "62    0   0   0    0   0     0   0   0   1     0  ...    0      0       0   \n",
      "63    0   0   0    0   0     0   0   0   0     0  ...    0      0       0   \n",
      "64    0   0   0    0   0     0   0   0   0     0  ...    0      0       0   \n",
      "\n",
      "    year  years  yes  yielding  york  zurich     Label  \n",
      "0      0      0    0         0     0       0  Sci/Tech  \n",
      "1      0      0    0         0     0       0  Business  \n",
      "2      1      0    0         0     0       0  Sci/Tech  \n",
      "3      0      0    0         0     0       0    Sports  \n",
      "4      1      0    0         0     0       0  Business  \n",
      "..   ...    ...  ...       ...   ...     ...       ...  \n",
      "60     0      0    0         0     0       0  Business  \n",
      "61     0      0    0         0     0       0    Sports  \n",
      "62     0      0    0         0     0       0     World  \n",
      "63     0      0    0         0     0       0  Business  \n",
      "64     0      0    0         0     0       0     World  \n",
      "\n",
      "[65 rows x 1044 columns]\n"
     ]
    },
    {
     "name": "stderr",
     "output_type": "stream",
     "text": [
      "progress bar:  25%|██████████▌                                | 16/65 [00:28<01:33,  1.90s/it]"
     ]
    },
    {
     "name": "stdout",
     "output_type": "stream",
     "text": [
      "    000  08  10  100  11  12th  15  16  18  1904  ...  www  yasir  yasser  \\\n",
      "0     0   0   0    0   0     0   0   0   0     0  ...    0      0       0   \n",
      "1     0   0   0    0   1     0   0   0   0     0  ...    0      0       0   \n",
      "2     0   0   0    0   0     0   0   0   0     0  ...    0      0       0   \n",
      "3     0   0   0    0   0     0   0   0   0     0  ...    0      0       0   \n",
      "4     0   0   0    0   0     0   0   0   0     0  ...    0      0       0   \n",
      "..  ...  ..  ..  ...  ..   ...  ..  ..  ..   ...  ...  ...    ...     ...   \n",
      "60    0   0   0    0   0     0   0   0   0     0  ...    0      0       0   \n",
      "61    0   0   0    0   0     0   0   0   0     0  ...    0      0       0   \n",
      "62    0   0   0    0   0     0   0   0   1     0  ...    0      0       0   \n",
      "63    0   0   0    0   0     0   0   0   0     0  ...    0      0       0   \n",
      "64    0   0   0    0   0     0   0   0   0     0  ...    0      0       0   \n",
      "\n",
      "    year  years  yes  yielding  york  zurich     Label  \n",
      "0      0      0    0         0     0       0  Sci/Tech  \n",
      "1      0      0    0         0     0       0  Business  \n",
      "2      1      0    0         0     0       0  Sci/Tech  \n",
      "3      0      0    0         0     0       0    Sports  \n",
      "4      1      0    0         0     0       0  Business  \n",
      "..   ...    ...  ...       ...   ...     ...       ...  \n",
      "60     0      0    0         0     0       0  Business  \n",
      "61     0      0    0         0     0       0    Sports  \n",
      "62     0      0    0         0     0       0     World  \n",
      "63     0      0    0         0     0       0  Business  \n",
      "64     0      0    0         0     0       0     World  \n",
      "\n",
      "[65 rows x 1044 columns]\n"
     ]
    },
    {
     "name": "stderr",
     "output_type": "stream",
     "text": [
      "progress bar:  26%|███████████▏                               | 17/65 [00:30<01:31,  1.90s/it]"
     ]
    },
    {
     "name": "stdout",
     "output_type": "stream",
     "text": [
      "    000  08  10  100  11  12th  15  16  18  1904  ...  www  yasir  yasser  \\\n",
      "0     0   0   0    0   0     0   0   0   0     0  ...    0      0       0   \n",
      "1     0   0   0    0   1     0   0   0   0     0  ...    0      0       0   \n",
      "2     0   0   0    0   0     0   0   0   0     0  ...    0      0       0   \n",
      "3     0   0   0    0   0     0   0   0   0     0  ...    0      0       0   \n",
      "4     0   0   0    0   0     0   0   0   0     0  ...    0      0       0   \n",
      "..  ...  ..  ..  ...  ..   ...  ..  ..  ..   ...  ...  ...    ...     ...   \n",
      "60    0   0   0    0   0     0   0   0   0     0  ...    0      0       0   \n",
      "61    0   0   0    0   0     0   0   0   0     0  ...    0      0       0   \n",
      "62    0   0   0    0   0     0   0   0   1     0  ...    0      0       0   \n",
      "63    0   0   0    0   0     0   0   0   0     0  ...    0      0       0   \n",
      "64    0   0   0    0   0     0   0   0   0     0  ...    0      0       0   \n",
      "\n",
      "    year  years  yes  yielding  york  zurich     Label  \n",
      "0      0      0    0         0     0       0  Sci/Tech  \n",
      "1      0      0    0         0     0       0  Business  \n",
      "2      1      0    0         0     0       0  Sci/Tech  \n",
      "3      0      0    0         0     0       0    Sports  \n",
      "4      1      0    0         0     0       0  Business  \n",
      "..   ...    ...  ...       ...   ...     ...       ...  \n",
      "60     0      0    0         0     0       0  Business  \n",
      "61     0      0    0         0     0       0    Sports  \n",
      "62     0      0    0         0     0       0     World  \n",
      "63     0      0    0         0     0       0  Business  \n",
      "64     0      0    0         0     0       0     World  \n",
      "\n",
      "[65 rows x 1044 columns]\n"
     ]
    },
    {
     "name": "stderr",
     "output_type": "stream",
     "text": [
      "progress bar:  28%|███████████▉                               | 18/65 [00:32<01:28,  1.89s/it]"
     ]
    },
    {
     "name": "stdout",
     "output_type": "stream",
     "text": [
      "    000  08  10  100  11  12th  15  16  18  1904  ...  www  yasir  yasser  \\\n",
      "0     0   0   0    0   0     0   0   0   0     0  ...    0      0       0   \n",
      "1     0   0   0    0   1     0   0   0   0     0  ...    0      0       0   \n",
      "2     0   0   0    0   0     0   0   0   0     0  ...    0      0       0   \n",
      "3     0   0   0    0   0     0   0   0   0     0  ...    0      0       0   \n",
      "4     0   0   0    0   0     0   0   0   0     0  ...    0      0       0   \n",
      "..  ...  ..  ..  ...  ..   ...  ..  ..  ..   ...  ...  ...    ...     ...   \n",
      "60    0   0   0    0   0     0   0   0   0     0  ...    0      0       0   \n",
      "61    0   0   0    0   0     0   0   0   0     0  ...    0      0       0   \n",
      "62    0   0   0    0   0     0   0   0   1     0  ...    0      0       0   \n",
      "63    0   0   0    0   0     0   0   0   0     0  ...    0      0       0   \n",
      "64    0   0   0    0   0     0   0   0   0     0  ...    0      0       0   \n",
      "\n",
      "    year  years  yes  yielding  york  zurich     Label  \n",
      "0      0      0    0         0     0       0  Sci/Tech  \n",
      "1      0      0    0         0     0       0  Business  \n",
      "2      1      0    0         0     0       0  Sci/Tech  \n",
      "3      0      0    0         0     0       0    Sports  \n",
      "4      1      0    0         0     0       0  Business  \n",
      "..   ...    ...  ...       ...   ...     ...       ...  \n",
      "60     0      0    0         0     0       0  Business  \n",
      "61     0      0    0         0     0       0    Sports  \n",
      "62     0      0    0         0     0       0     World  \n",
      "63     0      0    0         0     0       0  Business  \n",
      "64     0      0    0         0     0       0     World  \n",
      "\n",
      "[65 rows x 1044 columns]\n"
     ]
    },
    {
     "name": "stderr",
     "output_type": "stream",
     "text": [
      "progress bar:  29%|████████████▌                              | 19/65 [00:34<01:26,  1.89s/it]"
     ]
    },
    {
     "name": "stdout",
     "output_type": "stream",
     "text": [
      "    000  08  10  100  11  12th  15  16  18  1904  ...  www  yasir  yasser  \\\n",
      "0     0   0   0    0   0     0   0   0   0     0  ...    0      0       0   \n",
      "1     0   0   0    0   1     0   0   0   0     0  ...    0      0       0   \n",
      "2     0   0   0    0   0     0   0   0   0     0  ...    0      0       0   \n",
      "3     0   0   0    0   0     0   0   0   0     0  ...    0      0       0   \n",
      "4     0   0   0    0   0     0   0   0   0     0  ...    0      0       0   \n",
      "..  ...  ..  ..  ...  ..   ...  ..  ..  ..   ...  ...  ...    ...     ...   \n",
      "60    0   0   0    0   0     0   0   0   0     0  ...    0      0       0   \n",
      "61    0   0   0    0   0     0   0   0   0     0  ...    0      0       0   \n",
      "62    0   0   0    0   0     0   0   0   1     0  ...    0      0       0   \n",
      "63    0   0   0    0   0     0   0   0   0     0  ...    0      0       0   \n",
      "64    0   0   0    0   0     0   0   0   0     0  ...    0      0       0   \n",
      "\n",
      "    year  years  yes  yielding  york  zurich     Label  \n",
      "0      0      0    0         0     0       0  Sci/Tech  \n",
      "1      0      0    0         0     0       0  Business  \n",
      "2      1      0    0         0     0       0  Sci/Tech  \n",
      "3      0      0    0         0     0       0    Sports  \n",
      "4      1      0    0         0     0       0  Business  \n",
      "..   ...    ...  ...       ...   ...     ...       ...  \n",
      "60     0      0    0         0     0       0  Business  \n",
      "61     0      0    0         0     0       0    Sports  \n",
      "62     0      0    0         0     0       0     World  \n",
      "63     0      0    0         0     0       0  Business  \n",
      "64     0      0    0         0     0       0     World  \n",
      "\n",
      "[65 rows x 1044 columns]\n"
     ]
    },
    {
     "name": "stderr",
     "output_type": "stream",
     "text": [
      "progress bar:  31%|█████████████▏                             | 20/65 [00:36<01:25,  1.90s/it]"
     ]
    },
    {
     "name": "stdout",
     "output_type": "stream",
     "text": [
      "    000  08  10  100  11  12th  15  16  18  1904  ...  www  yasir  yasser  \\\n",
      "0     0   0   0    0   0     0   0   0   0     0  ...    0      0       0   \n",
      "1     0   0   0    0   1     0   0   0   0     0  ...    0      0       0   \n",
      "2     0   0   0    0   0     0   0   0   0     0  ...    0      0       0   \n",
      "3     0   0   0    0   0     0   0   0   0     0  ...    0      0       0   \n",
      "4     0   0   0    0   0     0   0   0   0     0  ...    0      0       0   \n",
      "..  ...  ..  ..  ...  ..   ...  ..  ..  ..   ...  ...  ...    ...     ...   \n",
      "60    0   0   0    0   0     0   0   0   0     0  ...    0      0       0   \n",
      "61    0   0   0    0   0     0   0   0   0     0  ...    0      0       0   \n",
      "62    0   0   0    0   0     0   0   0   1     0  ...    0      0       0   \n",
      "63    0   0   0    0   0     0   0   0   0     0  ...    0      0       0   \n",
      "64    0   0   0    0   0     0   0   0   0     0  ...    0      0       0   \n",
      "\n",
      "    year  years  yes  yielding  york  zurich     Label  \n",
      "0      0      0    0         0     0       0  Sci/Tech  \n",
      "1      0      0    0         0     0       0  Business  \n",
      "2      1      0    0         0     0       0  Sci/Tech  \n",
      "3      0      0    0         0     0       0    Sports  \n",
      "4      1      0    0         0     0       0  Business  \n",
      "..   ...    ...  ...       ...   ...     ...       ...  \n",
      "60     0      0    0         0     0       0  Business  \n",
      "61     0      0    0         0     0       0    Sports  \n",
      "62     0      0    0         0     0       0     World  \n",
      "63     0      0    0         0     0       0  Business  \n",
      "64     0      0    0         0     0       0     World  \n",
      "\n",
      "[65 rows x 1044 columns]\n"
     ]
    },
    {
     "name": "stderr",
     "output_type": "stream",
     "text": [
      "progress bar:  32%|█████████████▉                             | 21/65 [00:37<01:23,  1.90s/it]"
     ]
    },
    {
     "name": "stdout",
     "output_type": "stream",
     "text": [
      "    000  08  10  100  11  12th  15  16  18  1904  ...  www  yasir  yasser  \\\n",
      "0     0   0   0    0   0     0   0   0   0     0  ...    0      0       0   \n",
      "1     0   0   0    0   1     0   0   0   0     0  ...    0      0       0   \n",
      "2     0   0   0    0   0     0   0   0   0     0  ...    0      0       0   \n",
      "3     0   0   0    0   0     0   0   0   0     0  ...    0      0       0   \n",
      "4     0   0   0    0   0     0   0   0   0     0  ...    0      0       0   \n",
      "..  ...  ..  ..  ...  ..   ...  ..  ..  ..   ...  ...  ...    ...     ...   \n",
      "60    0   0   0    0   0     0   0   0   0     0  ...    0      0       0   \n",
      "61    0   0   0    0   0     0   0   0   0     0  ...    0      0       0   \n",
      "62    0   0   0    0   0     0   0   0   1     0  ...    0      0       0   \n",
      "63    0   0   0    0   0     0   0   0   0     0  ...    0      0       0   \n",
      "64    0   0   0    0   0     0   0   0   0     0  ...    0      0       0   \n",
      "\n",
      "    year  years  yes  yielding  york  zurich     Label  \n",
      "0      0      0    0         0     0       0  Sci/Tech  \n",
      "1      0      0    0         0     0       0  Business  \n",
      "2      1      0    0         0     0       0  Sci/Tech  \n",
      "3      0      0    0         0     0       0    Sports  \n",
      "4      1      0    0         0     0       0  Business  \n",
      "..   ...    ...  ...       ...   ...     ...       ...  \n",
      "60     0      0    0         0     0       0  Business  \n",
      "61     0      0    0         0     0       0    Sports  \n",
      "62     0      0    0         0     0       0     World  \n",
      "63     0      0    0         0     0       0  Business  \n",
      "64     0      0    0         0     0       0     World  \n",
      "\n",
      "[65 rows x 1044 columns]\n"
     ]
    },
    {
     "name": "stderr",
     "output_type": "stream",
     "text": [
      "progress bar:  34%|██████████████▌                            | 22/65 [00:39<01:21,  1.89s/it]"
     ]
    },
    {
     "name": "stdout",
     "output_type": "stream",
     "text": [
      "    000  08  10  100  11  12th  15  16  18  1904  ...  www  yasir  yasser  \\\n",
      "0     0   0   0    0   0     0   0   0   0     0  ...    0      0       0   \n",
      "1     0   0   0    0   1     0   0   0   0     0  ...    0      0       0   \n",
      "2     0   0   0    0   0     0   0   0   0     0  ...    0      0       0   \n",
      "3     0   0   0    0   0     0   0   0   0     0  ...    0      0       0   \n",
      "4     0   0   0    0   0     0   0   0   0     0  ...    0      0       0   \n",
      "..  ...  ..  ..  ...  ..   ...  ..  ..  ..   ...  ...  ...    ...     ...   \n",
      "60    0   0   0    0   0     0   0   0   0     0  ...    0      0       0   \n",
      "61    0   0   0    0   0     0   0   0   0     0  ...    0      0       0   \n",
      "62    0   0   0    0   0     0   0   0   1     0  ...    0      0       0   \n",
      "63    0   0   0    0   0     0   0   0   0     0  ...    0      0       0   \n",
      "64    0   0   0    0   0     0   0   0   0     0  ...    0      0       0   \n",
      "\n",
      "    year  years  yes  yielding  york  zurich     Label  \n",
      "0      0      0    0         0     0       0  Sci/Tech  \n",
      "1      0      0    0         0     0       0  Business  \n",
      "2      1      0    0         0     0       0  Sci/Tech  \n",
      "3      0      0    0         0     0       0    Sports  \n",
      "4      1      0    0         0     0       0  Business  \n",
      "..   ...    ...  ...       ...   ...     ...       ...  \n",
      "60     0      0    0         0     0       0  Business  \n",
      "61     0      0    0         0     0       0    Sports  \n",
      "62     0      0    0         0     0       0     World  \n",
      "63     0      0    0         0     0       0  Business  \n",
      "64     0      0    0         0     0       0     World  \n",
      "\n",
      "[65 rows x 1044 columns]\n"
     ]
    },
    {
     "name": "stderr",
     "output_type": "stream",
     "text": [
      "progress bar:  35%|███████████████▏                           | 23/65 [00:41<01:19,  1.89s/it]"
     ]
    },
    {
     "name": "stdout",
     "output_type": "stream",
     "text": [
      "    000  08  10  100  11  12th  15  16  18  1904  ...  www  yasir  yasser  \\\n",
      "0     0   0   0    0   0     0   0   0   0     0  ...    0      0       0   \n",
      "1     0   0   0    0   1     0   0   0   0     0  ...    0      0       0   \n",
      "2     0   0   0    0   0     0   0   0   0     0  ...    0      0       0   \n",
      "3     0   0   0    0   0     0   0   0   0     0  ...    0      0       0   \n",
      "4     0   0   0    0   0     0   0   0   0     0  ...    0      0       0   \n",
      "..  ...  ..  ..  ...  ..   ...  ..  ..  ..   ...  ...  ...    ...     ...   \n",
      "60    0   0   0    0   0     0   0   0   0     0  ...    0      0       0   \n",
      "61    0   0   0    0   0     0   0   0   0     0  ...    0      0       0   \n",
      "62    0   0   0    0   0     0   0   0   1     0  ...    0      0       0   \n",
      "63    0   0   0    0   0     0   0   0   0     0  ...    0      0       0   \n",
      "64    0   0   0    0   0     0   0   0   0     0  ...    0      0       0   \n",
      "\n",
      "    year  years  yes  yielding  york  zurich     Label  \n",
      "0      0      0    0         0     0       0  Sci/Tech  \n",
      "1      0      0    0         0     0       0  Business  \n",
      "2      1      0    0         0     0       0  Sci/Tech  \n",
      "3      0      0    0         0     0       0    Sports  \n",
      "4      1      0    0         0     0       0  Business  \n",
      "..   ...    ...  ...       ...   ...     ...       ...  \n",
      "60     0      0    0         0     0       0  Business  \n",
      "61     0      0    0         0     0       0    Sports  \n",
      "62     0      0    0         0     0       0     World  \n",
      "63     0      0    0         0     0       0  Business  \n",
      "64     0      0    0         0     0       0     World  \n",
      "\n",
      "[65 rows x 1044 columns]\n"
     ]
    },
    {
     "name": "stderr",
     "output_type": "stream",
     "text": [
      "progress bar:  37%|███████████████▉                           | 24/65 [00:43<01:17,  1.89s/it]"
     ]
    },
    {
     "name": "stdout",
     "output_type": "stream",
     "text": [
      "    000  08  10  100  11  12th  15  16  18  1904  ...  www  yasir  yasser  \\\n",
      "0     0   0   0    0   0     0   0   0   0     0  ...    0      0       0   \n",
      "1     0   0   0    0   1     0   0   0   0     0  ...    0      0       0   \n",
      "2     0   0   0    0   0     0   0   0   0     0  ...    0      0       0   \n",
      "3     0   0   0    0   0     0   0   0   0     0  ...    0      0       0   \n",
      "4     0   0   0    0   0     0   0   0   0     0  ...    0      0       0   \n",
      "..  ...  ..  ..  ...  ..   ...  ..  ..  ..   ...  ...  ...    ...     ...   \n",
      "60    0   0   0    0   0     0   0   0   0     0  ...    0      0       0   \n",
      "61    0   0   0    0   0     0   0   0   0     0  ...    0      0       0   \n",
      "62    0   0   0    0   0     0   0   0   1     0  ...    0      0       0   \n",
      "63    0   0   0    0   0     0   0   0   0     0  ...    0      0       0   \n",
      "64    0   0   0    0   0     0   0   0   0     0  ...    0      0       0   \n",
      "\n",
      "    year  years  yes  yielding  york  zurich     Label  \n",
      "0      0      0    0         0     0       0  Sci/Tech  \n",
      "1      0      0    0         0     0       0  Business  \n",
      "2      1      0    0         0     0       0  Sci/Tech  \n",
      "3      0      0    0         0     0       0    Sports  \n",
      "4      1      0    0         0     0       0  Business  \n",
      "..   ...    ...  ...       ...   ...     ...       ...  \n",
      "60     0      0    0         0     0       0  Business  \n",
      "61     0      0    0         0     0       0    Sports  \n",
      "62     0      0    0         0     0       0     World  \n",
      "63     0      0    0         0     0       0  Business  \n",
      "64     0      0    0         0     0       0     World  \n",
      "\n",
      "[65 rows x 1044 columns]\n"
     ]
    },
    {
     "name": "stderr",
     "output_type": "stream",
     "text": [
      "progress bar:  38%|████████████████▌                          | 25/65 [00:45<01:15,  1.90s/it]"
     ]
    },
    {
     "name": "stdout",
     "output_type": "stream",
     "text": [
      "    000  08  10  100  11  12th  15  16  18  1904  ...  www  yasir  yasser  \\\n",
      "0     0   0   0    0   0     0   0   0   0     0  ...    0      0       0   \n",
      "1     0   0   0    0   1     0   0   0   0     0  ...    0      0       0   \n",
      "2     0   0   0    0   0     0   0   0   0     0  ...    0      0       0   \n",
      "3     0   0   0    0   0     0   0   0   0     0  ...    0      0       0   \n",
      "4     0   0   0    0   0     0   0   0   0     0  ...    0      0       0   \n",
      "..  ...  ..  ..  ...  ..   ...  ..  ..  ..   ...  ...  ...    ...     ...   \n",
      "60    0   0   0    0   0     0   0   0   0     0  ...    0      0       0   \n",
      "61    0   0   0    0   0     0   0   0   0     0  ...    0      0       0   \n",
      "62    0   0   0    0   0     0   0   0   1     0  ...    0      0       0   \n",
      "63    0   0   0    0   0     0   0   0   0     0  ...    0      0       0   \n",
      "64    0   0   0    0   0     0   0   0   0     0  ...    0      0       0   \n",
      "\n",
      "    year  years  yes  yielding  york  zurich     Label  \n",
      "0      0      0    0         0     0       0  Sci/Tech  \n",
      "1      0      0    0         0     0       0  Business  \n",
      "2      1      0    0         0     0       0  Sci/Tech  \n",
      "3      0      0    0         0     0       0    Sports  \n",
      "4      1      0    0         0     0       0  Business  \n",
      "..   ...    ...  ...       ...   ...     ...       ...  \n",
      "60     0      0    0         0     0       0  Business  \n",
      "61     0      0    0         0     0       0    Sports  \n",
      "62     0      0    0         0     0       0     World  \n",
      "63     0      0    0         0     0       0  Business  \n",
      "64     0      0    0         0     0       0     World  \n",
      "\n",
      "[65 rows x 1044 columns]\n"
     ]
    },
    {
     "name": "stderr",
     "output_type": "stream",
     "text": [
      "progress bar:  40%|█████████████████▏                         | 26/65 [00:47<01:14,  1.90s/it]"
     ]
    },
    {
     "name": "stdout",
     "output_type": "stream",
     "text": [
      "    000  08  10  100  11  12th  15  16  18  1904  ...  www  yasir  yasser  \\\n",
      "0     0   0   0    0   0     0   0   0   0     0  ...    0      0       0   \n",
      "1     0   0   0    0   1     0   0   0   0     0  ...    0      0       0   \n",
      "2     0   0   0    0   0     0   0   0   0     0  ...    0      0       0   \n",
      "3     0   0   0    0   0     0   0   0   0     0  ...    0      0       0   \n",
      "4     0   0   0    0   0     0   0   0   0     0  ...    0      0       0   \n",
      "..  ...  ..  ..  ...  ..   ...  ..  ..  ..   ...  ...  ...    ...     ...   \n",
      "60    0   0   0    0   0     0   0   0   0     0  ...    0      0       0   \n",
      "61    0   0   0    0   0     0   0   0   0     0  ...    0      0       0   \n",
      "62    0   0   0    0   0     0   0   0   1     0  ...    0      0       0   \n",
      "63    0   0   0    0   0     0   0   0   0     0  ...    0      0       0   \n",
      "64    0   0   0    0   0     0   0   0   0     0  ...    0      0       0   \n",
      "\n",
      "    year  years  yes  yielding  york  zurich     Label  \n",
      "0      0      0    0         0     0       0  Sci/Tech  \n",
      "1      0      0    0         0     0       0  Business  \n",
      "2      1      0    0         0     0       0  Sci/Tech  \n",
      "3      0      0    0         0     0       0    Sports  \n",
      "4      1      0    0         0     0       0  Business  \n",
      "..   ...    ...  ...       ...   ...     ...       ...  \n",
      "60     0      0    0         0     0       0  Business  \n",
      "61     0      0    0         0     0       0    Sports  \n",
      "62     0      0    0         0     0       0     World  \n",
      "63     0      0    0         0     0       0  Business  \n",
      "64     0      0    0         0     0       0     World  \n",
      "\n",
      "[65 rows x 1044 columns]\n"
     ]
    },
    {
     "name": "stderr",
     "output_type": "stream",
     "text": [
      "progress bar:  42%|█████████████████▊                         | 27/65 [00:49<01:12,  1.90s/it]"
     ]
    },
    {
     "name": "stdout",
     "output_type": "stream",
     "text": [
      "    000  08  10  100  11  12th  15  16  18  1904  ...  www  yasir  yasser  \\\n",
      "0     0   0   0    0   0     0   0   0   0     0  ...    0      0       0   \n",
      "1     0   0   0    0   1     0   0   0   0     0  ...    0      0       0   \n",
      "2     0   0   0    0   0     0   0   0   0     0  ...    0      0       0   \n",
      "3     0   0   0    0   0     0   0   0   0     0  ...    0      0       0   \n",
      "4     0   0   0    0   0     0   0   0   0     0  ...    0      0       0   \n",
      "..  ...  ..  ..  ...  ..   ...  ..  ..  ..   ...  ...  ...    ...     ...   \n",
      "60    0   0   0    0   0     0   0   0   0     0  ...    0      0       0   \n",
      "61    0   0   0    0   0     0   0   0   0     0  ...    0      0       0   \n",
      "62    0   0   0    0   0     0   0   0   1     0  ...    0      0       0   \n",
      "63    0   0   0    0   0     0   0   0   0     0  ...    0      0       0   \n",
      "64    0   0   0    0   0     0   0   0   0     0  ...    0      0       0   \n",
      "\n",
      "    year  years  yes  yielding  york  zurich     Label  \n",
      "0      0      0    0         0     0       0  Sci/Tech  \n",
      "1      0      0    0         0     0       0  Business  \n",
      "2      1      0    0         0     0       0  Sci/Tech  \n",
      "3      0      0    0         0     0       0    Sports  \n",
      "4      1      0    0         0     0       0  Business  \n",
      "..   ...    ...  ...       ...   ...     ...       ...  \n",
      "60     0      0    0         0     0       0  Business  \n",
      "61     0      0    0         0     0       0    Sports  \n",
      "62     0      0    0         0     0       0     World  \n",
      "63     0      0    0         0     0       0  Business  \n",
      "64     0      0    0         0     0       0     World  \n",
      "\n",
      "[65 rows x 1044 columns]\n"
     ]
    },
    {
     "name": "stderr",
     "output_type": "stream",
     "text": [
      "progress bar:  43%|██████████████████▌                        | 28/65 [00:51<01:10,  1.90s/it]"
     ]
    },
    {
     "name": "stdout",
     "output_type": "stream",
     "text": [
      "    000  08  10  100  11  12th  15  16  18  1904  ...  www  yasir  yasser  \\\n",
      "0     0   0   0    0   0     0   0   0   0     0  ...    0      0       0   \n",
      "1     0   0   0    0   1     0   0   0   0     0  ...    0      0       0   \n",
      "2     0   0   0    0   0     0   0   0   0     0  ...    0      0       0   \n",
      "3     0   0   0    0   0     0   0   0   0     0  ...    0      0       0   \n",
      "4     0   0   0    0   0     0   0   0   0     0  ...    0      0       0   \n",
      "..  ...  ..  ..  ...  ..   ...  ..  ..  ..   ...  ...  ...    ...     ...   \n",
      "60    0   0   0    0   0     0   0   0   0     0  ...    0      0       0   \n",
      "61    0   0   0    0   0     0   0   0   0     0  ...    0      0       0   \n",
      "62    0   0   0    0   0     0   0   0   1     0  ...    0      0       0   \n",
      "63    0   0   0    0   0     0   0   0   0     0  ...    0      0       0   \n",
      "64    0   0   0    0   0     0   0   0   0     0  ...    0      0       0   \n",
      "\n",
      "    year  years  yes  yielding  york  zurich     Label  \n",
      "0      0      0    0         0     0       0  Sci/Tech  \n",
      "1      0      0    0         0     0       0  Business  \n",
      "2      1      0    0         0     0       0  Sci/Tech  \n",
      "3      0      0    0         0     0       0    Sports  \n",
      "4      1      0    0         0     0       0  Business  \n",
      "..   ...    ...  ...       ...   ...     ...       ...  \n",
      "60     0      0    0         0     0       0  Business  \n",
      "61     0      0    0         0     0       0    Sports  \n",
      "62     0      0    0         0     0       0     World  \n",
      "63     0      0    0         0     0       0  Business  \n",
      "64     0      0    0         0     0       0     World  \n",
      "\n",
      "[65 rows x 1044 columns]\n"
     ]
    },
    {
     "name": "stderr",
     "output_type": "stream",
     "text": [
      "progress bar:  45%|███████████████████▏                       | 29/65 [00:53<01:08,  1.91s/it]"
     ]
    },
    {
     "name": "stdout",
     "output_type": "stream",
     "text": [
      "    000  08  10  100  11  12th  15  16  18  1904  ...  www  yasir  yasser  \\\n",
      "0     0   0   0    0   0     0   0   0   0     0  ...    0      0       0   \n",
      "1     0   0   0    0   1     0   0   0   0     0  ...    0      0       0   \n",
      "2     0   0   0    0   0     0   0   0   0     0  ...    0      0       0   \n",
      "3     0   0   0    0   0     0   0   0   0     0  ...    0      0       0   \n",
      "4     0   0   0    0   0     0   0   0   0     0  ...    0      0       0   \n",
      "..  ...  ..  ..  ...  ..   ...  ..  ..  ..   ...  ...  ...    ...     ...   \n",
      "60    0   0   0    0   0     0   0   0   0     0  ...    0      0       0   \n",
      "61    0   0   0    0   0     0   0   0   0     0  ...    0      0       0   \n",
      "62    0   0   0    0   0     0   0   0   1     0  ...    0      0       0   \n",
      "63    0   0   0    0   0     0   0   0   0     0  ...    0      0       0   \n",
      "64    0   0   0    0   0     0   0   0   0     0  ...    0      0       0   \n",
      "\n",
      "    year  years  yes  yielding  york  zurich     Label  \n",
      "0      0      0    0         0     0       0  Sci/Tech  \n",
      "1      0      0    0         0     0       0  Business  \n",
      "2      1      0    0         0     0       0  Sci/Tech  \n",
      "3      0      0    0         0     0       0    Sports  \n",
      "4      1      0    0         0     0       0  Business  \n",
      "..   ...    ...  ...       ...   ...     ...       ...  \n",
      "60     0      0    0         0     0       0  Business  \n",
      "61     0      0    0         0     0       0    Sports  \n",
      "62     0      0    0         0     0       0     World  \n",
      "63     0      0    0         0     0       0  Business  \n",
      "64     0      0    0         0     0       0     World  \n",
      "\n",
      "[65 rows x 1044 columns]\n"
     ]
    },
    {
     "name": "stderr",
     "output_type": "stream",
     "text": [
      "progress bar:  46%|███████████████████▊                       | 30/65 [00:55<01:06,  1.91s/it]"
     ]
    },
    {
     "name": "stdout",
     "output_type": "stream",
     "text": [
      "    000  08  10  100  11  12th  15  16  18  1904  ...  www  yasir  yasser  \\\n",
      "0     0   0   0    0   0     0   0   0   0     0  ...    0      0       0   \n",
      "1     0   0   0    0   1     0   0   0   0     0  ...    0      0       0   \n",
      "2     0   0   0    0   0     0   0   0   0     0  ...    0      0       0   \n",
      "3     0   0   0    0   0     0   0   0   0     0  ...    0      0       0   \n",
      "4     0   0   0    0   0     0   0   0   0     0  ...    0      0       0   \n",
      "..  ...  ..  ..  ...  ..   ...  ..  ..  ..   ...  ...  ...    ...     ...   \n",
      "60    0   0   0    0   0     0   0   0   0     0  ...    0      0       0   \n",
      "61    0   0   0    0   0     0   0   0   0     0  ...    0      0       0   \n",
      "62    0   0   0    0   0     0   0   0   1     0  ...    0      0       0   \n",
      "63    0   0   0    0   0     0   0   0   0     0  ...    0      0       0   \n",
      "64    0   0   0    0   0     0   0   0   0     0  ...    0      0       0   \n",
      "\n",
      "    year  years  yes  yielding  york  zurich     Label  \n",
      "0      0      0    0         0     0       0  Sci/Tech  \n",
      "1      0      0    0         0     0       0  Business  \n",
      "2      1      0    0         0     0       0  Sci/Tech  \n",
      "3      0      0    0         0     0       0    Sports  \n",
      "4      1      0    0         0     0       0  Business  \n",
      "..   ...    ...  ...       ...   ...     ...       ...  \n",
      "60     0      0    0         0     0       0  Business  \n",
      "61     0      0    0         0     0       0    Sports  \n",
      "62     0      0    0         0     0       0     World  \n",
      "63     0      0    0         0     0       0  Business  \n",
      "64     0      0    0         0     0       0     World  \n",
      "\n",
      "[65 rows x 1044 columns]\n"
     ]
    },
    {
     "name": "stderr",
     "output_type": "stream",
     "text": [
      "progress bar:  48%|████████████████████▌                      | 31/65 [00:56<01:04,  1.90s/it]"
     ]
    },
    {
     "name": "stdout",
     "output_type": "stream",
     "text": [
      "    000  08  10  100  11  12th  15  16  18  1904  ...  www  yasir  yasser  \\\n",
      "0     0   0   0    0   0     0   0   0   0     0  ...    0      0       0   \n",
      "1     0   0   0    0   1     0   0   0   0     0  ...    0      0       0   \n",
      "2     0   0   0    0   0     0   0   0   0     0  ...    0      0       0   \n",
      "3     0   0   0    0   0     0   0   0   0     0  ...    0      0       0   \n",
      "4     0   0   0    0   0     0   0   0   0     0  ...    0      0       0   \n",
      "..  ...  ..  ..  ...  ..   ...  ..  ..  ..   ...  ...  ...    ...     ...   \n",
      "60    0   0   0    0   0     0   0   0   0     0  ...    0      0       0   \n",
      "61    0   0   0    0   0     0   0   0   0     0  ...    0      0       0   \n",
      "62    0   0   0    0   0     0   0   0   1     0  ...    0      0       0   \n",
      "63    0   0   0    0   0     0   0   0   0     0  ...    0      0       0   \n",
      "64    0   0   0    0   0     0   0   0   0     0  ...    0      0       0   \n",
      "\n",
      "    year  years  yes  yielding  york  zurich     Label  \n",
      "0      0      0    0         0     0       0  Sci/Tech  \n",
      "1      0      0    0         0     0       0  Business  \n",
      "2      1      0    0         0     0       0  Sci/Tech  \n",
      "3      0      0    0         0     0       0    Sports  \n",
      "4      1      0    0         0     0       0  Business  \n",
      "..   ...    ...  ...       ...   ...     ...       ...  \n",
      "60     0      0    0         0     0       0  Business  \n",
      "61     0      0    0         0     0       0    Sports  \n",
      "62     0      0    0         0     0       0     World  \n",
      "63     0      0    0         0     0       0  Business  \n",
      "64     0      0    0         0     0       0     World  \n",
      "\n",
      "[65 rows x 1044 columns]\n"
     ]
    },
    {
     "name": "stderr",
     "output_type": "stream",
     "text": [
      "progress bar:  49%|█████████████████████▏                     | 32/65 [00:58<01:02,  1.89s/it]"
     ]
    },
    {
     "name": "stdout",
     "output_type": "stream",
     "text": [
      "    000  08  10  100  11  12th  15  16  18  1904  ...  www  yasir  yasser  \\\n",
      "0     0   0   0    0   0     0   0   0   0     0  ...    0      0       0   \n",
      "1     0   0   0    0   1     0   0   0   0     0  ...    0      0       0   \n",
      "2     0   0   0    0   0     0   0   0   0     0  ...    0      0       0   \n",
      "3     0   0   0    0   0     0   0   0   0     0  ...    0      0       0   \n",
      "4     0   0   0    0   0     0   0   0   0     0  ...    0      0       0   \n",
      "..  ...  ..  ..  ...  ..   ...  ..  ..  ..   ...  ...  ...    ...     ...   \n",
      "60    0   0   0    0   0     0   0   0   0     0  ...    0      0       0   \n",
      "61    0   0   0    0   0     0   0   0   0     0  ...    0      0       0   \n",
      "62    0   0   0    0   0     0   0   0   1     0  ...    0      0       0   \n",
      "63    0   0   0    0   0     0   0   0   0     0  ...    0      0       0   \n",
      "64    0   0   0    0   0     0   0   0   0     0  ...    0      0       0   \n",
      "\n",
      "    year  years  yes  yielding  york  zurich     Label  \n",
      "0      0      0    0         0     0       0  Sci/Tech  \n",
      "1      0      0    0         0     0       0  Business  \n",
      "2      1      0    0         0     0       0  Sci/Tech  \n",
      "3      0      0    0         0     0       0    Sports  \n",
      "4      1      0    0         0     0       0  Business  \n",
      "..   ...    ...  ...       ...   ...     ...       ...  \n",
      "60     0      0    0         0     0       0  Business  \n",
      "61     0      0    0         0     0       0    Sports  \n",
      "62     0      0    0         0     0       0     World  \n",
      "63     0      0    0         0     0       0  Business  \n",
      "64     0      0    0         0     0       0     World  \n",
      "\n",
      "[65 rows x 1044 columns]\n"
     ]
    },
    {
     "name": "stderr",
     "output_type": "stream",
     "text": [
      "progress bar:  51%|█████████████████████▊                     | 33/65 [01:00<01:00,  1.89s/it]"
     ]
    },
    {
     "name": "stdout",
     "output_type": "stream",
     "text": [
      "    000  08  10  100  11  12th  15  16  18  1904  ...  www  yasir  yasser  \\\n",
      "0     0   0   0    0   0     0   0   0   0     0  ...    0      0       0   \n",
      "1     0   0   0    0   1     0   0   0   0     0  ...    0      0       0   \n",
      "2     0   0   0    0   0     0   0   0   0     0  ...    0      0       0   \n",
      "3     0   0   0    0   0     0   0   0   0     0  ...    0      0       0   \n",
      "4     0   0   0    0   0     0   0   0   0     0  ...    0      0       0   \n",
      "..  ...  ..  ..  ...  ..   ...  ..  ..  ..   ...  ...  ...    ...     ...   \n",
      "60    0   0   0    0   0     0   0   0   0     0  ...    0      0       0   \n",
      "61    0   0   0    0   0     0   0   0   0     0  ...    0      0       0   \n",
      "62    0   0   0    0   0     0   0   0   1     0  ...    0      0       0   \n",
      "63    0   0   0    0   0     0   0   0   0     0  ...    0      0       0   \n",
      "64    0   0   0    0   0     0   0   0   0     0  ...    0      0       0   \n",
      "\n",
      "    year  years  yes  yielding  york  zurich     Label  \n",
      "0      0      0    0         0     0       0  Sci/Tech  \n",
      "1      0      0    0         0     0       0  Business  \n",
      "2      1      0    0         0     0       0  Sci/Tech  \n",
      "3      0      0    0         0     0       0    Sports  \n",
      "4      1      0    0         0     0       0  Business  \n",
      "..   ...    ...  ...       ...   ...     ...       ...  \n",
      "60     0      0    0         0     0       0  Business  \n",
      "61     0      0    0         0     0       0    Sports  \n",
      "62     0      0    0         0     0       0     World  \n",
      "63     0      0    0         0     0       0  Business  \n",
      "64     0      0    0         0     0       0     World  \n",
      "\n",
      "[65 rows x 1044 columns]\n"
     ]
    },
    {
     "name": "stderr",
     "output_type": "stream",
     "text": [
      "progress bar:  52%|██████████████████████▍                    | 34/65 [01:02<00:58,  1.89s/it]"
     ]
    },
    {
     "name": "stdout",
     "output_type": "stream",
     "text": [
      "    000  08  10  100  11  12th  15  16  18  1904  ...  www  yasir  yasser  \\\n",
      "0     0   0   0    0   0     0   0   0   0     0  ...    0      0       0   \n",
      "1     0   0   0    0   1     0   0   0   0     0  ...    0      0       0   \n",
      "2     0   0   0    0   0     0   0   0   0     0  ...    0      0       0   \n",
      "3     0   0   0    0   0     0   0   0   0     0  ...    0      0       0   \n",
      "4     0   0   0    0   0     0   0   0   0     0  ...    0      0       0   \n",
      "..  ...  ..  ..  ...  ..   ...  ..  ..  ..   ...  ...  ...    ...     ...   \n",
      "60    0   0   0    0   0     0   0   0   0     0  ...    0      0       0   \n",
      "61    0   0   0    0   0     0   0   0   0     0  ...    0      0       0   \n",
      "62    0   0   0    0   0     0   0   0   1     0  ...    0      0       0   \n",
      "63    0   0   0    0   0     0   0   0   0     0  ...    0      0       0   \n",
      "64    0   0   0    0   0     0   0   0   0     0  ...    0      0       0   \n",
      "\n",
      "    year  years  yes  yielding  york  zurich     Label  \n",
      "0      0      0    0         0     0       0  Sci/Tech  \n",
      "1      0      0    0         0     0       0  Business  \n",
      "2      1      0    0         0     0       0  Sci/Tech  \n",
      "3      0      0    0         0     0       0    Sports  \n",
      "4      1      0    0         0     0       0  Business  \n",
      "..   ...    ...  ...       ...   ...     ...       ...  \n",
      "60     0      0    0         0     0       0  Business  \n",
      "61     0      0    0         0     0       0    Sports  \n",
      "62     0      0    0         0     0       0     World  \n",
      "63     0      0    0         0     0       0  Business  \n",
      "64     0      0    0         0     0       0     World  \n",
      "\n",
      "[65 rows x 1044 columns]\n"
     ]
    },
    {
     "name": "stderr",
     "output_type": "stream",
     "text": [
      "progress bar:  54%|███████████████████████▏                   | 35/65 [01:04<00:57,  1.90s/it]"
     ]
    },
    {
     "name": "stdout",
     "output_type": "stream",
     "text": [
      "    000  08  10  100  11  12th  15  16  18  1904  ...  www  yasir  yasser  \\\n",
      "0     0   0   0    0   0     0   0   0   0     0  ...    0      0       0   \n",
      "1     0   0   0    0   1     0   0   0   0     0  ...    0      0       0   \n",
      "2     0   0   0    0   0     0   0   0   0     0  ...    0      0       0   \n",
      "3     0   0   0    0   0     0   0   0   0     0  ...    0      0       0   \n",
      "4     0   0   0    0   0     0   0   0   0     0  ...    0      0       0   \n",
      "..  ...  ..  ..  ...  ..   ...  ..  ..  ..   ...  ...  ...    ...     ...   \n",
      "60    0   0   0    0   0     0   0   0   0     0  ...    0      0       0   \n",
      "61    0   0   0    0   0     0   0   0   0     0  ...    0      0       0   \n",
      "62    0   0   0    0   0     0   0   0   1     0  ...    0      0       0   \n",
      "63    0   0   0    0   0     0   0   0   0     0  ...    0      0       0   \n",
      "64    0   0   0    0   0     0   0   0   0     0  ...    0      0       0   \n",
      "\n",
      "    year  years  yes  yielding  york  zurich     Label  \n",
      "0      0      0    0         0     0       0  Sci/Tech  \n",
      "1      0      0    0         0     0       0  Business  \n",
      "2      1      0    0         0     0       0  Sci/Tech  \n",
      "3      0      0    0         0     0       0    Sports  \n",
      "4      1      0    0         0     0       0  Business  \n",
      "..   ...    ...  ...       ...   ...     ...       ...  \n",
      "60     0      0    0         0     0       0  Business  \n",
      "61     0      0    0         0     0       0    Sports  \n",
      "62     0      0    0         0     0       0     World  \n",
      "63     0      0    0         0     0       0  Business  \n",
      "64     0      0    0         0     0       0     World  \n",
      "\n",
      "[65 rows x 1044 columns]\n"
     ]
    },
    {
     "name": "stderr",
     "output_type": "stream",
     "text": [
      "progress bar:  55%|███████████████████████▊                   | 36/65 [01:06<00:55,  1.90s/it]"
     ]
    },
    {
     "name": "stdout",
     "output_type": "stream",
     "text": [
      "    000  08  10  100  11  12th  15  16  18  1904  ...  www  yasir  yasser  \\\n",
      "0     0   0   0    0   0     0   0   0   0     0  ...    0      0       0   \n",
      "1     0   0   0    0   1     0   0   0   0     0  ...    0      0       0   \n",
      "2     0   0   0    0   0     0   0   0   0     0  ...    0      0       0   \n",
      "3     0   0   0    0   0     0   0   0   0     0  ...    0      0       0   \n",
      "4     0   0   0    0   0     0   0   0   0     0  ...    0      0       0   \n",
      "..  ...  ..  ..  ...  ..   ...  ..  ..  ..   ...  ...  ...    ...     ...   \n",
      "60    0   0   0    0   0     0   0   0   0     0  ...    0      0       0   \n",
      "61    0   0   0    0   0     0   0   0   0     0  ...    0      0       0   \n",
      "62    0   0   0    0   0     0   0   0   1     0  ...    0      0       0   \n",
      "63    0   0   0    0   0     0   0   0   0     0  ...    0      0       0   \n",
      "64    0   0   0    0   0     0   0   0   0     0  ...    0      0       0   \n",
      "\n",
      "    year  years  yes  yielding  york  zurich     Label  \n",
      "0      0      0    0         0     0       0  Sci/Tech  \n",
      "1      0      0    0         0     0       0  Business  \n",
      "2      1      0    0         0     0       0  Sci/Tech  \n",
      "3      0      0    0         0     0       0    Sports  \n",
      "4      1      0    0         0     0       0  Business  \n",
      "..   ...    ...  ...       ...   ...     ...       ...  \n",
      "60     0      0    0         0     0       0  Business  \n",
      "61     0      0    0         0     0       0    Sports  \n",
      "62     0      0    0         0     0       0     World  \n",
      "63     0      0    0         0     0       0  Business  \n",
      "64     0      0    0         0     0       0     World  \n",
      "\n",
      "[65 rows x 1044 columns]\n"
     ]
    },
    {
     "name": "stderr",
     "output_type": "stream",
     "text": [
      "progress bar:  57%|████████████████████████▍                  | 37/65 [01:08<00:53,  1.91s/it]"
     ]
    },
    {
     "name": "stdout",
     "output_type": "stream",
     "text": [
      "    000  08  10  100  11  12th  15  16  18  1904  ...  www  yasir  yasser  \\\n",
      "0     0   0   0    0   0     0   0   0   0     0  ...    0      0       0   \n",
      "1     0   0   0    0   1     0   0   0   0     0  ...    0      0       0   \n",
      "2     0   0   0    0   0     0   0   0   0     0  ...    0      0       0   \n",
      "3     0   0   0    0   0     0   0   0   0     0  ...    0      0       0   \n",
      "4     0   0   0    0   0     0   0   0   0     0  ...    0      0       0   \n",
      "..  ...  ..  ..  ...  ..   ...  ..  ..  ..   ...  ...  ...    ...     ...   \n",
      "60    0   0   0    0   0     0   0   0   0     0  ...    0      0       0   \n",
      "61    0   0   0    0   0     0   0   0   0     0  ...    0      0       0   \n",
      "62    0   0   0    0   0     0   0   0   1     0  ...    0      0       0   \n",
      "63    0   0   0    0   0     0   0   0   0     0  ...    0      0       0   \n",
      "64    0   0   0    0   0     0   0   0   0     0  ...    0      0       0   \n",
      "\n",
      "    year  years  yes  yielding  york  zurich     Label  \n",
      "0      0      0    0         0     0       0  Sci/Tech  \n",
      "1      0      0    0         0     0       0  Business  \n",
      "2      1      0    0         0     0       0  Sci/Tech  \n",
      "3      0      0    0         0     0       0    Sports  \n",
      "4      1      0    0         0     0       0  Business  \n",
      "..   ...    ...  ...       ...   ...     ...       ...  \n",
      "60     0      0    0         0     0       0  Business  \n",
      "61     0      0    0         0     0       0    Sports  \n",
      "62     0      0    0         0     0       0     World  \n",
      "63     0      0    0         0     0       0  Business  \n",
      "64     0      0    0         0     0       0     World  \n",
      "\n",
      "[65 rows x 1044 columns]\n"
     ]
    },
    {
     "name": "stderr",
     "output_type": "stream",
     "text": [
      "progress bar:  58%|█████████████████████████▏                 | 38/65 [01:10<00:51,  1.90s/it]"
     ]
    },
    {
     "name": "stdout",
     "output_type": "stream",
     "text": [
      "    000  08  10  100  11  12th  15  16  18  1904  ...  www  yasir  yasser  \\\n",
      "0     0   0   0    0   0     0   0   0   0     0  ...    0      0       0   \n",
      "1     0   0   0    0   1     0   0   0   0     0  ...    0      0       0   \n",
      "2     0   0   0    0   0     0   0   0   0     0  ...    0      0       0   \n",
      "3     0   0   0    0   0     0   0   0   0     0  ...    0      0       0   \n",
      "4     0   0   0    0   0     0   0   0   0     0  ...    0      0       0   \n",
      "..  ...  ..  ..  ...  ..   ...  ..  ..  ..   ...  ...  ...    ...     ...   \n",
      "60    0   0   0    0   0     0   0   0   0     0  ...    0      0       0   \n",
      "61    0   0   0    0   0     0   0   0   0     0  ...    0      0       0   \n",
      "62    0   0   0    0   0     0   0   0   1     0  ...    0      0       0   \n",
      "63    0   0   0    0   0     0   0   0   0     0  ...    0      0       0   \n",
      "64    0   0   0    0   0     0   0   0   0     0  ...    0      0       0   \n",
      "\n",
      "    year  years  yes  yielding  york  zurich     Label  \n",
      "0      0      0    0         0     0       0  Sci/Tech  \n",
      "1      0      0    0         0     0       0  Business  \n",
      "2      1      0    0         0     0       0  Sci/Tech  \n",
      "3      0      0    0         0     0       0    Sports  \n",
      "4      1      0    0         0     0       0  Business  \n",
      "..   ...    ...  ...       ...   ...     ...       ...  \n",
      "60     0      0    0         0     0       0  Business  \n",
      "61     0      0    0         0     0       0    Sports  \n",
      "62     0      0    0         0     0       0     World  \n",
      "63     0      0    0         0     0       0  Business  \n",
      "64     0      0    0         0     0       0     World  \n",
      "\n",
      "[65 rows x 1044 columns]\n"
     ]
    },
    {
     "name": "stderr",
     "output_type": "stream",
     "text": [
      "progress bar:  60%|█████████████████████████▊                 | 39/65 [01:12<00:49,  1.91s/it]"
     ]
    },
    {
     "name": "stdout",
     "output_type": "stream",
     "text": [
      "    000  08  10  100  11  12th  15  16  18  1904  ...  www  yasir  yasser  \\\n",
      "0     0   0   0    0   0     0   0   0   0     0  ...    0      0       0   \n",
      "1     0   0   0    0   1     0   0   0   0     0  ...    0      0       0   \n",
      "2     0   0   0    0   0     0   0   0   0     0  ...    0      0       0   \n",
      "3     0   0   0    0   0     0   0   0   0     0  ...    0      0       0   \n",
      "4     0   0   0    0   0     0   0   0   0     0  ...    0      0       0   \n",
      "..  ...  ..  ..  ...  ..   ...  ..  ..  ..   ...  ...  ...    ...     ...   \n",
      "60    0   0   0    0   0     0   0   0   0     0  ...    0      0       0   \n",
      "61    0   0   0    0   0     0   0   0   0     0  ...    0      0       0   \n",
      "62    0   0   0    0   0     0   0   0   1     0  ...    0      0       0   \n",
      "63    0   0   0    0   0     0   0   0   0     0  ...    0      0       0   \n",
      "64    0   0   0    0   0     0   0   0   0     0  ...    0      0       0   \n",
      "\n",
      "    year  years  yes  yielding  york  zurich     Label  \n",
      "0      0      0    0         0     0       0  Sci/Tech  \n",
      "1      0      0    0         0     0       0  Business  \n",
      "2      1      0    0         0     0       0  Sci/Tech  \n",
      "3      0      0    0         0     0       0    Sports  \n",
      "4      1      0    0         0     0       0  Business  \n",
      "..   ...    ...  ...       ...   ...     ...       ...  \n",
      "60     0      0    0         0     0       0  Business  \n",
      "61     0      0    0         0     0       0    Sports  \n",
      "62     0      0    0         0     0       0     World  \n",
      "63     0      0    0         0     0       0  Business  \n",
      "64     0      0    0         0     0       0     World  \n",
      "\n",
      "[65 rows x 1044 columns]\n"
     ]
    },
    {
     "name": "stderr",
     "output_type": "stream",
     "text": [
      "progress bar:  62%|██████████████████████████▍                | 40/65 [01:14<00:47,  1.92s/it]"
     ]
    },
    {
     "name": "stdout",
     "output_type": "stream",
     "text": [
      "    000  08  10  100  11  12th  15  16  18  1904  ...  www  yasir  yasser  \\\n",
      "0     0   0   0    0   0     0   0   0   0     0  ...    0      0       0   \n",
      "1     0   0   0    0   1     0   0   0   0     0  ...    0      0       0   \n",
      "2     0   0   0    0   0     0   0   0   0     0  ...    0      0       0   \n",
      "3     0   0   0    0   0     0   0   0   0     0  ...    0      0       0   \n",
      "4     0   0   0    0   0     0   0   0   0     0  ...    0      0       0   \n",
      "..  ...  ..  ..  ...  ..   ...  ..  ..  ..   ...  ...  ...    ...     ...   \n",
      "60    0   0   0    0   0     0   0   0   0     0  ...    0      0       0   \n",
      "61    0   0   0    0   0     0   0   0   0     0  ...    0      0       0   \n",
      "62    0   0   0    0   0     0   0   0   1     0  ...    0      0       0   \n",
      "63    0   0   0    0   0     0   0   0   0     0  ...    0      0       0   \n",
      "64    0   0   0    0   0     0   0   0   0     0  ...    0      0       0   \n",
      "\n",
      "    year  years  yes  yielding  york  zurich     Label  \n",
      "0      0      0    0         0     0       0  Sci/Tech  \n",
      "1      0      0    0         0     0       0  Business  \n",
      "2      1      0    0         0     0       0  Sci/Tech  \n",
      "3      0      0    0         0     0       0    Sports  \n",
      "4      1      0    0         0     0       0  Business  \n",
      "..   ...    ...  ...       ...   ...     ...       ...  \n",
      "60     0      0    0         0     0       0  Business  \n",
      "61     0      0    0         0     0       0    Sports  \n",
      "62     0      0    0         0     0       0     World  \n",
      "63     0      0    0         0     0       0  Business  \n",
      "64     0      0    0         0     0       0     World  \n",
      "\n",
      "[65 rows x 1044 columns]\n"
     ]
    },
    {
     "name": "stderr",
     "output_type": "stream",
     "text": [
      "progress bar:  63%|███████████████████████████                | 41/65 [01:15<00:45,  1.90s/it]"
     ]
    },
    {
     "name": "stdout",
     "output_type": "stream",
     "text": [
      "    000  08  10  100  11  12th  15  16  18  1904  ...  www  yasir  yasser  \\\n",
      "0     0   0   0    0   0     0   0   0   0     0  ...    0      0       0   \n",
      "1     0   0   0    0   1     0   0   0   0     0  ...    0      0       0   \n",
      "2     0   0   0    0   0     0   0   0   0     0  ...    0      0       0   \n",
      "3     0   0   0    0   0     0   0   0   0     0  ...    0      0       0   \n",
      "4     0   0   0    0   0     0   0   0   0     0  ...    0      0       0   \n",
      "..  ...  ..  ..  ...  ..   ...  ..  ..  ..   ...  ...  ...    ...     ...   \n",
      "60    0   0   0    0   0     0   0   0   0     0  ...    0      0       0   \n",
      "61    0   0   0    0   0     0   0   0   0     0  ...    0      0       0   \n",
      "62    0   0   0    0   0     0   0   0   1     0  ...    0      0       0   \n",
      "63    0   0   0    0   0     0   0   0   0     0  ...    0      0       0   \n",
      "64    0   0   0    0   0     0   0   0   0     0  ...    0      0       0   \n",
      "\n",
      "    year  years  yes  yielding  york  zurich     Label  \n",
      "0      0      0    0         0     0       0  Sci/Tech  \n",
      "1      0      0    0         0     0       0  Business  \n",
      "2      1      0    0         0     0       0  Sci/Tech  \n",
      "3      0      0    0         0     0       0    Sports  \n",
      "4      1      0    0         0     0       0  Business  \n",
      "..   ...    ...  ...       ...   ...     ...       ...  \n",
      "60     0      0    0         0     0       0  Business  \n",
      "61     0      0    0         0     0       0    Sports  \n",
      "62     0      0    0         0     0       0     World  \n",
      "63     0      0    0         0     0       0  Business  \n",
      "64     0      0    0         0     0       0     World  \n",
      "\n",
      "[65 rows x 1044 columns]\n"
     ]
    },
    {
     "name": "stderr",
     "output_type": "stream",
     "text": [
      "progress bar:  65%|███████████████████████████▊               | 42/65 [01:17<00:43,  1.89s/it]"
     ]
    },
    {
     "name": "stdout",
     "output_type": "stream",
     "text": [
      "    000  08  10  100  11  12th  15  16  18  1904  ...  www  yasir  yasser  \\\n",
      "0     0   0   0    0   0     0   0   0   0     0  ...    0      0       0   \n",
      "1     0   0   0    0   1     0   0   0   0     0  ...    0      0       0   \n",
      "2     0   0   0    0   0     0   0   0   0     0  ...    0      0       0   \n",
      "3     0   0   0    0   0     0   0   0   0     0  ...    0      0       0   \n",
      "4     0   0   0    0   0     0   0   0   0     0  ...    0      0       0   \n",
      "..  ...  ..  ..  ...  ..   ...  ..  ..  ..   ...  ...  ...    ...     ...   \n",
      "60    0   0   0    0   0     0   0   0   0     0  ...    0      0       0   \n",
      "61    0   0   0    0   0     0   0   0   0     0  ...    0      0       0   \n",
      "62    0   0   0    0   0     0   0   0   1     0  ...    0      0       0   \n",
      "63    0   0   0    0   0     0   0   0   0     0  ...    0      0       0   \n",
      "64    0   0   0    0   0     0   0   0   0     0  ...    0      0       0   \n",
      "\n",
      "    year  years  yes  yielding  york  zurich     Label  \n",
      "0      0      0    0         0     0       0  Sci/Tech  \n",
      "1      0      0    0         0     0       0  Business  \n",
      "2      1      0    0         0     0       0  Sci/Tech  \n",
      "3      0      0    0         0     0       0    Sports  \n",
      "4      1      0    0         0     0       0  Business  \n",
      "..   ...    ...  ...       ...   ...     ...       ...  \n",
      "60     0      0    0         0     0       0  Business  \n",
      "61     0      0    0         0     0       0    Sports  \n",
      "62     0      0    0         0     0       0     World  \n",
      "63     0      0    0         0     0       0  Business  \n",
      "64     0      0    0         0     0       0     World  \n",
      "\n",
      "[65 rows x 1044 columns]\n"
     ]
    },
    {
     "name": "stderr",
     "output_type": "stream",
     "text": [
      "progress bar:  66%|████████████████████████████▍              | 43/65 [01:19<00:41,  1.88s/it]"
     ]
    },
    {
     "name": "stdout",
     "output_type": "stream",
     "text": [
      "    000  08  10  100  11  12th  15  16  18  1904  ...  www  yasir  yasser  \\\n",
      "0     0   0   0    0   0     0   0   0   0     0  ...    0      0       0   \n",
      "1     0   0   0    0   1     0   0   0   0     0  ...    0      0       0   \n",
      "2     0   0   0    0   0     0   0   0   0     0  ...    0      0       0   \n",
      "3     0   0   0    0   0     0   0   0   0     0  ...    0      0       0   \n",
      "4     0   0   0    0   0     0   0   0   0     0  ...    0      0       0   \n",
      "..  ...  ..  ..  ...  ..   ...  ..  ..  ..   ...  ...  ...    ...     ...   \n",
      "60    0   0   0    0   0     0   0   0   0     0  ...    0      0       0   \n",
      "61    0   0   0    0   0     0   0   0   0     0  ...    0      0       0   \n",
      "62    0   0   0    0   0     0   0   0   1     0  ...    0      0       0   \n",
      "63    0   0   0    0   0     0   0   0   0     0  ...    0      0       0   \n",
      "64    0   0   0    0   0     0   0   0   0     0  ...    0      0       0   \n",
      "\n",
      "    year  years  yes  yielding  york  zurich     Label  \n",
      "0      0      0    0         0     0       0  Sci/Tech  \n",
      "1      0      0    0         0     0       0  Business  \n",
      "2      1      0    0         0     0       0  Sci/Tech  \n",
      "3      0      0    0         0     0       0    Sports  \n",
      "4      1      0    0         0     0       0  Business  \n",
      "..   ...    ...  ...       ...   ...     ...       ...  \n",
      "60     0      0    0         0     0       0  Business  \n",
      "61     0      0    0         0     0       0    Sports  \n",
      "62     0      0    0         0     0       0     World  \n",
      "63     0      0    0         0     0       0  Business  \n",
      "64     0      0    0         0     0       0     World  \n",
      "\n",
      "[65 rows x 1044 columns]\n"
     ]
    },
    {
     "name": "stderr",
     "output_type": "stream",
     "text": [
      "progress bar:  68%|█████████████████████████████              | 44/65 [01:21<00:39,  1.87s/it]"
     ]
    },
    {
     "name": "stdout",
     "output_type": "stream",
     "text": [
      "    000  08  10  100  11  12th  15  16  18  1904  ...  www  yasir  yasser  \\\n",
      "0     0   0   0    0   0     0   0   0   0     0  ...    0      0       0   \n",
      "1     0   0   0    0   1     0   0   0   0     0  ...    0      0       0   \n",
      "2     0   0   0    0   0     0   0   0   0     0  ...    0      0       0   \n",
      "3     0   0   0    0   0     0   0   0   0     0  ...    0      0       0   \n",
      "4     0   0   0    0   0     0   0   0   0     0  ...    0      0       0   \n",
      "..  ...  ..  ..  ...  ..   ...  ..  ..  ..   ...  ...  ...    ...     ...   \n",
      "60    0   0   0    0   0     0   0   0   0     0  ...    0      0       0   \n",
      "61    0   0   0    0   0     0   0   0   0     0  ...    0      0       0   \n",
      "62    0   0   0    0   0     0   0   0   1     0  ...    0      0       0   \n",
      "63    0   0   0    0   0     0   0   0   0     0  ...    0      0       0   \n",
      "64    0   0   0    0   0     0   0   0   0     0  ...    0      0       0   \n",
      "\n",
      "    year  years  yes  yielding  york  zurich     Label  \n",
      "0      0      0    0         0     0       0  Sci/Tech  \n",
      "1      0      0    0         0     0       0  Business  \n",
      "2      1      0    0         0     0       0  Sci/Tech  \n",
      "3      0      0    0         0     0       0    Sports  \n",
      "4      1      0    0         0     0       0  Business  \n",
      "..   ...    ...  ...       ...   ...     ...       ...  \n",
      "60     0      0    0         0     0       0  Business  \n",
      "61     0      0    0         0     0       0    Sports  \n",
      "62     0      0    0         0     0       0     World  \n",
      "63     0      0    0         0     0       0  Business  \n",
      "64     0      0    0         0     0       0     World  \n",
      "\n",
      "[65 rows x 1044 columns]\n"
     ]
    },
    {
     "name": "stderr",
     "output_type": "stream",
     "text": [
      "progress bar:  69%|█████████████████████████████▊             | 45/65 [01:23<00:37,  1.87s/it]"
     ]
    },
    {
     "name": "stdout",
     "output_type": "stream",
     "text": [
      "    000  08  10  100  11  12th  15  16  18  1904  ...  www  yasir  yasser  \\\n",
      "0     0   0   0    0   0     0   0   0   0     0  ...    0      0       0   \n",
      "1     0   0   0    0   1     0   0   0   0     0  ...    0      0       0   \n",
      "2     0   0   0    0   0     0   0   0   0     0  ...    0      0       0   \n",
      "3     0   0   0    0   0     0   0   0   0     0  ...    0      0       0   \n",
      "4     0   0   0    0   0     0   0   0   0     0  ...    0      0       0   \n",
      "..  ...  ..  ..  ...  ..   ...  ..  ..  ..   ...  ...  ...    ...     ...   \n",
      "60    0   0   0    0   0     0   0   0   0     0  ...    0      0       0   \n",
      "61    0   0   0    0   0     0   0   0   0     0  ...    0      0       0   \n",
      "62    0   0   0    0   0     0   0   0   1     0  ...    0      0       0   \n",
      "63    0   0   0    0   0     0   0   0   0     0  ...    0      0       0   \n",
      "64    0   0   0    0   0     0   0   0   0     0  ...    0      0       0   \n",
      "\n",
      "    year  years  yes  yielding  york  zurich     Label  \n",
      "0      0      0    0         0     0       0  Sci/Tech  \n",
      "1      0      0    0         0     0       0  Business  \n",
      "2      1      0    0         0     0       0  Sci/Tech  \n",
      "3      0      0    0         0     0       0    Sports  \n",
      "4      1      0    0         0     0       0  Business  \n",
      "..   ...    ...  ...       ...   ...     ...       ...  \n",
      "60     0      0    0         0     0       0  Business  \n",
      "61     0      0    0         0     0       0    Sports  \n",
      "62     0      0    0         0     0       0     World  \n",
      "63     0      0    0         0     0       0  Business  \n",
      "64     0      0    0         0     0       0     World  \n",
      "\n",
      "[65 rows x 1044 columns]\n"
     ]
    },
    {
     "name": "stderr",
     "output_type": "stream",
     "text": [
      "progress bar:  71%|██████████████████████████████▍            | 46/65 [01:25<00:35,  1.86s/it]"
     ]
    },
    {
     "name": "stdout",
     "output_type": "stream",
     "text": [
      "    000  08  10  100  11  12th  15  16  18  1904  ...  www  yasir  yasser  \\\n",
      "0     0   0   0    0   0     0   0   0   0     0  ...    0      0       0   \n",
      "1     0   0   0    0   1     0   0   0   0     0  ...    0      0       0   \n",
      "2     0   0   0    0   0     0   0   0   0     0  ...    0      0       0   \n",
      "3     0   0   0    0   0     0   0   0   0     0  ...    0      0       0   \n",
      "4     0   0   0    0   0     0   0   0   0     0  ...    0      0       0   \n",
      "..  ...  ..  ..  ...  ..   ...  ..  ..  ..   ...  ...  ...    ...     ...   \n",
      "60    0   0   0    0   0     0   0   0   0     0  ...    0      0       0   \n",
      "61    0   0   0    0   0     0   0   0   0     0  ...    0      0       0   \n",
      "62    0   0   0    0   0     0   0   0   1     0  ...    0      0       0   \n",
      "63    0   0   0    0   0     0   0   0   0     0  ...    0      0       0   \n",
      "64    0   0   0    0   0     0   0   0   0     0  ...    0      0       0   \n",
      "\n",
      "    year  years  yes  yielding  york  zurich     Label  \n",
      "0      0      0    0         0     0       0  Sci/Tech  \n",
      "1      0      0    0         0     0       0  Business  \n",
      "2      1      0    0         0     0       0  Sci/Tech  \n",
      "3      0      0    0         0     0       0    Sports  \n",
      "4      1      0    0         0     0       0  Business  \n",
      "..   ...    ...  ...       ...   ...     ...       ...  \n",
      "60     0      0    0         0     0       0  Business  \n",
      "61     0      0    0         0     0       0    Sports  \n",
      "62     0      0    0         0     0       0     World  \n",
      "63     0      0    0         0     0       0  Business  \n",
      "64     0      0    0         0     0       0     World  \n",
      "\n",
      "[65 rows x 1044 columns]\n"
     ]
    },
    {
     "name": "stderr",
     "output_type": "stream",
     "text": [
      "progress bar:  72%|███████████████████████████████            | 47/65 [01:27<00:33,  1.88s/it]"
     ]
    },
    {
     "name": "stdout",
     "output_type": "stream",
     "text": [
      "    000  08  10  100  11  12th  15  16  18  1904  ...  www  yasir  yasser  \\\n",
      "0     0   0   0    0   0     0   0   0   0     0  ...    0      0       0   \n",
      "1     0   0   0    0   1     0   0   0   0     0  ...    0      0       0   \n",
      "2     0   0   0    0   0     0   0   0   0     0  ...    0      0       0   \n",
      "3     0   0   0    0   0     0   0   0   0     0  ...    0      0       0   \n",
      "4     0   0   0    0   0     0   0   0   0     0  ...    0      0       0   \n",
      "..  ...  ..  ..  ...  ..   ...  ..  ..  ..   ...  ...  ...    ...     ...   \n",
      "60    0   0   0    0   0     0   0   0   0     0  ...    0      0       0   \n",
      "61    0   0   0    0   0     0   0   0   0     0  ...    0      0       0   \n",
      "62    0   0   0    0   0     0   0   0   1     0  ...    0      0       0   \n",
      "63    0   0   0    0   0     0   0   0   0     0  ...    0      0       0   \n",
      "64    0   0   0    0   0     0   0   0   0     0  ...    0      0       0   \n",
      "\n",
      "    year  years  yes  yielding  york  zurich     Label  \n",
      "0      0      0    0         0     0       0  Sci/Tech  \n",
      "1      0      0    0         0     0       0  Business  \n",
      "2      1      0    0         0     0       0  Sci/Tech  \n",
      "3      0      0    0         0     0       0    Sports  \n",
      "4      1      0    0         0     0       0  Business  \n",
      "..   ...    ...  ...       ...   ...     ...       ...  \n",
      "60     0      0    0         0     0       0  Business  \n",
      "61     0      0    0         0     0       0    Sports  \n",
      "62     0      0    0         0     0       0     World  \n",
      "63     0      0    0         0     0       0  Business  \n",
      "64     0      0    0         0     0       0     World  \n",
      "\n",
      "[65 rows x 1044 columns]\n"
     ]
    },
    {
     "name": "stderr",
     "output_type": "stream",
     "text": [
      "progress bar:  74%|███████████████████████████████▊           | 48/65 [01:28<00:31,  1.88s/it]"
     ]
    },
    {
     "name": "stdout",
     "output_type": "stream",
     "text": [
      "    000  08  10  100  11  12th  15  16  18  1904  ...  www  yasir  yasser  \\\n",
      "0     0   0   0    0   0     0   0   0   0     0  ...    0      0       0   \n",
      "1     0   0   0    0   1     0   0   0   0     0  ...    0      0       0   \n",
      "2     0   0   0    0   0     0   0   0   0     0  ...    0      0       0   \n",
      "3     0   0   0    0   0     0   0   0   0     0  ...    0      0       0   \n",
      "4     0   0   0    0   0     0   0   0   0     0  ...    0      0       0   \n",
      "..  ...  ..  ..  ...  ..   ...  ..  ..  ..   ...  ...  ...    ...     ...   \n",
      "60    0   0   0    0   0     0   0   0   0     0  ...    0      0       0   \n",
      "61    0   0   0    0   0     0   0   0   0     0  ...    0      0       0   \n",
      "62    0   0   0    0   0     0   0   0   1     0  ...    0      0       0   \n",
      "63    0   0   0    0   0     0   0   0   0     0  ...    0      0       0   \n",
      "64    0   0   0    0   0     0   0   0   0     0  ...    0      0       0   \n",
      "\n",
      "    year  years  yes  yielding  york  zurich     Label  \n",
      "0      0      0    0         0     0       0  Sci/Tech  \n",
      "1      0      0    0         0     0       0  Business  \n",
      "2      1      0    0         0     0       0  Sci/Tech  \n",
      "3      0      0    0         0     0       0    Sports  \n",
      "4      1      0    0         0     0       0  Business  \n",
      "..   ...    ...  ...       ...   ...     ...       ...  \n",
      "60     0      0    0         0     0       0  Business  \n",
      "61     0      0    0         0     0       0    Sports  \n",
      "62     0      0    0         0     0       0     World  \n",
      "63     0      0    0         0     0       0  Business  \n",
      "64     0      0    0         0     0       0     World  \n",
      "\n",
      "[65 rows x 1044 columns]\n"
     ]
    },
    {
     "name": "stderr",
     "output_type": "stream",
     "text": [
      "progress bar:  75%|████████████████████████████████▍          | 49/65 [01:30<00:29,  1.87s/it]"
     ]
    },
    {
     "name": "stdout",
     "output_type": "stream",
     "text": [
      "    000  08  10  100  11  12th  15  16  18  1904  ...  www  yasir  yasser  \\\n",
      "0     0   0   0    0   0     0   0   0   0     0  ...    0      0       0   \n",
      "1     0   0   0    0   1     0   0   0   0     0  ...    0      0       0   \n",
      "2     0   0   0    0   0     0   0   0   0     0  ...    0      0       0   \n",
      "3     0   0   0    0   0     0   0   0   0     0  ...    0      0       0   \n",
      "4     0   0   0    0   0     0   0   0   0     0  ...    0      0       0   \n",
      "..  ...  ..  ..  ...  ..   ...  ..  ..  ..   ...  ...  ...    ...     ...   \n",
      "60    0   0   0    0   0     0   0   0   0     0  ...    0      0       0   \n",
      "61    0   0   0    0   0     0   0   0   0     0  ...    0      0       0   \n",
      "62    0   0   0    0   0     0   0   0   1     0  ...    0      0       0   \n",
      "63    0   0   0    0   0     0   0   0   0     0  ...    0      0       0   \n",
      "64    0   0   0    0   0     0   0   0   0     0  ...    0      0       0   \n",
      "\n",
      "    year  years  yes  yielding  york  zurich     Label  \n",
      "0      0      0    0         0     0       0  Sci/Tech  \n",
      "1      0      0    0         0     0       0  Business  \n",
      "2      1      0    0         0     0       0  Sci/Tech  \n",
      "3      0      0    0         0     0       0    Sports  \n",
      "4      1      0    0         0     0       0  Business  \n",
      "..   ...    ...  ...       ...   ...     ...       ...  \n",
      "60     0      0    0         0     0       0  Business  \n",
      "61     0      0    0         0     0       0    Sports  \n",
      "62     0      0    0         0     0       0     World  \n",
      "63     0      0    0         0     0       0  Business  \n",
      "64     0      0    0         0     0       0     World  \n",
      "\n",
      "[65 rows x 1044 columns]\n"
     ]
    },
    {
     "name": "stderr",
     "output_type": "stream",
     "text": [
      "progress bar:  77%|█████████████████████████████████          | 50/65 [01:32<00:27,  1.87s/it]"
     ]
    },
    {
     "name": "stdout",
     "output_type": "stream",
     "text": [
      "    000  08  10  100  11  12th  15  16  18  1904  ...  www  yasir  yasser  \\\n",
      "0     0   0   0    0   0     0   0   0   0     0  ...    0      0       0   \n",
      "1     0   0   0    0   1     0   0   0   0     0  ...    0      0       0   \n",
      "2     0   0   0    0   0     0   0   0   0     0  ...    0      0       0   \n",
      "3     0   0   0    0   0     0   0   0   0     0  ...    0      0       0   \n",
      "4     0   0   0    0   0     0   0   0   0     0  ...    0      0       0   \n",
      "..  ...  ..  ..  ...  ..   ...  ..  ..  ..   ...  ...  ...    ...     ...   \n",
      "60    0   0   0    0   0     0   0   0   0     0  ...    0      0       0   \n",
      "61    0   0   0    0   0     0   0   0   0     0  ...    0      0       0   \n",
      "62    0   0   0    0   0     0   0   0   1     0  ...    0      0       0   \n",
      "63    0   0   0    0   0     0   0   0   0     0  ...    0      0       0   \n",
      "64    0   0   0    0   0     0   0   0   0     0  ...    0      0       0   \n",
      "\n",
      "    year  years  yes  yielding  york  zurich     Label  \n",
      "0      0      0    0         0     0       0  Sci/Tech  \n",
      "1      0      0    0         0     0       0  Business  \n",
      "2      1      0    0         0     0       0  Sci/Tech  \n",
      "3      0      0    0         0     0       0    Sports  \n",
      "4      1      0    0         0     0       0  Business  \n",
      "..   ...    ...  ...       ...   ...     ...       ...  \n",
      "60     0      0    0         0     0       0  Business  \n",
      "61     0      0    0         0     0       0    Sports  \n",
      "62     0      0    0         0     0       0     World  \n",
      "63     0      0    0         0     0       0  Business  \n",
      "64     0      0    0         0     0       0     World  \n",
      "\n",
      "[65 rows x 1044 columns]\n"
     ]
    },
    {
     "name": "stderr",
     "output_type": "stream",
     "text": [
      "progress bar:  78%|█████████████████████████████████▋         | 51/65 [01:34<00:26,  1.87s/it]"
     ]
    },
    {
     "name": "stdout",
     "output_type": "stream",
     "text": [
      "    000  08  10  100  11  12th  15  16  18  1904  ...  www  yasir  yasser  \\\n",
      "0     0   0   0    0   0     0   0   0   0     0  ...    0      0       0   \n",
      "1     0   0   0    0   1     0   0   0   0     0  ...    0      0       0   \n",
      "2     0   0   0    0   0     0   0   0   0     0  ...    0      0       0   \n",
      "3     0   0   0    0   0     0   0   0   0     0  ...    0      0       0   \n",
      "4     0   0   0    0   0     0   0   0   0     0  ...    0      0       0   \n",
      "..  ...  ..  ..  ...  ..   ...  ..  ..  ..   ...  ...  ...    ...     ...   \n",
      "60    0   0   0    0   0     0   0   0   0     0  ...    0      0       0   \n",
      "61    0   0   0    0   0     0   0   0   0     0  ...    0      0       0   \n",
      "62    0   0   0    0   0     0   0   0   1     0  ...    0      0       0   \n",
      "63    0   0   0    0   0     0   0   0   0     0  ...    0      0       0   \n",
      "64    0   0   0    0   0     0   0   0   0     0  ...    0      0       0   \n",
      "\n",
      "    year  years  yes  yielding  york  zurich     Label  \n",
      "0      0      0    0         0     0       0  Sci/Tech  \n",
      "1      0      0    0         0     0       0  Business  \n",
      "2      1      0    0         0     0       0  Sci/Tech  \n",
      "3      0      0    0         0     0       0    Sports  \n",
      "4      1      0    0         0     0       0  Business  \n",
      "..   ...    ...  ...       ...   ...     ...       ...  \n",
      "60     0      0    0         0     0       0  Business  \n",
      "61     0      0    0         0     0       0    Sports  \n",
      "62     0      0    0         0     0       0     World  \n",
      "63     0      0    0         0     0       0  Business  \n",
      "64     0      0    0         0     0       0     World  \n",
      "\n",
      "[65 rows x 1044 columns]\n"
     ]
    },
    {
     "name": "stderr",
     "output_type": "stream",
     "text": [
      "progress bar:  80%|██████████████████████████████████▍        | 52/65 [01:36<00:24,  1.86s/it]"
     ]
    },
    {
     "name": "stdout",
     "output_type": "stream",
     "text": [
      "    000  08  10  100  11  12th  15  16  18  1904  ...  www  yasir  yasser  \\\n",
      "0     0   0   0    0   0     0   0   0   0     0  ...    0      0       0   \n",
      "1     0   0   0    0   1     0   0   0   0     0  ...    0      0       0   \n",
      "2     0   0   0    0   0     0   0   0   0     0  ...    0      0       0   \n",
      "3     0   0   0    0   0     0   0   0   0     0  ...    0      0       0   \n",
      "4     0   0   0    0   0     0   0   0   0     0  ...    0      0       0   \n",
      "..  ...  ..  ..  ...  ..   ...  ..  ..  ..   ...  ...  ...    ...     ...   \n",
      "60    0   0   0    0   0     0   0   0   0     0  ...    0      0       0   \n",
      "61    0   0   0    0   0     0   0   0   0     0  ...    0      0       0   \n",
      "62    0   0   0    0   0     0   0   0   1     0  ...    0      0       0   \n",
      "63    0   0   0    0   0     0   0   0   0     0  ...    0      0       0   \n",
      "64    0   0   0    0   0     0   0   0   0     0  ...    0      0       0   \n",
      "\n",
      "    year  years  yes  yielding  york  zurich     Label  \n",
      "0      0      0    0         0     0       0  Sci/Tech  \n",
      "1      0      0    0         0     0       0  Business  \n",
      "2      1      0    0         0     0       0  Sci/Tech  \n",
      "3      0      0    0         0     0       0    Sports  \n",
      "4      1      0    0         0     0       0  Business  \n",
      "..   ...    ...  ...       ...   ...     ...       ...  \n",
      "60     0      0    0         0     0       0  Business  \n",
      "61     0      0    0         0     0       0    Sports  \n",
      "62     0      0    0         0     0       0     World  \n",
      "63     0      0    0         0     0       0  Business  \n",
      "64     0      0    0         0     0       0     World  \n",
      "\n",
      "[65 rows x 1044 columns]\n"
     ]
    },
    {
     "name": "stderr",
     "output_type": "stream",
     "text": [
      "progress bar:  82%|███████████████████████████████████        | 53/65 [01:38<00:22,  1.87s/it]"
     ]
    },
    {
     "name": "stdout",
     "output_type": "stream",
     "text": [
      "    000  08  10  100  11  12th  15  16  18  1904  ...  www  yasir  yasser  \\\n",
      "0     0   0   0    0   0     0   0   0   0     0  ...    0      0       0   \n",
      "1     0   0   0    0   1     0   0   0   0     0  ...    0      0       0   \n",
      "2     0   0   0    0   0     0   0   0   0     0  ...    0      0       0   \n",
      "3     0   0   0    0   0     0   0   0   0     0  ...    0      0       0   \n",
      "4     0   0   0    0   0     0   0   0   0     0  ...    0      0       0   \n",
      "..  ...  ..  ..  ...  ..   ...  ..  ..  ..   ...  ...  ...    ...     ...   \n",
      "60    0   0   0    0   0     0   0   0   0     0  ...    0      0       0   \n",
      "61    0   0   0    0   0     0   0   0   0     0  ...    0      0       0   \n",
      "62    0   0   0    0   0     0   0   0   1     0  ...    0      0       0   \n",
      "63    0   0   0    0   0     0   0   0   0     0  ...    0      0       0   \n",
      "64    0   0   0    0   0     0   0   0   0     0  ...    0      0       0   \n",
      "\n",
      "    year  years  yes  yielding  york  zurich     Label  \n",
      "0      0      0    0         0     0       0  Sci/Tech  \n",
      "1      0      0    0         0     0       0  Business  \n",
      "2      1      0    0         0     0       0  Sci/Tech  \n",
      "3      0      0    0         0     0       0    Sports  \n",
      "4      1      0    0         0     0       0  Business  \n",
      "..   ...    ...  ...       ...   ...     ...       ...  \n",
      "60     0      0    0         0     0       0  Business  \n",
      "61     0      0    0         0     0       0    Sports  \n",
      "62     0      0    0         0     0       0     World  \n",
      "63     0      0    0         0     0       0  Business  \n",
      "64     0      0    0         0     0       0     World  \n",
      "\n",
      "[65 rows x 1044 columns]\n"
     ]
    },
    {
     "name": "stderr",
     "output_type": "stream",
     "text": [
      "progress bar:  83%|███████████████████████████████████▋       | 54/65 [01:40<00:20,  1.87s/it]"
     ]
    },
    {
     "name": "stdout",
     "output_type": "stream",
     "text": [
      "    000  08  10  100  11  12th  15  16  18  1904  ...  www  yasir  yasser  \\\n",
      "0     0   0   0    0   0     0   0   0   0     0  ...    0      0       0   \n",
      "1     0   0   0    0   1     0   0   0   0     0  ...    0      0       0   \n",
      "2     0   0   0    0   0     0   0   0   0     0  ...    0      0       0   \n",
      "3     0   0   0    0   0     0   0   0   0     0  ...    0      0       0   \n",
      "4     0   0   0    0   0     0   0   0   0     0  ...    0      0       0   \n",
      "..  ...  ..  ..  ...  ..   ...  ..  ..  ..   ...  ...  ...    ...     ...   \n",
      "60    0   0   0    0   0     0   0   0   0     0  ...    0      0       0   \n",
      "61    0   0   0    0   0     0   0   0   0     0  ...    0      0       0   \n",
      "62    0   0   0    0   0     0   0   0   1     0  ...    0      0       0   \n",
      "63    0   0   0    0   0     0   0   0   0     0  ...    0      0       0   \n",
      "64    0   0   0    0   0     0   0   0   0     0  ...    0      0       0   \n",
      "\n",
      "    year  years  yes  yielding  york  zurich     Label  \n",
      "0      0      0    0         0     0       0  Sci/Tech  \n",
      "1      0      0    0         0     0       0  Business  \n",
      "2      1      0    0         0     0       0  Sci/Tech  \n",
      "3      0      0    0         0     0       0    Sports  \n",
      "4      1      0    0         0     0       0  Business  \n",
      "..   ...    ...  ...       ...   ...     ...       ...  \n",
      "60     0      0    0         0     0       0  Business  \n",
      "61     0      0    0         0     0       0    Sports  \n",
      "62     0      0    0         0     0       0     World  \n",
      "63     0      0    0         0     0       0  Business  \n",
      "64     0      0    0         0     0       0     World  \n",
      "\n",
      "[65 rows x 1044 columns]\n"
     ]
    },
    {
     "name": "stderr",
     "output_type": "stream",
     "text": [
      "progress bar:  85%|████████████████████████████████████▍      | 55/65 [01:42<00:18,  1.87s/it]"
     ]
    },
    {
     "name": "stdout",
     "output_type": "stream",
     "text": [
      "    000  08  10  100  11  12th  15  16  18  1904  ...  www  yasir  yasser  \\\n",
      "0     0   0   0    0   0     0   0   0   0     0  ...    0      0       0   \n",
      "1     0   0   0    0   1     0   0   0   0     0  ...    0      0       0   \n",
      "2     0   0   0    0   0     0   0   0   0     0  ...    0      0       0   \n",
      "3     0   0   0    0   0     0   0   0   0     0  ...    0      0       0   \n",
      "4     0   0   0    0   0     0   0   0   0     0  ...    0      0       0   \n",
      "..  ...  ..  ..  ...  ..   ...  ..  ..  ..   ...  ...  ...    ...     ...   \n",
      "60    0   0   0    0   0     0   0   0   0     0  ...    0      0       0   \n",
      "61    0   0   0    0   0     0   0   0   0     0  ...    0      0       0   \n",
      "62    0   0   0    0   0     0   0   0   1     0  ...    0      0       0   \n",
      "63    0   0   0    0   0     0   0   0   0     0  ...    0      0       0   \n",
      "64    0   0   0    0   0     0   0   0   0     0  ...    0      0       0   \n",
      "\n",
      "    year  years  yes  yielding  york  zurich     Label  \n",
      "0      0      0    0         0     0       0  Sci/Tech  \n",
      "1      0      0    0         0     0       0  Business  \n",
      "2      1      0    0         0     0       0  Sci/Tech  \n",
      "3      0      0    0         0     0       0    Sports  \n",
      "4      1      0    0         0     0       0  Business  \n",
      "..   ...    ...  ...       ...   ...     ...       ...  \n",
      "60     0      0    0         0     0       0  Business  \n",
      "61     0      0    0         0     0       0    Sports  \n",
      "62     0      0    0         0     0       0     World  \n",
      "63     0      0    0         0     0       0  Business  \n",
      "64     0      0    0         0     0       0     World  \n",
      "\n",
      "[65 rows x 1044 columns]\n"
     ]
    },
    {
     "name": "stderr",
     "output_type": "stream",
     "text": [
      "progress bar:  86%|█████████████████████████████████████      | 56/65 [01:43<00:16,  1.87s/it]"
     ]
    },
    {
     "name": "stdout",
     "output_type": "stream",
     "text": [
      "    000  08  10  100  11  12th  15  16  18  1904  ...  www  yasir  yasser  \\\n",
      "0     0   0   0    0   0     0   0   0   0     0  ...    0      0       0   \n",
      "1     0   0   0    0   1     0   0   0   0     0  ...    0      0       0   \n",
      "2     0   0   0    0   0     0   0   0   0     0  ...    0      0       0   \n",
      "3     0   0   0    0   0     0   0   0   0     0  ...    0      0       0   \n",
      "4     0   0   0    0   0     0   0   0   0     0  ...    0      0       0   \n",
      "..  ...  ..  ..  ...  ..   ...  ..  ..  ..   ...  ...  ...    ...     ...   \n",
      "60    0   0   0    0   0     0   0   0   0     0  ...    0      0       0   \n",
      "61    0   0   0    0   0     0   0   0   0     0  ...    0      0       0   \n",
      "62    0   0   0    0   0     0   0   0   1     0  ...    0      0       0   \n",
      "63    0   0   0    0   0     0   0   0   0     0  ...    0      0       0   \n",
      "64    0   0   0    0   0     0   0   0   0     0  ...    0      0       0   \n",
      "\n",
      "    year  years  yes  yielding  york  zurich     Label  \n",
      "0      0      0    0         0     0       0  Sci/Tech  \n",
      "1      0      0    0         0     0       0  Business  \n",
      "2      1      0    0         0     0       0  Sci/Tech  \n",
      "3      0      0    0         0     0       0    Sports  \n",
      "4      1      0    0         0     0       0  Business  \n",
      "..   ...    ...  ...       ...   ...     ...       ...  \n",
      "60     0      0    0         0     0       0  Business  \n",
      "61     0      0    0         0     0       0    Sports  \n",
      "62     0      0    0         0     0       0     World  \n",
      "63     0      0    0         0     0       0  Business  \n",
      "64     0      0    0         0     0       0     World  \n",
      "\n",
      "[65 rows x 1044 columns]\n"
     ]
    },
    {
     "name": "stderr",
     "output_type": "stream",
     "text": [
      "progress bar:  88%|█████████████████████████████████████▋     | 57/65 [01:45<00:15,  1.88s/it]"
     ]
    },
    {
     "name": "stdout",
     "output_type": "stream",
     "text": [
      "    000  08  10  100  11  12th  15  16  18  1904  ...  www  yasir  yasser  \\\n",
      "0     0   0   0    0   0     0   0   0   0     0  ...    0      0       0   \n",
      "1     0   0   0    0   1     0   0   0   0     0  ...    0      0       0   \n",
      "2     0   0   0    0   0     0   0   0   0     0  ...    0      0       0   \n",
      "3     0   0   0    0   0     0   0   0   0     0  ...    0      0       0   \n",
      "4     0   0   0    0   0     0   0   0   0     0  ...    0      0       0   \n",
      "..  ...  ..  ..  ...  ..   ...  ..  ..  ..   ...  ...  ...    ...     ...   \n",
      "60    0   0   0    0   0     0   0   0   0     0  ...    0      0       0   \n",
      "61    0   0   0    0   0     0   0   0   0     0  ...    0      0       0   \n",
      "62    0   0   0    0   0     0   0   0   1     0  ...    0      0       0   \n",
      "63    0   0   0    0   0     0   0   0   0     0  ...    0      0       0   \n",
      "64    0   0   0    0   0     0   0   0   0     0  ...    0      0       0   \n",
      "\n",
      "    year  years  yes  yielding  york  zurich     Label  \n",
      "0      0      0    0         0     0       0  Sci/Tech  \n",
      "1      0      0    0         0     0       0  Business  \n",
      "2      1      0    0         0     0       0  Sci/Tech  \n",
      "3      0      0    0         0     0       0    Sports  \n",
      "4      1      0    0         0     0       0  Business  \n",
      "..   ...    ...  ...       ...   ...     ...       ...  \n",
      "60     0      0    0         0     0       0  Business  \n",
      "61     0      0    0         0     0       0    Sports  \n",
      "62     0      0    0         0     0       0     World  \n",
      "63     0      0    0         0     0       0  Business  \n",
      "64     0      0    0         0     0       0     World  \n",
      "\n",
      "[65 rows x 1044 columns]\n"
     ]
    },
    {
     "name": "stderr",
     "output_type": "stream",
     "text": [
      "progress bar:  89%|██████████████████████████████████████▎    | 58/65 [01:47<00:13,  1.89s/it]"
     ]
    },
    {
     "name": "stdout",
     "output_type": "stream",
     "text": [
      "    000  08  10  100  11  12th  15  16  18  1904  ...  www  yasir  yasser  \\\n",
      "0     0   0   0    0   0     0   0   0   0     0  ...    0      0       0   \n",
      "1     0   0   0    0   1     0   0   0   0     0  ...    0      0       0   \n",
      "2     0   0   0    0   0     0   0   0   0     0  ...    0      0       0   \n",
      "3     0   0   0    0   0     0   0   0   0     0  ...    0      0       0   \n",
      "4     0   0   0    0   0     0   0   0   0     0  ...    0      0       0   \n",
      "..  ...  ..  ..  ...  ..   ...  ..  ..  ..   ...  ...  ...    ...     ...   \n",
      "60    0   0   0    0   0     0   0   0   0     0  ...    0      0       0   \n",
      "61    0   0   0    0   0     0   0   0   0     0  ...    0      0       0   \n",
      "62    0   0   0    0   0     0   0   0   1     0  ...    0      0       0   \n",
      "63    0   0   0    0   0     0   0   0   0     0  ...    0      0       0   \n",
      "64    0   0   0    0   0     0   0   0   0     0  ...    0      0       0   \n",
      "\n",
      "    year  years  yes  yielding  york  zurich     Label  \n",
      "0      0      0    0         0     0       0  Sci/Tech  \n",
      "1      0      0    0         0     0       0  Business  \n",
      "2      1      0    0         0     0       0  Sci/Tech  \n",
      "3      0      0    0         0     0       0    Sports  \n",
      "4      1      0    0         0     0       0  Business  \n",
      "..   ...    ...  ...       ...   ...     ...       ...  \n",
      "60     0      0    0         0     0       0  Business  \n",
      "61     0      0    0         0     0       0    Sports  \n",
      "62     0      0    0         0     0       0     World  \n",
      "63     0      0    0         0     0       0  Business  \n",
      "64     0      0    0         0     0       0     World  \n",
      "\n",
      "[65 rows x 1044 columns]\n"
     ]
    },
    {
     "name": "stderr",
     "output_type": "stream",
     "text": [
      "progress bar:  91%|███████████████████████████████████████    | 59/65 [01:49<00:11,  1.88s/it]"
     ]
    },
    {
     "name": "stdout",
     "output_type": "stream",
     "text": [
      "    000  08  10  100  11  12th  15  16  18  1904  ...  www  yasir  yasser  \\\n",
      "0     0   0   0    0   0     0   0   0   0     0  ...    0      0       0   \n",
      "1     0   0   0    0   1     0   0   0   0     0  ...    0      0       0   \n",
      "2     0   0   0    0   0     0   0   0   0     0  ...    0      0       0   \n",
      "3     0   0   0    0   0     0   0   0   0     0  ...    0      0       0   \n",
      "4     0   0   0    0   0     0   0   0   0     0  ...    0      0       0   \n",
      "..  ...  ..  ..  ...  ..   ...  ..  ..  ..   ...  ...  ...    ...     ...   \n",
      "60    0   0   0    0   0     0   0   0   0     0  ...    0      0       0   \n",
      "61    0   0   0    0   0     0   0   0   0     0  ...    0      0       0   \n",
      "62    0   0   0    0   0     0   0   0   1     0  ...    0      0       0   \n",
      "63    0   0   0    0   0     0   0   0   0     0  ...    0      0       0   \n",
      "64    0   0   0    0   0     0   0   0   0     0  ...    0      0       0   \n",
      "\n",
      "    year  years  yes  yielding  york  zurich     Label  \n",
      "0      0      0    0         0     0       0  Sci/Tech  \n",
      "1      0      0    0         0     0       0  Business  \n",
      "2      1      0    0         0     0       0  Sci/Tech  \n",
      "3      0      0    0         0     0       0    Sports  \n",
      "4      1      0    0         0     0       0  Business  \n",
      "..   ...    ...  ...       ...   ...     ...       ...  \n",
      "60     0      0    0         0     0       0  Business  \n",
      "61     0      0    0         0     0       0    Sports  \n",
      "62     0      0    0         0     0       0     World  \n",
      "63     0      0    0         0     0       0  Business  \n",
      "64     0      0    0         0     0       0     World  \n",
      "\n",
      "[65 rows x 1044 columns]\n"
     ]
    },
    {
     "name": "stderr",
     "output_type": "stream",
     "text": [
      "progress bar:  92%|███████████████████████████████████████▋   | 60/65 [01:51<00:09,  1.89s/it]"
     ]
    },
    {
     "name": "stdout",
     "output_type": "stream",
     "text": [
      "    000  08  10  100  11  12th  15  16  18  1904  ...  www  yasir  yasser  \\\n",
      "0     0   0   0    0   0     0   0   0   0     0  ...    0      0       0   \n",
      "1     0   0   0    0   1     0   0   0   0     0  ...    0      0       0   \n",
      "2     0   0   0    0   0     0   0   0   0     0  ...    0      0       0   \n",
      "3     0   0   0    0   0     0   0   0   0     0  ...    0      0       0   \n",
      "4     0   0   0    0   0     0   0   0   0     0  ...    0      0       0   \n",
      "..  ...  ..  ..  ...  ..   ...  ..  ..  ..   ...  ...  ...    ...     ...   \n",
      "60    0   0   0    0   0     0   0   0   0     0  ...    0      0       0   \n",
      "61    0   0   0    0   0     0   0   0   0     0  ...    0      0       0   \n",
      "62    0   0   0    0   0     0   0   0   1     0  ...    0      0       0   \n",
      "63    0   0   0    0   0     0   0   0   0     0  ...    0      0       0   \n",
      "64    0   0   0    0   0     0   0   0   0     0  ...    0      0       0   \n",
      "\n",
      "    year  years  yes  yielding  york  zurich     Label  \n",
      "0      0      0    0         0     0       0  Sci/Tech  \n",
      "1      0      0    0         0     0       0  Business  \n",
      "2      1      0    0         0     0       0  Sci/Tech  \n",
      "3      0      0    0         0     0       0    Sports  \n",
      "4      1      0    0         0     0       0  Business  \n",
      "..   ...    ...  ...       ...   ...     ...       ...  \n",
      "60     0      0    0         0     0       0  Business  \n",
      "61     0      0    0         0     0       0    Sports  \n",
      "62     0      0    0         0     0       0     World  \n",
      "63     0      0    0         0     0       0  Business  \n",
      "64     0      0    0         0     0       0     World  \n",
      "\n",
      "[65 rows x 1044 columns]\n"
     ]
    },
    {
     "name": "stderr",
     "output_type": "stream",
     "text": [
      "progress bar:  94%|████████████████████████████████████████▎  | 61/65 [01:53<00:07,  1.89s/it]"
     ]
    },
    {
     "name": "stdout",
     "output_type": "stream",
     "text": [
      "    000  08  10  100  11  12th  15  16  18  1904  ...  www  yasir  yasser  \\\n",
      "0     0   0   0    0   0     0   0   0   0     0  ...    0      0       0   \n",
      "1     0   0   0    0   1     0   0   0   0     0  ...    0      0       0   \n",
      "2     0   0   0    0   0     0   0   0   0     0  ...    0      0       0   \n",
      "3     0   0   0    0   0     0   0   0   0     0  ...    0      0       0   \n",
      "4     0   0   0    0   0     0   0   0   0     0  ...    0      0       0   \n",
      "..  ...  ..  ..  ...  ..   ...  ..  ..  ..   ...  ...  ...    ...     ...   \n",
      "60    0   0   0    0   0     0   0   0   0     0  ...    0      0       0   \n",
      "61    0   0   0    0   0     0   0   0   0     0  ...    0      0       0   \n",
      "62    0   0   0    0   0     0   0   0   1     0  ...    0      0       0   \n",
      "63    0   0   0    0   0     0   0   0   0     0  ...    0      0       0   \n",
      "64    0   0   0    0   0     0   0   0   0     0  ...    0      0       0   \n",
      "\n",
      "    year  years  yes  yielding  york  zurich     Label  \n",
      "0      0      0    0         0     0       0  Sci/Tech  \n",
      "1      0      0    0         0     0       0  Business  \n",
      "2      1      0    0         0     0       0  Sci/Tech  \n",
      "3      0      0    0         0     0       0    Sports  \n",
      "4      1      0    0         0     0       0  Business  \n",
      "..   ...    ...  ...       ...   ...     ...       ...  \n",
      "60     0      0    0         0     0       0  Business  \n",
      "61     0      0    0         0     0       0    Sports  \n",
      "62     0      0    0         0     0       0     World  \n",
      "63     0      0    0         0     0       0  Business  \n",
      "64     0      0    0         0     0       0     World  \n",
      "\n",
      "[65 rows x 1044 columns]\n"
     ]
    },
    {
     "name": "stderr",
     "output_type": "stream",
     "text": [
      "progress bar:  95%|█████████████████████████████████████████  | 62/65 [01:55<00:05,  1.90s/it]"
     ]
    },
    {
     "name": "stdout",
     "output_type": "stream",
     "text": [
      "    000  08  10  100  11  12th  15  16  18  1904  ...  www  yasir  yasser  \\\n",
      "0     0   0   0    0   0     0   0   0   0     0  ...    0      0       0   \n",
      "1     0   0   0    0   1     0   0   0   0     0  ...    0      0       0   \n",
      "2     0   0   0    0   0     0   0   0   0     0  ...    0      0       0   \n",
      "3     0   0   0    0   0     0   0   0   0     0  ...    0      0       0   \n",
      "4     0   0   0    0   0     0   0   0   0     0  ...    0      0       0   \n",
      "..  ...  ..  ..  ...  ..   ...  ..  ..  ..   ...  ...  ...    ...     ...   \n",
      "60    0   0   0    0   0     0   0   0   0     0  ...    0      0       0   \n",
      "61    0   0   0    0   0     0   0   0   0     0  ...    0      0       0   \n",
      "62    0   0   0    0   0     0   0   0   1     0  ...    0      0       0   \n",
      "63    0   0   0    0   0     0   0   0   0     0  ...    0      0       0   \n",
      "64    0   0   0    0   0     0   0   0   0     0  ...    0      0       0   \n",
      "\n",
      "    year  years  yes  yielding  york  zurich     Label  \n",
      "0      0      0    0         0     0       0  Sci/Tech  \n",
      "1      0      0    0         0     0       0  Business  \n",
      "2      1      0    0         0     0       0  Sci/Tech  \n",
      "3      0      0    0         0     0       0    Sports  \n",
      "4      1      0    0         0     0       0  Business  \n",
      "..   ...    ...  ...       ...   ...     ...       ...  \n",
      "60     0      0    0         0     0       0  Business  \n",
      "61     0      0    0         0     0       0    Sports  \n",
      "62     0      0    0         0     0       0     World  \n",
      "63     0      0    0         0     0       0  Business  \n",
      "64     0      0    0         0     0       0     World  \n",
      "\n",
      "[65 rows x 1044 columns]\n"
     ]
    },
    {
     "name": "stderr",
     "output_type": "stream",
     "text": [
      "progress bar:  97%|█████████████████████████████████████████▋ | 63/65 [01:57<00:03,  1.91s/it]"
     ]
    },
    {
     "name": "stdout",
     "output_type": "stream",
     "text": [
      "    000  08  10  100  11  12th  15  16  18  1904  ...  www  yasir  yasser  \\\n",
      "0     0   0   0    0   0     0   0   0   0     0  ...    0      0       0   \n",
      "1     0   0   0    0   1     0   0   0   0     0  ...    0      0       0   \n",
      "2     0   0   0    0   0     0   0   0   0     0  ...    0      0       0   \n",
      "3     0   0   0    0   0     0   0   0   0     0  ...    0      0       0   \n",
      "4     0   0   0    0   0     0   0   0   0     0  ...    0      0       0   \n",
      "..  ...  ..  ..  ...  ..   ...  ..  ..  ..   ...  ...  ...    ...     ...   \n",
      "60    0   0   0    0   0     0   0   0   0     0  ...    0      0       0   \n",
      "61    0   0   0    0   0     0   0   0   0     0  ...    0      0       0   \n",
      "62    0   0   0    0   0     0   0   0   1     0  ...    0      0       0   \n",
      "63    0   0   0    0   0     0   0   0   0     0  ...    0      0       0   \n",
      "64    0   0   0    0   0     0   0   0   0     0  ...    0      0       0   \n",
      "\n",
      "    year  years  yes  yielding  york  zurich     Label  \n",
      "0      0      0    0         0     0       0  Sci/Tech  \n",
      "1      0      0    0         0     0       0  Business  \n",
      "2      1      0    0         0     0       0  Sci/Tech  \n",
      "3      0      0    0         0     0       0    Sports  \n",
      "4      1      0    0         0     0       0  Business  \n",
      "..   ...    ...  ...       ...   ...     ...       ...  \n",
      "60     0      0    0         0     0       0  Business  \n",
      "61     0      0    0         0     0       0    Sports  \n",
      "62     0      0    0         0     0       0     World  \n",
      "63     0      0    0         0     0       0  Business  \n",
      "64     0      0    0         0     0       0     World  \n",
      "\n",
      "[65 rows x 1044 columns]\n"
     ]
    },
    {
     "name": "stderr",
     "output_type": "stream",
     "text": [
      "progress bar:  98%|██████████████████████████████████████████▎| 64/65 [01:59<00:01,  1.90s/it]"
     ]
    },
    {
     "name": "stdout",
     "output_type": "stream",
     "text": [
      "    000  08  10  100  11  12th  15  16  18  1904  ...  www  yasir  yasser  \\\n",
      "0     0   0   0    0   0     0   0   0   0     0  ...    0      0       0   \n",
      "1     0   0   0    0   1     0   0   0   0     0  ...    0      0       0   \n",
      "2     0   0   0    0   0     0   0   0   0     0  ...    0      0       0   \n",
      "3     0   0   0    0   0     0   0   0   0     0  ...    0      0       0   \n",
      "4     0   0   0    0   0     0   0   0   0     0  ...    0      0       0   \n",
      "..  ...  ..  ..  ...  ..   ...  ..  ..  ..   ...  ...  ...    ...     ...   \n",
      "60    0   0   0    0   0     0   0   0   0     0  ...    0      0       0   \n",
      "61    0   0   0    0   0     0   0   0   0     0  ...    0      0       0   \n",
      "62    0   0   0    0   0     0   0   0   1     0  ...    0      0       0   \n",
      "63    0   0   0    0   0     0   0   0   0     0  ...    0      0       0   \n",
      "64    0   0   0    0   0     0   0   0   0     0  ...    0      0       0   \n",
      "\n",
      "    year  years  yes  yielding  york  zurich     Label  \n",
      "0      0      0    0         0     0       0  Sci/Tech  \n",
      "1      0      0    0         0     0       0  Business  \n",
      "2      1      0    0         0     0       0  Sci/Tech  \n",
      "3      0      0    0         0     0       0    Sports  \n",
      "4      1      0    0         0     0       0  Business  \n",
      "..   ...    ...  ...       ...   ...     ...       ...  \n",
      "60     0      0    0         0     0       0  Business  \n",
      "61     0      0    0         0     0       0    Sports  \n",
      "62     0      0    0         0     0       0     World  \n",
      "63     0      0    0         0     0       0  Business  \n",
      "64     0      0    0         0     0       0     World  \n",
      "\n",
      "[65 rows x 1044 columns]\n"
     ]
    },
    {
     "name": "stderr",
     "output_type": "stream",
     "text": [
      "progress bar: 100%|███████████████████████████████████████████| 65/65 [02:01<00:00,  1.91s/it]"
     ]
    },
    {
     "name": "stdout",
     "output_type": "stream",
     "text": [
      "    000  08  10  100  11  12th  15  16  18  1904  ...  www  yasir  yasser  \\\n",
      "0     0   0   0    0   0     0   0   0   0     0  ...    0      0       0   \n",
      "1     0   0   0    0   1     0   0   0   0     0  ...    0      0       0   \n",
      "2     0   0   0    0   0     0   0   0   0     0  ...    0      0       0   \n",
      "3     0   0   0    0   0     0   0   0   0     0  ...    0      0       0   \n",
      "4     0   0   0    0   0     0   0   0   0     0  ...    0      0       0   \n",
      "..  ...  ..  ..  ...  ..   ...  ..  ..  ..   ...  ...  ...    ...     ...   \n",
      "60    0   0   0    0   0     0   0   0   0     0  ...    0      0       0   \n",
      "61    0   0   0    0   0     0   0   0   0     0  ...    0      0       0   \n",
      "62    0   0   0    0   0     0   0   0   1     0  ...    0      0       0   \n",
      "63    0   0   0    0   0     0   0   0   0     0  ...    0      0       0   \n",
      "64    0   0   0    0   0     0   0   0   0     0  ...    0      0       0   \n",
      "\n",
      "    year  years  yes  yielding  york  zurich     Label  \n",
      "0      0      0    0         0     0       0  Sci/Tech  \n",
      "1      0      0    0         0     0       0  Business  \n",
      "2      1      0    0         0     0       0  Sci/Tech  \n",
      "3      0      0    0         0     0       0    Sports  \n",
      "4      1      0    0         0     0       0  Business  \n",
      "..   ...    ...  ...       ...   ...     ...       ...  \n",
      "60     0      0    0         0     0       0  Business  \n",
      "61     0      0    0         0     0       0    Sports  \n",
      "62     0      0    0         0     0       0     World  \n",
      "63     0      0    0         0     0       0  Business  \n",
      "64     0      0    0         0     0       0     World  \n",
      "\n",
      "[65 rows x 1044 columns]\n"
     ]
    },
    {
     "name": "stderr",
     "output_type": "stream",
     "text": [
      "progress bar: 100%|███████████████████████████████████████████| 65/65 [02:02<00:00,  1.89s/it]\n"
     ]
    }
   ],
   "source": [
    "tqdm.pandas(desc = \"progress bar\")\n",
    "predictions_train = counts_train.progress_apply(lambda row: NB.predict(row, has_target = True), axis = 1)"
   ]
  },
  {
   "cell_type": "code",
   "execution_count": 45,
   "id": "d5d28049-9034-4106-b7e8-014a91199114",
   "metadata": {},
   "outputs": [
    {
     "data": {
      "image/png": "[encoded data removed]",
      "text/plain": [
       "<Figure size 640x480 with 2 Axes>"
      ]
     },
     "metadata": {},
     "output_type": "display_data"
    }
   ],
   "source": [
    "conf = confusion_matrix(counts_train[\"Label\"], predictions_train)\n",
    "\n",
    "plt.figure()\n",
    "plot = plot_confusion_matrix(conf, classes = [\"World\", \"Sports\", \"Business\", \"Sci/Tech\"], title = \"Confusion matrix - Train Split\")\n",
    "plt.show()"
   ]
  },
  {
   "cell_type": "code",
   "execution_count": 47,
   "id": "5d1357cd-54ed-4b0b-a514-6d783a286a1b",
   "metadata": {},
   "outputs": [
    {
     "name": "stdout",
     "output_type": "stream",
     "text": [
      "Train Accuracy:  1.0\n"
     ]
    }
   ],
   "source": [
    "print(\"Train Accuracy: \", accuracy_score(counts_train[\"Label\"], predictions_train))"
   ]
  },
  {
   "cell_type": "markdown",
   "id": "a3dd8010-9777-4366-af31-6dc83cc84e25",
   "metadata": {},
   "source": [
    "### ...and on the test data"
   ]
  },
  {
   "cell_type": "code",
   "execution_count": 46,
   "id": "0410697d-2f38-484c-a908-395d86eed230",
   "metadata": {},
   "outputs": [
    {
     "name": "stderr",
     "output_type": "stream",
     "text": [
      "progress bar:   0%|                                                    | 0/35 [00:00<?, ?it/s]"
     ]
    },
    {
     "name": "stdout",
     "output_type": "stream",
     "text": [
      "    000  08  10  100  11  12th  15  16  18  1904  ...  www  yasir  yasser  \\\n",
      "0     0   0   0    0   0     0   0   0   0     0  ...    0      0       0   \n",
      "1     0   0   0    0   1     0   0   0   0     0  ...    0      0       0   \n",
      "2     0   0   0    0   0     0   0   0   0     0  ...    0      0       0   \n",
      "3     0   0   0    0   0     0   0   0   0     0  ...    0      0       0   \n",
      "4     0   0   0    0   0     0   0   0   0     0  ...    0      0       0   \n",
      "..  ...  ..  ..  ...  ..   ...  ..  ..  ..   ...  ...  ...    ...     ...   \n",
      "60    0   0   0    0   0     0   0   0   0     0  ...    0      0       0   \n",
      "61    0   0   0    0   0     0   0   0   0     0  ...    0      0       0   \n",
      "62    0   0   0    0   0     0   0   0   1     0  ...    0      0       0   \n",
      "63    0   0   0    0   0     0   0   0   0     0  ...    0      0       0   \n",
      "64    0   0   0    0   0     0   0   0   0     0  ...    0      0       0   \n",
      "\n",
      "    year  years  yes  yielding  york  zurich     Label  \n",
      "0      0      0    0         0     0       0  Sci/Tech  \n",
      "1      0      0    0         0     0       0  Business  \n",
      "2      1      0    0         0     0       0  Sci/Tech  \n",
      "3      0      0    0         0     0       0    Sports  \n",
      "4      1      0    0         0     0       0  Business  \n",
      "..   ...    ...  ...       ...   ...     ...       ...  \n",
      "60     0      0    0         0     0       0  Business  \n",
      "61     0      0    0         0     0       0    Sports  \n",
      "62     0      0    0         0     0       0     World  \n",
      "63     0      0    0         0     0       0  Business  \n",
      "64     0      0    0         0     0       0     World  \n",
      "\n",
      "[65 rows x 1044 columns]\n"
     ]
    },
    {
     "name": "stderr",
     "output_type": "stream",
     "text": [
      "progress bar:   6%|██▌                                         | 2/35 [00:01<00:31,  1.04it/s]"
     ]
    },
    {
     "name": "stdout",
     "output_type": "stream",
     "text": [
      "    000  08  10  100  11  12th  15  16  18  1904  ...  www  yasir  yasser  \\\n",
      "0     0   0   0    0   0     0   0   0   0     0  ...    0      0       0   \n",
      "1     0   0   0    0   1     0   0   0   0     0  ...    0      0       0   \n",
      "2     0   0   0    0   0     0   0   0   0     0  ...    0      0       0   \n",
      "3     0   0   0    0   0     0   0   0   0     0  ...    0      0       0   \n",
      "4     0   0   0    0   0     0   0   0   0     0  ...    0      0       0   \n",
      "..  ...  ..  ..  ...  ..   ...  ..  ..  ..   ...  ...  ...    ...     ...   \n",
      "60    0   0   0    0   0     0   0   0   0     0  ...    0      0       0   \n",
      "61    0   0   0    0   0     0   0   0   0     0  ...    0      0       0   \n",
      "62    0   0   0    0   0     0   0   0   1     0  ...    0      0       0   \n",
      "63    0   0   0    0   0     0   0   0   0     0  ...    0      0       0   \n",
      "64    0   0   0    0   0     0   0   0   0     0  ...    0      0       0   \n",
      "\n",
      "    year  years  yes  yielding  york  zurich     Label  \n",
      "0      0      0    0         0     0       0  Sci/Tech  \n",
      "1      0      0    0         0     0       0  Business  \n",
      "2      1      0    0         0     0       0  Sci/Tech  \n",
      "3      0      0    0         0     0       0    Sports  \n",
      "4      1      0    0         0     0       0  Business  \n",
      "..   ...    ...  ...       ...   ...     ...       ...  \n",
      "60     0      0    0         0     0       0  Business  \n",
      "61     0      0    0         0     0       0    Sports  \n",
      "62     0      0    0         0     0       0     World  \n",
      "63     0      0    0         0     0       0  Business  \n",
      "64     0      0    0         0     0       0     World  \n",
      "\n",
      "[65 rows x 1044 columns]\n"
     ]
    },
    {
     "name": "stderr",
     "output_type": "stream",
     "text": [
      "progress bar:   9%|███▊                                        | 3/35 [00:03<00:43,  1.36s/it]"
     ]
    },
    {
     "name": "stdout",
     "output_type": "stream",
     "text": [
      "    000  08  10  100  11  12th  15  16  18  1904  ...  www  yasir  yasser  \\\n",
      "0     0   0   0    0   0     0   0   0   0     0  ...    0      0       0   \n",
      "1     0   0   0    0   1     0   0   0   0     0  ...    0      0       0   \n",
      "2     0   0   0    0   0     0   0   0   0     0  ...    0      0       0   \n",
      "3     0   0   0    0   0     0   0   0   0     0  ...    0      0       0   \n",
      "4     0   0   0    0   0     0   0   0   0     0  ...    0      0       0   \n",
      "..  ...  ..  ..  ...  ..   ...  ..  ..  ..   ...  ...  ...    ...     ...   \n",
      "60    0   0   0    0   0     0   0   0   0     0  ...    0      0       0   \n",
      "61    0   0   0    0   0     0   0   0   0     0  ...    0      0       0   \n",
      "62    0   0   0    0   0     0   0   0   1     0  ...    0      0       0   \n",
      "63    0   0   0    0   0     0   0   0   0     0  ...    0      0       0   \n",
      "64    0   0   0    0   0     0   0   0   0     0  ...    0      0       0   \n",
      "\n",
      "    year  years  yes  yielding  york  zurich     Label  \n",
      "0      0      0    0         0     0       0  Sci/Tech  \n",
      "1      0      0    0         0     0       0  Business  \n",
      "2      1      0    0         0     0       0  Sci/Tech  \n",
      "3      0      0    0         0     0       0    Sports  \n",
      "4      1      0    0         0     0       0  Business  \n",
      "..   ...    ...  ...       ...   ...     ...       ...  \n",
      "60     0      0    0         0     0       0  Business  \n",
      "61     0      0    0         0     0       0    Sports  \n",
      "62     0      0    0         0     0       0     World  \n",
      "63     0      0    0         0     0       0  Business  \n",
      "64     0      0    0         0     0       0     World  \n",
      "\n",
      "[65 rows x 1044 columns]\n"
     ]
    },
    {
     "name": "stderr",
     "output_type": "stream",
     "text": [
      "progress bar:  11%|█████                                       | 4/35 [00:05<00:48,  1.56s/it]"
     ]
    },
    {
     "name": "stdout",
     "output_type": "stream",
     "text": [
      "    000  08  10  100  11  12th  15  16  18  1904  ...  www  yasir  yasser  \\\n",
      "0     0   0   0    0   0     0   0   0   0     0  ...    0      0       0   \n",
      "1     0   0   0    0   1     0   0   0   0     0  ...    0      0       0   \n",
      "2     0   0   0    0   0     0   0   0   0     0  ...    0      0       0   \n",
      "3     0   0   0    0   0     0   0   0   0     0  ...    0      0       0   \n",
      "4     0   0   0    0   0     0   0   0   0     0  ...    0      0       0   \n",
      "..  ...  ..  ..  ...  ..   ...  ..  ..  ..   ...  ...  ...    ...     ...   \n",
      "60    0   0   0    0   0     0   0   0   0     0  ...    0      0       0   \n",
      "61    0   0   0    0   0     0   0   0   0     0  ...    0      0       0   \n",
      "62    0   0   0    0   0     0   0   0   1     0  ...    0      0       0   \n",
      "63    0   0   0    0   0     0   0   0   0     0  ...    0      0       0   \n",
      "64    0   0   0    0   0     0   0   0   0     0  ...    0      0       0   \n",
      "\n",
      "    year  years  yes  yielding  york  zurich     Label  \n",
      "0      0      0    0         0     0       0  Sci/Tech  \n",
      "1      0      0    0         0     0       0  Business  \n",
      "2      1      0    0         0     0       0  Sci/Tech  \n",
      "3      0      0    0         0     0       0    Sports  \n",
      "4      1      0    0         0     0       0  Business  \n",
      "..   ...    ...  ...       ...   ...     ...       ...  \n",
      "60     0      0    0         0     0       0  Business  \n",
      "61     0      0    0         0     0       0    Sports  \n",
      "62     0      0    0         0     0       0     World  \n",
      "63     0      0    0         0     0       0  Business  \n",
      "64     0      0    0         0     0       0     World  \n",
      "\n",
      "[65 rows x 1044 columns]\n"
     ]
    },
    {
     "name": "stderr",
     "output_type": "stream",
     "text": [
      "progress bar:  14%|██████▎                                     | 5/35 [00:07<00:50,  1.68s/it]"
     ]
    },
    {
     "name": "stdout",
     "output_type": "stream",
     "text": [
      "    000  08  10  100  11  12th  15  16  18  1904  ...  www  yasir  yasser  \\\n",
      "0     0   0   0    0   0     0   0   0   0     0  ...    0      0       0   \n",
      "1     0   0   0    0   1     0   0   0   0     0  ...    0      0       0   \n",
      "2     0   0   0    0   0     0   0   0   0     0  ...    0      0       0   \n",
      "3     0   0   0    0   0     0   0   0   0     0  ...    0      0       0   \n",
      "4     0   0   0    0   0     0   0   0   0     0  ...    0      0       0   \n",
      "..  ...  ..  ..  ...  ..   ...  ..  ..  ..   ...  ...  ...    ...     ...   \n",
      "60    0   0   0    0   0     0   0   0   0     0  ...    0      0       0   \n",
      "61    0   0   0    0   0     0   0   0   0     0  ...    0      0       0   \n",
      "62    0   0   0    0   0     0   0   0   1     0  ...    0      0       0   \n",
      "63    0   0   0    0   0     0   0   0   0     0  ...    0      0       0   \n",
      "64    0   0   0    0   0     0   0   0   0     0  ...    0      0       0   \n",
      "\n",
      "    year  years  yes  yielding  york  zurich     Label  \n",
      "0      0      0    0         0     0       0  Sci/Tech  \n",
      "1      0      0    0         0     0       0  Business  \n",
      "2      1      0    0         0     0       0  Sci/Tech  \n",
      "3      0      0    0         0     0       0    Sports  \n",
      "4      1      0    0         0     0       0  Business  \n",
      "..   ...    ...  ...       ...   ...     ...       ...  \n",
      "60     0      0    0         0     0       0  Business  \n",
      "61     0      0    0         0     0       0    Sports  \n",
      "62     0      0    0         0     0       0     World  \n",
      "63     0      0    0         0     0       0  Business  \n",
      "64     0      0    0         0     0       0     World  \n",
      "\n",
      "[65 rows x 1044 columns]\n"
     ]
    },
    {
     "name": "stderr",
     "output_type": "stream",
     "text": [
      "progress bar:  17%|███████▌                                    | 6/35 [00:09<00:51,  1.77s/it]"
     ]
    },
    {
     "name": "stdout",
     "output_type": "stream",
     "text": [
      "    000  08  10  100  11  12th  15  16  18  1904  ...  www  yasir  yasser  \\\n",
      "0     0   0   0    0   0     0   0   0   0     0  ...    0      0       0   \n",
      "1     0   0   0    0   1     0   0   0   0     0  ...    0      0       0   \n",
      "2     0   0   0    0   0     0   0   0   0     0  ...    0      0       0   \n",
      "3     0   0   0    0   0     0   0   0   0     0  ...    0      0       0   \n",
      "4     0   0   0    0   0     0   0   0   0     0  ...    0      0       0   \n",
      "..  ...  ..  ..  ...  ..   ...  ..  ..  ..   ...  ...  ...    ...     ...   \n",
      "60    0   0   0    0   0     0   0   0   0     0  ...    0      0       0   \n",
      "61    0   0   0    0   0     0   0   0   0     0  ...    0      0       0   \n",
      "62    0   0   0    0   0     0   0   0   1     0  ...    0      0       0   \n",
      "63    0   0   0    0   0     0   0   0   0     0  ...    0      0       0   \n",
      "64    0   0   0    0   0     0   0   0   0     0  ...    0      0       0   \n",
      "\n",
      "    year  years  yes  yielding  york  zurich     Label  \n",
      "0      0      0    0         0     0       0  Sci/Tech  \n",
      "1      0      0    0         0     0       0  Business  \n",
      "2      1      0    0         0     0       0  Sci/Tech  \n",
      "3      0      0    0         0     0       0    Sports  \n",
      "4      1      0    0         0     0       0  Business  \n",
      "..   ...    ...  ...       ...   ...     ...       ...  \n",
      "60     0      0    0         0     0       0  Business  \n",
      "61     0      0    0         0     0       0    Sports  \n",
      "62     0      0    0         0     0       0     World  \n",
      "63     0      0    0         0     0       0  Business  \n",
      "64     0      0    0         0     0       0     World  \n",
      "\n",
      "[65 rows x 1044 columns]\n"
     ]
    },
    {
     "name": "stderr",
     "output_type": "stream",
     "text": [
      "progress bar:  20%|████████▊                                   | 7/35 [00:11<00:51,  1.83s/it]"
     ]
    },
    {
     "name": "stdout",
     "output_type": "stream",
     "text": [
      "    000  08  10  100  11  12th  15  16  18  1904  ...  www  yasir  yasser  \\\n",
      "0     0   0   0    0   0     0   0   0   0     0  ...    0      0       0   \n",
      "1     0   0   0    0   1     0   0   0   0     0  ...    0      0       0   \n",
      "2     0   0   0    0   0     0   0   0   0     0  ...    0      0       0   \n",
      "3     0   0   0    0   0     0   0   0   0     0  ...    0      0       0   \n",
      "4     0   0   0    0   0     0   0   0   0     0  ...    0      0       0   \n",
      "..  ...  ..  ..  ...  ..   ...  ..  ..  ..   ...  ...  ...    ...     ...   \n",
      "60    0   0   0    0   0     0   0   0   0     0  ...    0      0       0   \n",
      "61    0   0   0    0   0     0   0   0   0     0  ...    0      0       0   \n",
      "62    0   0   0    0   0     0   0   0   1     0  ...    0      0       0   \n",
      "63    0   0   0    0   0     0   0   0   0     0  ...    0      0       0   \n",
      "64    0   0   0    0   0     0   0   0   0     0  ...    0      0       0   \n",
      "\n",
      "    year  years  yes  yielding  york  zurich     Label  \n",
      "0      0      0    0         0     0       0  Sci/Tech  \n",
      "1      0      0    0         0     0       0  Business  \n",
      "2      1      0    0         0     0       0  Sci/Tech  \n",
      "3      0      0    0         0     0       0    Sports  \n",
      "4      1      0    0         0     0       0  Business  \n",
      "..   ...    ...  ...       ...   ...     ...       ...  \n",
      "60     0      0    0         0     0       0  Business  \n",
      "61     0      0    0         0     0       0    Sports  \n",
      "62     0      0    0         0     0       0     World  \n",
      "63     0      0    0         0     0       0  Business  \n",
      "64     0      0    0         0     0       0     World  \n",
      "\n",
      "[65 rows x 1044 columns]\n"
     ]
    },
    {
     "name": "stderr",
     "output_type": "stream",
     "text": [
      "progress bar:  23%|██████████                                  | 8/35 [00:13<00:50,  1.86s/it]"
     ]
    },
    {
     "name": "stdout",
     "output_type": "stream",
     "text": [
      "    000  08  10  100  11  12th  15  16  18  1904  ...  www  yasir  yasser  \\\n",
      "0     0   0   0    0   0     0   0   0   0     0  ...    0      0       0   \n",
      "1     0   0   0    0   1     0   0   0   0     0  ...    0      0       0   \n",
      "2     0   0   0    0   0     0   0   0   0     0  ...    0      0       0   \n",
      "3     0   0   0    0   0     0   0   0   0     0  ...    0      0       0   \n",
      "4     0   0   0    0   0     0   0   0   0     0  ...    0      0       0   \n",
      "..  ...  ..  ..  ...  ..   ...  ..  ..  ..   ...  ...  ...    ...     ...   \n",
      "60    0   0   0    0   0     0   0   0   0     0  ...    0      0       0   \n",
      "61    0   0   0    0   0     0   0   0   0     0  ...    0      0       0   \n",
      "62    0   0   0    0   0     0   0   0   1     0  ...    0      0       0   \n",
      "63    0   0   0    0   0     0   0   0   0     0  ...    0      0       0   \n",
      "64    0   0   0    0   0     0   0   0   0     0  ...    0      0       0   \n",
      "\n",
      "    year  years  yes  yielding  york  zurich     Label  \n",
      "0      0      0    0         0     0       0  Sci/Tech  \n",
      "1      0      0    0         0     0       0  Business  \n",
      "2      1      0    0         0     0       0  Sci/Tech  \n",
      "3      0      0    0         0     0       0    Sports  \n",
      "4      1      0    0         0     0       0  Business  \n",
      "..   ...    ...  ...       ...   ...     ...       ...  \n",
      "60     0      0    0         0     0       0  Business  \n",
      "61     0      0    0         0     0       0    Sports  \n",
      "62     0      0    0         0     0       0     World  \n",
      "63     0      0    0         0     0       0  Business  \n",
      "64     0      0    0         0     0       0     World  \n",
      "\n",
      "[65 rows x 1044 columns]\n"
     ]
    },
    {
     "name": "stderr",
     "output_type": "stream",
     "text": [
      "progress bar:  26%|███████████▎                                | 9/35 [00:15<00:48,  1.88s/it]"
     ]
    },
    {
     "name": "stdout",
     "output_type": "stream",
     "text": [
      "    000  08  10  100  11  12th  15  16  18  1904  ...  www  yasir  yasser  \\\n",
      "0     0   0   0    0   0     0   0   0   0     0  ...    0      0       0   \n",
      "1     0   0   0    0   1     0   0   0   0     0  ...    0      0       0   \n",
      "2     0   0   0    0   0     0   0   0   0     0  ...    0      0       0   \n",
      "3     0   0   0    0   0     0   0   0   0     0  ...    0      0       0   \n",
      "4     0   0   0    0   0     0   0   0   0     0  ...    0      0       0   \n",
      "..  ...  ..  ..  ...  ..   ...  ..  ..  ..   ...  ...  ...    ...     ...   \n",
      "60    0   0   0    0   0     0   0   0   0     0  ...    0      0       0   \n",
      "61    0   0   0    0   0     0   0   0   0     0  ...    0      0       0   \n",
      "62    0   0   0    0   0     0   0   0   1     0  ...    0      0       0   \n",
      "63    0   0   0    0   0     0   0   0   0     0  ...    0      0       0   \n",
      "64    0   0   0    0   0     0   0   0   0     0  ...    0      0       0   \n",
      "\n",
      "    year  years  yes  yielding  york  zurich     Label  \n",
      "0      0      0    0         0     0       0  Sci/Tech  \n",
      "1      0      0    0         0     0       0  Business  \n",
      "2      1      0    0         0     0       0  Sci/Tech  \n",
      "3      0      0    0         0     0       0    Sports  \n",
      "4      1      0    0         0     0       0  Business  \n",
      "..   ...    ...  ...       ...   ...     ...       ...  \n",
      "60     0      0    0         0     0       0  Business  \n",
      "61     0      0    0         0     0       0    Sports  \n",
      "62     0      0    0         0     0       0     World  \n",
      "63     0      0    0         0     0       0  Business  \n",
      "64     0      0    0         0     0       0     World  \n",
      "\n",
      "[65 rows x 1044 columns]\n"
     ]
    },
    {
     "name": "stderr",
     "output_type": "stream",
     "text": [
      "progress bar:  29%|████████████▎                              | 10/35 [00:17<00:47,  1.88s/it]"
     ]
    },
    {
     "name": "stdout",
     "output_type": "stream",
     "text": [
      "    000  08  10  100  11  12th  15  16  18  1904  ...  www  yasir  yasser  \\\n",
      "0     0   0   0    0   0     0   0   0   0     0  ...    0      0       0   \n",
      "1     0   0   0    0   1     0   0   0   0     0  ...    0      0       0   \n",
      "2     0   0   0    0   0     0   0   0   0     0  ...    0      0       0   \n",
      "3     0   0   0    0   0     0   0   0   0     0  ...    0      0       0   \n",
      "4     0   0   0    0   0     0   0   0   0     0  ...    0      0       0   \n",
      "..  ...  ..  ..  ...  ..   ...  ..  ..  ..   ...  ...  ...    ...     ...   \n",
      "60    0   0   0    0   0     0   0   0   0     0  ...    0      0       0   \n",
      "61    0   0   0    0   0     0   0   0   0     0  ...    0      0       0   \n",
      "62    0   0   0    0   0     0   0   0   1     0  ...    0      0       0   \n",
      "63    0   0   0    0   0     0   0   0   0     0  ...    0      0       0   \n",
      "64    0   0   0    0   0     0   0   0   0     0  ...    0      0       0   \n",
      "\n",
      "    year  years  yes  yielding  york  zurich     Label  \n",
      "0      0      0    0         0     0       0  Sci/Tech  \n",
      "1      0      0    0         0     0       0  Business  \n",
      "2      1      0    0         0     0       0  Sci/Tech  \n",
      "3      0      0    0         0     0       0    Sports  \n",
      "4      1      0    0         0     0       0  Business  \n",
      "..   ...    ...  ...       ...   ...     ...       ...  \n",
      "60     0      0    0         0     0       0  Business  \n",
      "61     0      0    0         0     0       0    Sports  \n",
      "62     0      0    0         0     0       0     World  \n",
      "63     0      0    0         0     0       0  Business  \n",
      "64     0      0    0         0     0       0     World  \n",
      "\n",
      "[65 rows x 1044 columns]\n"
     ]
    },
    {
     "name": "stderr",
     "output_type": "stream",
     "text": [
      "progress bar:  31%|█████████████▌                             | 11/35 [00:19<00:45,  1.88s/it]"
     ]
    },
    {
     "name": "stdout",
     "output_type": "stream",
     "text": [
      "    000  08  10  100  11  12th  15  16  18  1904  ...  www  yasir  yasser  \\\n",
      "0     0   0   0    0   0     0   0   0   0     0  ...    0      0       0   \n",
      "1     0   0   0    0   1     0   0   0   0     0  ...    0      0       0   \n",
      "2     0   0   0    0   0     0   0   0   0     0  ...    0      0       0   \n",
      "3     0   0   0    0   0     0   0   0   0     0  ...    0      0       0   \n",
      "4     0   0   0    0   0     0   0   0   0     0  ...    0      0       0   \n",
      "..  ...  ..  ..  ...  ..   ...  ..  ..  ..   ...  ...  ...    ...     ...   \n",
      "60    0   0   0    0   0     0   0   0   0     0  ...    0      0       0   \n",
      "61    0   0   0    0   0     0   0   0   0     0  ...    0      0       0   \n",
      "62    0   0   0    0   0     0   0   0   1     0  ...    0      0       0   \n",
      "63    0   0   0    0   0     0   0   0   0     0  ...    0      0       0   \n",
      "64    0   0   0    0   0     0   0   0   0     0  ...    0      0       0   \n",
      "\n",
      "    year  years  yes  yielding  york  zurich     Label  \n",
      "0      0      0    0         0     0       0  Sci/Tech  \n",
      "1      0      0    0         0     0       0  Business  \n",
      "2      1      0    0         0     0       0  Sci/Tech  \n",
      "3      0      0    0         0     0       0    Sports  \n",
      "4      1      0    0         0     0       0  Business  \n",
      "..   ...    ...  ...       ...   ...     ...       ...  \n",
      "60     0      0    0         0     0       0  Business  \n",
      "61     0      0    0         0     0       0    Sports  \n",
      "62     0      0    0         0     0       0     World  \n",
      "63     0      0    0         0     0       0  Business  \n",
      "64     0      0    0         0     0       0     World  \n",
      "\n",
      "[65 rows x 1044 columns]\n"
     ]
    },
    {
     "name": "stderr",
     "output_type": "stream",
     "text": [
      "progress bar:  34%|██████████████▋                            | 12/35 [00:21<00:43,  1.88s/it]"
     ]
    },
    {
     "name": "stdout",
     "output_type": "stream",
     "text": [
      "    000  08  10  100  11  12th  15  16  18  1904  ...  www  yasir  yasser  \\\n",
      "0     0   0   0    0   0     0   0   0   0     0  ...    0      0       0   \n",
      "1     0   0   0    0   1     0   0   0   0     0  ...    0      0       0   \n",
      "2     0   0   0    0   0     0   0   0   0     0  ...    0      0       0   \n",
      "3     0   0   0    0   0     0   0   0   0     0  ...    0      0       0   \n",
      "4     0   0   0    0   0     0   0   0   0     0  ...    0      0       0   \n",
      "..  ...  ..  ..  ...  ..   ...  ..  ..  ..   ...  ...  ...    ...     ...   \n",
      "60    0   0   0    0   0     0   0   0   0     0  ...    0      0       0   \n",
      "61    0   0   0    0   0     0   0   0   0     0  ...    0      0       0   \n",
      "62    0   0   0    0   0     0   0   0   1     0  ...    0      0       0   \n",
      "63    0   0   0    0   0     0   0   0   0     0  ...    0      0       0   \n",
      "64    0   0   0    0   0     0   0   0   0     0  ...    0      0       0   \n",
      "\n",
      "    year  years  yes  yielding  york  zurich     Label  \n",
      "0      0      0    0         0     0       0  Sci/Tech  \n",
      "1      0      0    0         0     0       0  Business  \n",
      "2      1      0    0         0     0       0  Sci/Tech  \n",
      "3      0      0    0         0     0       0    Sports  \n",
      "4      1      0    0         0     0       0  Business  \n",
      "..   ...    ...  ...       ...   ...     ...       ...  \n",
      "60     0      0    0         0     0       0  Business  \n",
      "61     0      0    0         0     0       0    Sports  \n",
      "62     0      0    0         0     0       0     World  \n",
      "63     0      0    0         0     0       0  Business  \n",
      "64     0      0    0         0     0       0     World  \n",
      "\n",
      "[65 rows x 1044 columns]\n"
     ]
    },
    {
     "name": "stderr",
     "output_type": "stream",
     "text": [
      "progress bar:  37%|███████████████▉                           | 13/35 [00:22<00:41,  1.88s/it]"
     ]
    },
    {
     "name": "stdout",
     "output_type": "stream",
     "text": [
      "    000  08  10  100  11  12th  15  16  18  1904  ...  www  yasir  yasser  \\\n",
      "0     0   0   0    0   0     0   0   0   0     0  ...    0      0       0   \n",
      "1     0   0   0    0   1     0   0   0   0     0  ...    0      0       0   \n",
      "2     0   0   0    0   0     0   0   0   0     0  ...    0      0       0   \n",
      "3     0   0   0    0   0     0   0   0   0     0  ...    0      0       0   \n",
      "4     0   0   0    0   0     0   0   0   0     0  ...    0      0       0   \n",
      "..  ...  ..  ..  ...  ..   ...  ..  ..  ..   ...  ...  ...    ...     ...   \n",
      "60    0   0   0    0   0     0   0   0   0     0  ...    0      0       0   \n",
      "61    0   0   0    0   0     0   0   0   0     0  ...    0      0       0   \n",
      "62    0   0   0    0   0     0   0   0   1     0  ...    0      0       0   \n",
      "63    0   0   0    0   0     0   0   0   0     0  ...    0      0       0   \n",
      "64    0   0   0    0   0     0   0   0   0     0  ...    0      0       0   \n",
      "\n",
      "    year  years  yes  yielding  york  zurich     Label  \n",
      "0      0      0    0         0     0       0  Sci/Tech  \n",
      "1      0      0    0         0     0       0  Business  \n",
      "2      1      0    0         0     0       0  Sci/Tech  \n",
      "3      0      0    0         0     0       0    Sports  \n",
      "4      1      0    0         0     0       0  Business  \n",
      "..   ...    ...  ...       ...   ...     ...       ...  \n",
      "60     0      0    0         0     0       0  Business  \n",
      "61     0      0    0         0     0       0    Sports  \n",
      "62     0      0    0         0     0       0     World  \n",
      "63     0      0    0         0     0       0  Business  \n",
      "64     0      0    0         0     0       0     World  \n",
      "\n",
      "[65 rows x 1044 columns]\n"
     ]
    },
    {
     "name": "stderr",
     "output_type": "stream",
     "text": [
      "progress bar:  40%|█████████████████▏                         | 14/35 [00:24<00:39,  1.90s/it]"
     ]
    },
    {
     "name": "stdout",
     "output_type": "stream",
     "text": [
      "    000  08  10  100  11  12th  15  16  18  1904  ...  www  yasir  yasser  \\\n",
      "0     0   0   0    0   0     0   0   0   0     0  ...    0      0       0   \n",
      "1     0   0   0    0   1     0   0   0   0     0  ...    0      0       0   \n",
      "2     0   0   0    0   0     0   0   0   0     0  ...    0      0       0   \n",
      "3     0   0   0    0   0     0   0   0   0     0  ...    0      0       0   \n",
      "4     0   0   0    0   0     0   0   0   0     0  ...    0      0       0   \n",
      "..  ...  ..  ..  ...  ..   ...  ..  ..  ..   ...  ...  ...    ...     ...   \n",
      "60    0   0   0    0   0     0   0   0   0     0  ...    0      0       0   \n",
      "61    0   0   0    0   0     0   0   0   0     0  ...    0      0       0   \n",
      "62    0   0   0    0   0     0   0   0   1     0  ...    0      0       0   \n",
      "63    0   0   0    0   0     0   0   0   0     0  ...    0      0       0   \n",
      "64    0   0   0    0   0     0   0   0   0     0  ...    0      0       0   \n",
      "\n",
      "    year  years  yes  yielding  york  zurich     Label  \n",
      "0      0      0    0         0     0       0  Sci/Tech  \n",
      "1      0      0    0         0     0       0  Business  \n",
      "2      1      0    0         0     0       0  Sci/Tech  \n",
      "3      0      0    0         0     0       0    Sports  \n",
      "4      1      0    0         0     0       0  Business  \n",
      "..   ...    ...  ...       ...   ...     ...       ...  \n",
      "60     0      0    0         0     0       0  Business  \n",
      "61     0      0    0         0     0       0    Sports  \n",
      "62     0      0    0         0     0       0     World  \n",
      "63     0      0    0         0     0       0  Business  \n",
      "64     0      0    0         0     0       0     World  \n",
      "\n",
      "[65 rows x 1044 columns]\n"
     ]
    },
    {
     "name": "stderr",
     "output_type": "stream",
     "text": [
      "progress bar:  43%|██████████████████▍                        | 15/35 [00:26<00:37,  1.89s/it]"
     ]
    },
    {
     "name": "stdout",
     "output_type": "stream",
     "text": [
      "    000  08  10  100  11  12th  15  16  18  1904  ...  www  yasir  yasser  \\\n",
      "0     0   0   0    0   0     0   0   0   0     0  ...    0      0       0   \n",
      "1     0   0   0    0   1     0   0   0   0     0  ...    0      0       0   \n",
      "2     0   0   0    0   0     0   0   0   0     0  ...    0      0       0   \n",
      "3     0   0   0    0   0     0   0   0   0     0  ...    0      0       0   \n",
      "4     0   0   0    0   0     0   0   0   0     0  ...    0      0       0   \n",
      "..  ...  ..  ..  ...  ..   ...  ..  ..  ..   ...  ...  ...    ...     ...   \n",
      "60    0   0   0    0   0     0   0   0   0     0  ...    0      0       0   \n",
      "61    0   0   0    0   0     0   0   0   0     0  ...    0      0       0   \n",
      "62    0   0   0    0   0     0   0   0   1     0  ...    0      0       0   \n",
      "63    0   0   0    0   0     0   0   0   0     0  ...    0      0       0   \n",
      "64    0   0   0    0   0     0   0   0   0     0  ...    0      0       0   \n",
      "\n",
      "    year  years  yes  yielding  york  zurich     Label  \n",
      "0      0      0    0         0     0       0  Sci/Tech  \n",
      "1      0      0    0         0     0       0  Business  \n",
      "2      1      0    0         0     0       0  Sci/Tech  \n",
      "3      0      0    0         0     0       0    Sports  \n",
      "4      1      0    0         0     0       0  Business  \n",
      "..   ...    ...  ...       ...   ...     ...       ...  \n",
      "60     0      0    0         0     0       0  Business  \n",
      "61     0      0    0         0     0       0    Sports  \n",
      "62     0      0    0         0     0       0     World  \n",
      "63     0      0    0         0     0       0  Business  \n",
      "64     0      0    0         0     0       0     World  \n",
      "\n",
      "[65 rows x 1044 columns]\n"
     ]
    },
    {
     "name": "stderr",
     "output_type": "stream",
     "text": [
      "progress bar:  46%|███████████████████▋                       | 16/35 [00:28<00:35,  1.89s/it]"
     ]
    },
    {
     "name": "stdout",
     "output_type": "stream",
     "text": [
      "    000  08  10  100  11  12th  15  16  18  1904  ...  www  yasir  yasser  \\\n",
      "0     0   0   0    0   0     0   0   0   0     0  ...    0      0       0   \n",
      "1     0   0   0    0   1     0   0   0   0     0  ...    0      0       0   \n",
      "2     0   0   0    0   0     0   0   0   0     0  ...    0      0       0   \n",
      "3     0   0   0    0   0     0   0   0   0     0  ...    0      0       0   \n",
      "4     0   0   0    0   0     0   0   0   0     0  ...    0      0       0   \n",
      "..  ...  ..  ..  ...  ..   ...  ..  ..  ..   ...  ...  ...    ...     ...   \n",
      "60    0   0   0    0   0     0   0   0   0     0  ...    0      0       0   \n",
      "61    0   0   0    0   0     0   0   0   0     0  ...    0      0       0   \n",
      "62    0   0   0    0   0     0   0   0   1     0  ...    0      0       0   \n",
      "63    0   0   0    0   0     0   0   0   0     0  ...    0      0       0   \n",
      "64    0   0   0    0   0     0   0   0   0     0  ...    0      0       0   \n",
      "\n",
      "    year  years  yes  yielding  york  zurich     Label  \n",
      "0      0      0    0         0     0       0  Sci/Tech  \n",
      "1      0      0    0         0     0       0  Business  \n",
      "2      1      0    0         0     0       0  Sci/Tech  \n",
      "3      0      0    0         0     0       0    Sports  \n",
      "4      1      0    0         0     0       0  Business  \n",
      "..   ...    ...  ...       ...   ...     ...       ...  \n",
      "60     0      0    0         0     0       0  Business  \n",
      "61     0      0    0         0     0       0    Sports  \n",
      "62     0      0    0         0     0       0     World  \n",
      "63     0      0    0         0     0       0  Business  \n",
      "64     0      0    0         0     0       0     World  \n",
      "\n",
      "[65 rows x 1044 columns]\n"
     ]
    },
    {
     "name": "stderr",
     "output_type": "stream",
     "text": [
      "progress bar:  49%|████████████████████▉                      | 17/35 [00:30<00:33,  1.88s/it]"
     ]
    },
    {
     "name": "stdout",
     "output_type": "stream",
     "text": [
      "    000  08  10  100  11  12th  15  16  18  1904  ...  www  yasir  yasser  \\\n",
      "0     0   0   0    0   0     0   0   0   0     0  ...    0      0       0   \n",
      "1     0   0   0    0   1     0   0   0   0     0  ...    0      0       0   \n",
      "2     0   0   0    0   0     0   0   0   0     0  ...    0      0       0   \n",
      "3     0   0   0    0   0     0   0   0   0     0  ...    0      0       0   \n",
      "4     0   0   0    0   0     0   0   0   0     0  ...    0      0       0   \n",
      "..  ...  ..  ..  ...  ..   ...  ..  ..  ..   ...  ...  ...    ...     ...   \n",
      "60    0   0   0    0   0     0   0   0   0     0  ...    0      0       0   \n",
      "61    0   0   0    0   0     0   0   0   0     0  ...    0      0       0   \n",
      "62    0   0   0    0   0     0   0   0   1     0  ...    0      0       0   \n",
      "63    0   0   0    0   0     0   0   0   0     0  ...    0      0       0   \n",
      "64    0   0   0    0   0     0   0   0   0     0  ...    0      0       0   \n",
      "\n",
      "    year  years  yes  yielding  york  zurich     Label  \n",
      "0      0      0    0         0     0       0  Sci/Tech  \n",
      "1      0      0    0         0     0       0  Business  \n",
      "2      1      0    0         0     0       0  Sci/Tech  \n",
      "3      0      0    0         0     0       0    Sports  \n",
      "4      1      0    0         0     0       0  Business  \n",
      "..   ...    ...  ...       ...   ...     ...       ...  \n",
      "60     0      0    0         0     0       0  Business  \n",
      "61     0      0    0         0     0       0    Sports  \n",
      "62     0      0    0         0     0       0     World  \n",
      "63     0      0    0         0     0       0  Business  \n",
      "64     0      0    0         0     0       0     World  \n",
      "\n",
      "[65 rows x 1044 columns]\n"
     ]
    },
    {
     "name": "stderr",
     "output_type": "stream",
     "text": [
      "progress bar:  51%|██████████████████████                     | 18/35 [00:32<00:32,  1.89s/it]"
     ]
    },
    {
     "name": "stdout",
     "output_type": "stream",
     "text": [
      "    000  08  10  100  11  12th  15  16  18  1904  ...  www  yasir  yasser  \\\n",
      "0     0   0   0    0   0     0   0   0   0     0  ...    0      0       0   \n",
      "1     0   0   0    0   1     0   0   0   0     0  ...    0      0       0   \n",
      "2     0   0   0    0   0     0   0   0   0     0  ...    0      0       0   \n",
      "3     0   0   0    0   0     0   0   0   0     0  ...    0      0       0   \n",
      "4     0   0   0    0   0     0   0   0   0     0  ...    0      0       0   \n",
      "..  ...  ..  ..  ...  ..   ...  ..  ..  ..   ...  ...  ...    ...     ...   \n",
      "60    0   0   0    0   0     0   0   0   0     0  ...    0      0       0   \n",
      "61    0   0   0    0   0     0   0   0   0     0  ...    0      0       0   \n",
      "62    0   0   0    0   0     0   0   0   1     0  ...    0      0       0   \n",
      "63    0   0   0    0   0     0   0   0   0     0  ...    0      0       0   \n",
      "64    0   0   0    0   0     0   0   0   0     0  ...    0      0       0   \n",
      "\n",
      "    year  years  yes  yielding  york  zurich     Label  \n",
      "0      0      0    0         0     0       0  Sci/Tech  \n",
      "1      0      0    0         0     0       0  Business  \n",
      "2      1      0    0         0     0       0  Sci/Tech  \n",
      "3      0      0    0         0     0       0    Sports  \n",
      "4      1      0    0         0     0       0  Business  \n",
      "..   ...    ...  ...       ...   ...     ...       ...  \n",
      "60     0      0    0         0     0       0  Business  \n",
      "61     0      0    0         0     0       0    Sports  \n",
      "62     0      0    0         0     0       0     World  \n",
      "63     0      0    0         0     0       0  Business  \n",
      "64     0      0    0         0     0       0     World  \n",
      "\n",
      "[65 rows x 1044 columns]\n"
     ]
    },
    {
     "name": "stderr",
     "output_type": "stream",
     "text": [
      "progress bar:  54%|███████████████████████▎                   | 19/35 [00:34<00:30,  1.91s/it]"
     ]
    },
    {
     "name": "stdout",
     "output_type": "stream",
     "text": [
      "    000  08  10  100  11  12th  15  16  18  1904  ...  www  yasir  yasser  \\\n",
      "0     0   0   0    0   0     0   0   0   0     0  ...    0      0       0   \n",
      "1     0   0   0    0   1     0   0   0   0     0  ...    0      0       0   \n",
      "2     0   0   0    0   0     0   0   0   0     0  ...    0      0       0   \n",
      "3     0   0   0    0   0     0   0   0   0     0  ...    0      0       0   \n",
      "4     0   0   0    0   0     0   0   0   0     0  ...    0      0       0   \n",
      "..  ...  ..  ..  ...  ..   ...  ..  ..  ..   ...  ...  ...    ...     ...   \n",
      "60    0   0   0    0   0     0   0   0   0     0  ...    0      0       0   \n",
      "61    0   0   0    0   0     0   0   0   0     0  ...    0      0       0   \n",
      "62    0   0   0    0   0     0   0   0   1     0  ...    0      0       0   \n",
      "63    0   0   0    0   0     0   0   0   0     0  ...    0      0       0   \n",
      "64    0   0   0    0   0     0   0   0   0     0  ...    0      0       0   \n",
      "\n",
      "    year  years  yes  yielding  york  zurich     Label  \n",
      "0      0      0    0         0     0       0  Sci/Tech  \n",
      "1      0      0    0         0     0       0  Business  \n",
      "2      1      0    0         0     0       0  Sci/Tech  \n",
      "3      0      0    0         0     0       0    Sports  \n",
      "4      1      0    0         0     0       0  Business  \n",
      "..   ...    ...  ...       ...   ...     ...       ...  \n",
      "60     0      0    0         0     0       0  Business  \n",
      "61     0      0    0         0     0       0    Sports  \n",
      "62     0      0    0         0     0       0     World  \n",
      "63     0      0    0         0     0       0  Business  \n",
      "64     0      0    0         0     0       0     World  \n",
      "\n",
      "[65 rows x 1044 columns]\n"
     ]
    },
    {
     "name": "stderr",
     "output_type": "stream",
     "text": [
      "progress bar:  57%|████████████████████████▌                  | 20/35 [00:36<00:28,  1.92s/it]"
     ]
    },
    {
     "name": "stdout",
     "output_type": "stream",
     "text": [
      "    000  08  10  100  11  12th  15  16  18  1904  ...  www  yasir  yasser  \\\n",
      "0     0   0   0    0   0     0   0   0   0     0  ...    0      0       0   \n",
      "1     0   0   0    0   1     0   0   0   0     0  ...    0      0       0   \n",
      "2     0   0   0    0   0     0   0   0   0     0  ...    0      0       0   \n",
      "3     0   0   0    0   0     0   0   0   0     0  ...    0      0       0   \n",
      "4     0   0   0    0   0     0   0   0   0     0  ...    0      0       0   \n",
      "..  ...  ..  ..  ...  ..   ...  ..  ..  ..   ...  ...  ...    ...     ...   \n",
      "60    0   0   0    0   0     0   0   0   0     0  ...    0      0       0   \n",
      "61    0   0   0    0   0     0   0   0   0     0  ...    0      0       0   \n",
      "62    0   0   0    0   0     0   0   0   1     0  ...    0      0       0   \n",
      "63    0   0   0    0   0     0   0   0   0     0  ...    0      0       0   \n",
      "64    0   0   0    0   0     0   0   0   0     0  ...    0      0       0   \n",
      "\n",
      "    year  years  yes  yielding  york  zurich     Label  \n",
      "0      0      0    0         0     0       0  Sci/Tech  \n",
      "1      0      0    0         0     0       0  Business  \n",
      "2      1      0    0         0     0       0  Sci/Tech  \n",
      "3      0      0    0         0     0       0    Sports  \n",
      "4      1      0    0         0     0       0  Business  \n",
      "..   ...    ...  ...       ...   ...     ...       ...  \n",
      "60     0      0    0         0     0       0  Business  \n",
      "61     0      0    0         0     0       0    Sports  \n",
      "62     0      0    0         0     0       0     World  \n",
      "63     0      0    0         0     0       0  Business  \n",
      "64     0      0    0         0     0       0     World  \n",
      "\n",
      "[65 rows x 1044 columns]\n"
     ]
    },
    {
     "name": "stderr",
     "output_type": "stream",
     "text": [
      "progress bar:  60%|█████████████████████████▊                 | 21/35 [00:38<00:27,  1.93s/it]"
     ]
    },
    {
     "name": "stdout",
     "output_type": "stream",
     "text": [
      "    000  08  10  100  11  12th  15  16  18  1904  ...  www  yasir  yasser  \\\n",
      "0     0   0   0    0   0     0   0   0   0     0  ...    0      0       0   \n",
      "1     0   0   0    0   1     0   0   0   0     0  ...    0      0       0   \n",
      "2     0   0   0    0   0     0   0   0   0     0  ...    0      0       0   \n",
      "3     0   0   0    0   0     0   0   0   0     0  ...    0      0       0   \n",
      "4     0   0   0    0   0     0   0   0   0     0  ...    0      0       0   \n",
      "..  ...  ..  ..  ...  ..   ...  ..  ..  ..   ...  ...  ...    ...     ...   \n",
      "60    0   0   0    0   0     0   0   0   0     0  ...    0      0       0   \n",
      "61    0   0   0    0   0     0   0   0   0     0  ...    0      0       0   \n",
      "62    0   0   0    0   0     0   0   0   1     0  ...    0      0       0   \n",
      "63    0   0   0    0   0     0   0   0   0     0  ...    0      0       0   \n",
      "64    0   0   0    0   0     0   0   0   0     0  ...    0      0       0   \n",
      "\n",
      "    year  years  yes  yielding  york  zurich     Label  \n",
      "0      0      0    0         0     0       0  Sci/Tech  \n",
      "1      0      0    0         0     0       0  Business  \n",
      "2      1      0    0         0     0       0  Sci/Tech  \n",
      "3      0      0    0         0     0       0    Sports  \n",
      "4      1      0    0         0     0       0  Business  \n",
      "..   ...    ...  ...       ...   ...     ...       ...  \n",
      "60     0      0    0         0     0       0  Business  \n",
      "61     0      0    0         0     0       0    Sports  \n",
      "62     0      0    0         0     0       0     World  \n",
      "63     0      0    0         0     0       0  Business  \n",
      "64     0      0    0         0     0       0     World  \n",
      "\n",
      "[65 rows x 1044 columns]\n"
     ]
    },
    {
     "name": "stderr",
     "output_type": "stream",
     "text": [
      "progress bar:  63%|███████████████████████████                | 22/35 [00:40<00:24,  1.91s/it]"
     ]
    },
    {
     "name": "stdout",
     "output_type": "stream",
     "text": [
      "    000  08  10  100  11  12th  15  16  18  1904  ...  www  yasir  yasser  \\\n",
      "0     0   0   0    0   0     0   0   0   0     0  ...    0      0       0   \n",
      "1     0   0   0    0   1     0   0   0   0     0  ...    0      0       0   \n",
      "2     0   0   0    0   0     0   0   0   0     0  ...    0      0       0   \n",
      "3     0   0   0    0   0     0   0   0   0     0  ...    0      0       0   \n",
      "4     0   0   0    0   0     0   0   0   0     0  ...    0      0       0   \n",
      "..  ...  ..  ..  ...  ..   ...  ..  ..  ..   ...  ...  ...    ...     ...   \n",
      "60    0   0   0    0   0     0   0   0   0     0  ...    0      0       0   \n",
      "61    0   0   0    0   0     0   0   0   0     0  ...    0      0       0   \n",
      "62    0   0   0    0   0     0   0   0   1     0  ...    0      0       0   \n",
      "63    0   0   0    0   0     0   0   0   0     0  ...    0      0       0   \n",
      "64    0   0   0    0   0     0   0   0   0     0  ...    0      0       0   \n",
      "\n",
      "    year  years  yes  yielding  york  zurich     Label  \n",
      "0      0      0    0         0     0       0  Sci/Tech  \n",
      "1      0      0    0         0     0       0  Business  \n",
      "2      1      0    0         0     0       0  Sci/Tech  \n",
      "3      0      0    0         0     0       0    Sports  \n",
      "4      1      0    0         0     0       0  Business  \n",
      "..   ...    ...  ...       ...   ...     ...       ...  \n",
      "60     0      0    0         0     0       0  Business  \n",
      "61     0      0    0         0     0       0    Sports  \n",
      "62     0      0    0         0     0       0     World  \n",
      "63     0      0    0         0     0       0  Business  \n",
      "64     0      0    0         0     0       0     World  \n",
      "\n",
      "[65 rows x 1044 columns]\n"
     ]
    },
    {
     "name": "stderr",
     "output_type": "stream",
     "text": [
      "progress bar:  66%|████████████████████████████▎              | 23/35 [00:42<00:23,  1.94s/it]"
     ]
    },
    {
     "name": "stdout",
     "output_type": "stream",
     "text": [
      "    000  08  10  100  11  12th  15  16  18  1904  ...  www  yasir  yasser  \\\n",
      "0     0   0   0    0   0     0   0   0   0     0  ...    0      0       0   \n",
      "1     0   0   0    0   1     0   0   0   0     0  ...    0      0       0   \n",
      "2     0   0   0    0   0     0   0   0   0     0  ...    0      0       0   \n",
      "3     0   0   0    0   0     0   0   0   0     0  ...    0      0       0   \n",
      "4     0   0   0    0   0     0   0   0   0     0  ...    0      0       0   \n",
      "..  ...  ..  ..  ...  ..   ...  ..  ..  ..   ...  ...  ...    ...     ...   \n",
      "60    0   0   0    0   0     0   0   0   0     0  ...    0      0       0   \n",
      "61    0   0   0    0   0     0   0   0   0     0  ...    0      0       0   \n",
      "62    0   0   0    0   0     0   0   0   1     0  ...    0      0       0   \n",
      "63    0   0   0    0   0     0   0   0   0     0  ...    0      0       0   \n",
      "64    0   0   0    0   0     0   0   0   0     0  ...    0      0       0   \n",
      "\n",
      "    year  years  yes  yielding  york  zurich     Label  \n",
      "0      0      0    0         0     0       0  Sci/Tech  \n",
      "1      0      0    0         0     0       0  Business  \n",
      "2      1      0    0         0     0       0  Sci/Tech  \n",
      "3      0      0    0         0     0       0    Sports  \n",
      "4      1      0    0         0     0       0  Business  \n",
      "..   ...    ...  ...       ...   ...     ...       ...  \n",
      "60     0      0    0         0     0       0  Business  \n",
      "61     0      0    0         0     0       0    Sports  \n",
      "62     0      0    0         0     0       0     World  \n",
      "63     0      0    0         0     0       0  Business  \n",
      "64     0      0    0         0     0       0     World  \n",
      "\n",
      "[65 rows x 1044 columns]\n"
     ]
    },
    {
     "name": "stderr",
     "output_type": "stream",
     "text": [
      "progress bar:  69%|█████████████████████████████▍             | 24/35 [00:44<00:21,  1.94s/it]"
     ]
    },
    {
     "name": "stdout",
     "output_type": "stream",
     "text": [
      "    000  08  10  100  11  12th  15  16  18  1904  ...  www  yasir  yasser  \\\n",
      "0     0   0   0    0   0     0   0   0   0     0  ...    0      0       0   \n",
      "1     0   0   0    0   1     0   0   0   0     0  ...    0      0       0   \n",
      "2     0   0   0    0   0     0   0   0   0     0  ...    0      0       0   \n",
      "3     0   0   0    0   0     0   0   0   0     0  ...    0      0       0   \n",
      "4     0   0   0    0   0     0   0   0   0     0  ...    0      0       0   \n",
      "..  ...  ..  ..  ...  ..   ...  ..  ..  ..   ...  ...  ...    ...     ...   \n",
      "60    0   0   0    0   0     0   0   0   0     0  ...    0      0       0   \n",
      "61    0   0   0    0   0     0   0   0   0     0  ...    0      0       0   \n",
      "62    0   0   0    0   0     0   0   0   1     0  ...    0      0       0   \n",
      "63    0   0   0    0   0     0   0   0   0     0  ...    0      0       0   \n",
      "64    0   0   0    0   0     0   0   0   0     0  ...    0      0       0   \n",
      "\n",
      "    year  years  yes  yielding  york  zurich     Label  \n",
      "0      0      0    0         0     0       0  Sci/Tech  \n",
      "1      0      0    0         0     0       0  Business  \n",
      "2      1      0    0         0     0       0  Sci/Tech  \n",
      "3      0      0    0         0     0       0    Sports  \n",
      "4      1      0    0         0     0       0  Business  \n",
      "..   ...    ...  ...       ...   ...     ...       ...  \n",
      "60     0      0    0         0     0       0  Business  \n",
      "61     0      0    0         0     0       0    Sports  \n",
      "62     0      0    0         0     0       0     World  \n",
      "63     0      0    0         0     0       0  Business  \n",
      "64     0      0    0         0     0       0     World  \n",
      "\n",
      "[65 rows x 1044 columns]\n"
     ]
    },
    {
     "name": "stderr",
     "output_type": "stream",
     "text": [
      "progress bar:  71%|██████████████████████████████▋            | 25/35 [00:45<00:19,  1.91s/it]"
     ]
    },
    {
     "name": "stdout",
     "output_type": "stream",
     "text": [
      "    000  08  10  100  11  12th  15  16  18  1904  ...  www  yasir  yasser  \\\n",
      "0     0   0   0    0   0     0   0   0   0     0  ...    0      0       0   \n",
      "1     0   0   0    0   1     0   0   0   0     0  ...    0      0       0   \n",
      "2     0   0   0    0   0     0   0   0   0     0  ...    0      0       0   \n",
      "3     0   0   0    0   0     0   0   0   0     0  ...    0      0       0   \n",
      "4     0   0   0    0   0     0   0   0   0     0  ...    0      0       0   \n",
      "..  ...  ..  ..  ...  ..   ...  ..  ..  ..   ...  ...  ...    ...     ...   \n",
      "60    0   0   0    0   0     0   0   0   0     0  ...    0      0       0   \n",
      "61    0   0   0    0   0     0   0   0   0     0  ...    0      0       0   \n",
      "62    0   0   0    0   0     0   0   0   1     0  ...    0      0       0   \n",
      "63    0   0   0    0   0     0   0   0   0     0  ...    0      0       0   \n",
      "64    0   0   0    0   0     0   0   0   0     0  ...    0      0       0   \n",
      "\n",
      "    year  years  yes  yielding  york  zurich     Label  \n",
      "0      0      0    0         0     0       0  Sci/Tech  \n",
      "1      0      0    0         0     0       0  Business  \n",
      "2      1      0    0         0     0       0  Sci/Tech  \n",
      "3      0      0    0         0     0       0    Sports  \n",
      "4      1      0    0         0     0       0  Business  \n",
      "..   ...    ...  ...       ...   ...     ...       ...  \n",
      "60     0      0    0         0     0       0  Business  \n",
      "61     0      0    0         0     0       0    Sports  \n",
      "62     0      0    0         0     0       0     World  \n",
      "63     0      0    0         0     0       0  Business  \n",
      "64     0      0    0         0     0       0     World  \n",
      "\n",
      "[65 rows x 1044 columns]\n"
     ]
    },
    {
     "name": "stderr",
     "output_type": "stream",
     "text": [
      "progress bar:  74%|███████████████████████████████▉           | 26/35 [00:47<00:17,  1.91s/it]"
     ]
    },
    {
     "name": "stdout",
     "output_type": "stream",
     "text": [
      "    000  08  10  100  11  12th  15  16  18  1904  ...  www  yasir  yasser  \\\n",
      "0     0   0   0    0   0     0   0   0   0     0  ...    0      0       0   \n",
      "1     0   0   0    0   1     0   0   0   0     0  ...    0      0       0   \n",
      "2     0   0   0    0   0     0   0   0   0     0  ...    0      0       0   \n",
      "3     0   0   0    0   0     0   0   0   0     0  ...    0      0       0   \n",
      "4     0   0   0    0   0     0   0   0   0     0  ...    0      0       0   \n",
      "..  ...  ..  ..  ...  ..   ...  ..  ..  ..   ...  ...  ...    ...     ...   \n",
      "60    0   0   0    0   0     0   0   0   0     0  ...    0      0       0   \n",
      "61    0   0   0    0   0     0   0   0   0     0  ...    0      0       0   \n",
      "62    0   0   0    0   0     0   0   0   1     0  ...    0      0       0   \n",
      "63    0   0   0    0   0     0   0   0   0     0  ...    0      0       0   \n",
      "64    0   0   0    0   0     0   0   0   0     0  ...    0      0       0   \n",
      "\n",
      "    year  years  yes  yielding  york  zurich     Label  \n",
      "0      0      0    0         0     0       0  Sci/Tech  \n",
      "1      0      0    0         0     0       0  Business  \n",
      "2      1      0    0         0     0       0  Sci/Tech  \n",
      "3      0      0    0         0     0       0    Sports  \n",
      "4      1      0    0         0     0       0  Business  \n",
      "..   ...    ...  ...       ...   ...     ...       ...  \n",
      "60     0      0    0         0     0       0  Business  \n",
      "61     0      0    0         0     0       0    Sports  \n",
      "62     0      0    0         0     0       0     World  \n",
      "63     0      0    0         0     0       0  Business  \n",
      "64     0      0    0         0     0       0     World  \n",
      "\n",
      "[65 rows x 1044 columns]\n"
     ]
    },
    {
     "name": "stderr",
     "output_type": "stream",
     "text": [
      "progress bar:  77%|█████████████████████████████████▏         | 27/35 [00:49<00:15,  1.95s/it]"
     ]
    },
    {
     "name": "stdout",
     "output_type": "stream",
     "text": [
      "    000  08  10  100  11  12th  15  16  18  1904  ...  www  yasir  yasser  \\\n",
      "0     0   0   0    0   0     0   0   0   0     0  ...    0      0       0   \n",
      "1     0   0   0    0   1     0   0   0   0     0  ...    0      0       0   \n",
      "2     0   0   0    0   0     0   0   0   0     0  ...    0      0       0   \n",
      "3     0   0   0    0   0     0   0   0   0     0  ...    0      0       0   \n",
      "4     0   0   0    0   0     0   0   0   0     0  ...    0      0       0   \n",
      "..  ...  ..  ..  ...  ..   ...  ..  ..  ..   ...  ...  ...    ...     ...   \n",
      "60    0   0   0    0   0     0   0   0   0     0  ...    0      0       0   \n",
      "61    0   0   0    0   0     0   0   0   0     0  ...    0      0       0   \n",
      "62    0   0   0    0   0     0   0   0   1     0  ...    0      0       0   \n",
      "63    0   0   0    0   0     0   0   0   0     0  ...    0      0       0   \n",
      "64    0   0   0    0   0     0   0   0   0     0  ...    0      0       0   \n",
      "\n",
      "    year  years  yes  yielding  york  zurich     Label  \n",
      "0      0      0    0         0     0       0  Sci/Tech  \n",
      "1      0      0    0         0     0       0  Business  \n",
      "2      1      0    0         0     0       0  Sci/Tech  \n",
      "3      0      0    0         0     0       0    Sports  \n",
      "4      1      0    0         0     0       0  Business  \n",
      "..   ...    ...  ...       ...   ...     ...       ...  \n",
      "60     0      0    0         0     0       0  Business  \n",
      "61     0      0    0         0     0       0    Sports  \n",
      "62     0      0    0         0     0       0     World  \n",
      "63     0      0    0         0     0       0  Business  \n",
      "64     0      0    0         0     0       0     World  \n",
      "\n",
      "[65 rows x 1044 columns]\n"
     ]
    },
    {
     "name": "stderr",
     "output_type": "stream",
     "text": [
      "progress bar:  80%|██████████████████████████████████▍        | 28/35 [00:51<00:13,  1.93s/it]"
     ]
    },
    {
     "name": "stdout",
     "output_type": "stream",
     "text": [
      "    000  08  10  100  11  12th  15  16  18  1904  ...  www  yasir  yasser  \\\n",
      "0     0   0   0    0   0     0   0   0   0     0  ...    0      0       0   \n",
      "1     0   0   0    0   1     0   0   0   0     0  ...    0      0       0   \n",
      "2     0   0   0    0   0     0   0   0   0     0  ...    0      0       0   \n",
      "3     0   0   0    0   0     0   0   0   0     0  ...    0      0       0   \n",
      "4     0   0   0    0   0     0   0   0   0     0  ...    0      0       0   \n",
      "..  ...  ..  ..  ...  ..   ...  ..  ..  ..   ...  ...  ...    ...     ...   \n",
      "60    0   0   0    0   0     0   0   0   0     0  ...    0      0       0   \n",
      "61    0   0   0    0   0     0   0   0   0     0  ...    0      0       0   \n",
      "62    0   0   0    0   0     0   0   0   1     0  ...    0      0       0   \n",
      "63    0   0   0    0   0     0   0   0   0     0  ...    0      0       0   \n",
      "64    0   0   0    0   0     0   0   0   0     0  ...    0      0       0   \n",
      "\n",
      "    year  years  yes  yielding  york  zurich     Label  \n",
      "0      0      0    0         0     0       0  Sci/Tech  \n",
      "1      0      0    0         0     0       0  Business  \n",
      "2      1      0    0         0     0       0  Sci/Tech  \n",
      "3      0      0    0         0     0       0    Sports  \n",
      "4      1      0    0         0     0       0  Business  \n",
      "..   ...    ...  ...       ...   ...     ...       ...  \n",
      "60     0      0    0         0     0       0  Business  \n",
      "61     0      0    0         0     0       0    Sports  \n",
      "62     0      0    0         0     0       0     World  \n",
      "63     0      0    0         0     0       0  Business  \n",
      "64     0      0    0         0     0       0     World  \n",
      "\n",
      "[65 rows x 1044 columns]\n"
     ]
    },
    {
     "name": "stderr",
     "output_type": "stream",
     "text": [
      "progress bar:  83%|███████████████████████████████████▋       | 29/35 [00:53<00:11,  1.95s/it]"
     ]
    },
    {
     "name": "stdout",
     "output_type": "stream",
     "text": [
      "    000  08  10  100  11  12th  15  16  18  1904  ...  www  yasir  yasser  \\\n",
      "0     0   0   0    0   0     0   0   0   0     0  ...    0      0       0   \n",
      "1     0   0   0    0   1     0   0   0   0     0  ...    0      0       0   \n",
      "2     0   0   0    0   0     0   0   0   0     0  ...    0      0       0   \n",
      "3     0   0   0    0   0     0   0   0   0     0  ...    0      0       0   \n",
      "4     0   0   0    0   0     0   0   0   0     0  ...    0      0       0   \n",
      "..  ...  ..  ..  ...  ..   ...  ..  ..  ..   ...  ...  ...    ...     ...   \n",
      "60    0   0   0    0   0     0   0   0   0     0  ...    0      0       0   \n",
      "61    0   0   0    0   0     0   0   0   0     0  ...    0      0       0   \n",
      "62    0   0   0    0   0     0   0   0   1     0  ...    0      0       0   \n",
      "63    0   0   0    0   0     0   0   0   0     0  ...    0      0       0   \n",
      "64    0   0   0    0   0     0   0   0   0     0  ...    0      0       0   \n",
      "\n",
      "    year  years  yes  yielding  york  zurich     Label  \n",
      "0      0      0    0         0     0       0  Sci/Tech  \n",
      "1      0      0    0         0     0       0  Business  \n",
      "2      1      0    0         0     0       0  Sci/Tech  \n",
      "3      0      0    0         0     0       0    Sports  \n",
      "4      1      0    0         0     0       0  Business  \n",
      "..   ...    ...  ...       ...   ...     ...       ...  \n",
      "60     0      0    0         0     0       0  Business  \n",
      "61     0      0    0         0     0       0    Sports  \n",
      "62     0      0    0         0     0       0     World  \n",
      "63     0      0    0         0     0       0  Business  \n",
      "64     0      0    0         0     0       0     World  \n",
      "\n",
      "[65 rows x 1044 columns]\n"
     ]
    },
    {
     "name": "stderr",
     "output_type": "stream",
     "text": [
      "progress bar:  86%|████████████████████████████████████▊      | 30/35 [00:55<00:09,  1.92s/it]"
     ]
    },
    {
     "name": "stdout",
     "output_type": "stream",
     "text": [
      "    000  08  10  100  11  12th  15  16  18  1904  ...  www  yasir  yasser  \\\n",
      "0     0   0   0    0   0     0   0   0   0     0  ...    0      0       0   \n",
      "1     0   0   0    0   1     0   0   0   0     0  ...    0      0       0   \n",
      "2     0   0   0    0   0     0   0   0   0     0  ...    0      0       0   \n",
      "3     0   0   0    0   0     0   0   0   0     0  ...    0      0       0   \n",
      "4     0   0   0    0   0     0   0   0   0     0  ...    0      0       0   \n",
      "..  ...  ..  ..  ...  ..   ...  ..  ..  ..   ...  ...  ...    ...     ...   \n",
      "60    0   0   0    0   0     0   0   0   0     0  ...    0      0       0   \n",
      "61    0   0   0    0   0     0   0   0   0     0  ...    0      0       0   \n",
      "62    0   0   0    0   0     0   0   0   1     0  ...    0      0       0   \n",
      "63    0   0   0    0   0     0   0   0   0     0  ...    0      0       0   \n",
      "64    0   0   0    0   0     0   0   0   0     0  ...    0      0       0   \n",
      "\n",
      "    year  years  yes  yielding  york  zurich     Label  \n",
      "0      0      0    0         0     0       0  Sci/Tech  \n",
      "1      0      0    0         0     0       0  Business  \n",
      "2      1      0    0         0     0       0  Sci/Tech  \n",
      "3      0      0    0         0     0       0    Sports  \n",
      "4      1      0    0         0     0       0  Business  \n",
      "..   ...    ...  ...       ...   ...     ...       ...  \n",
      "60     0      0    0         0     0       0  Business  \n",
      "61     0      0    0         0     0       0    Sports  \n",
      "62     0      0    0         0     0       0     World  \n",
      "63     0      0    0         0     0       0  Business  \n",
      "64     0      0    0         0     0       0     World  \n",
      "\n",
      "[65 rows x 1044 columns]\n"
     ]
    },
    {
     "name": "stderr",
     "output_type": "stream",
     "text": [
      "progress bar:  89%|██████████████████████████████████████     | 31/35 [00:57<00:07,  1.90s/it]"
     ]
    },
    {
     "name": "stdout",
     "output_type": "stream",
     "text": [
      "    000  08  10  100  11  12th  15  16  18  1904  ...  www  yasir  yasser  \\\n",
      "0     0   0   0    0   0     0   0   0   0     0  ...    0      0       0   \n",
      "1     0   0   0    0   1     0   0   0   0     0  ...    0      0       0   \n",
      "2     0   0   0    0   0     0   0   0   0     0  ...    0      0       0   \n",
      "3     0   0   0    0   0     0   0   0   0     0  ...    0      0       0   \n",
      "4     0   0   0    0   0     0   0   0   0     0  ...    0      0       0   \n",
      "..  ...  ..  ..  ...  ..   ...  ..  ..  ..   ...  ...  ...    ...     ...   \n",
      "60    0   0   0    0   0     0   0   0   0     0  ...    0      0       0   \n",
      "61    0   0   0    0   0     0   0   0   0     0  ...    0      0       0   \n",
      "62    0   0   0    0   0     0   0   0   1     0  ...    0      0       0   \n",
      "63    0   0   0    0   0     0   0   0   0     0  ...    0      0       0   \n",
      "64    0   0   0    0   0     0   0   0   0     0  ...    0      0       0   \n",
      "\n",
      "    year  years  yes  yielding  york  zurich     Label  \n",
      "0      0      0    0         0     0       0  Sci/Tech  \n",
      "1      0      0    0         0     0       0  Business  \n",
      "2      1      0    0         0     0       0  Sci/Tech  \n",
      "3      0      0    0         0     0       0    Sports  \n",
      "4      1      0    0         0     0       0  Business  \n",
      "..   ...    ...  ...       ...   ...     ...       ...  \n",
      "60     0      0    0         0     0       0  Business  \n",
      "61     0      0    0         0     0       0    Sports  \n",
      "62     0      0    0         0     0       0     World  \n",
      "63     0      0    0         0     0       0  Business  \n",
      "64     0      0    0         0     0       0     World  \n",
      "\n",
      "[65 rows x 1044 columns]\n"
     ]
    },
    {
     "name": "stderr",
     "output_type": "stream",
     "text": [
      "progress bar:  91%|███████████████████████████████████████▎   | 32/35 [00:59<00:05,  1.91s/it]"
     ]
    },
    {
     "name": "stdout",
     "output_type": "stream",
     "text": [
      "    000  08  10  100  11  12th  15  16  18  1904  ...  www  yasir  yasser  \\\n",
      "0     0   0   0    0   0     0   0   0   0     0  ...    0      0       0   \n",
      "1     0   0   0    0   1     0   0   0   0     0  ...    0      0       0   \n",
      "2     0   0   0    0   0     0   0   0   0     0  ...    0      0       0   \n",
      "3     0   0   0    0   0     0   0   0   0     0  ...    0      0       0   \n",
      "4     0   0   0    0   0     0   0   0   0     0  ...    0      0       0   \n",
      "..  ...  ..  ..  ...  ..   ...  ..  ..  ..   ...  ...  ...    ...     ...   \n",
      "60    0   0   0    0   0     0   0   0   0     0  ...    0      0       0   \n",
      "61    0   0   0    0   0     0   0   0   0     0  ...    0      0       0   \n",
      "62    0   0   0    0   0     0   0   0   1     0  ...    0      0       0   \n",
      "63    0   0   0    0   0     0   0   0   0     0  ...    0      0       0   \n",
      "64    0   0   0    0   0     0   0   0   0     0  ...    0      0       0   \n",
      "\n",
      "    year  years  yes  yielding  york  zurich     Label  \n",
      "0      0      0    0         0     0       0  Sci/Tech  \n",
      "1      0      0    0         0     0       0  Business  \n",
      "2      1      0    0         0     0       0  Sci/Tech  \n",
      "3      0      0    0         0     0       0    Sports  \n",
      "4      1      0    0         0     0       0  Business  \n",
      "..   ...    ...  ...       ...   ...     ...       ...  \n",
      "60     0      0    0         0     0       0  Business  \n",
      "61     0      0    0         0     0       0    Sports  \n",
      "62     0      0    0         0     0       0     World  \n",
      "63     0      0    0         0     0       0  Business  \n",
      "64     0      0    0         0     0       0     World  \n",
      "\n",
      "[65 rows x 1044 columns]\n"
     ]
    },
    {
     "name": "stderr",
     "output_type": "stream",
     "text": [
      "progress bar:  94%|████████████████████████████████████████▌  | 33/35 [01:01<00:03,  1.91s/it]"
     ]
    },
    {
     "name": "stdout",
     "output_type": "stream",
     "text": [
      "    000  08  10  100  11  12th  15  16  18  1904  ...  www  yasir  yasser  \\\n",
      "0     0   0   0    0   0     0   0   0   0     0  ...    0      0       0   \n",
      "1     0   0   0    0   1     0   0   0   0     0  ...    0      0       0   \n",
      "2     0   0   0    0   0     0   0   0   0     0  ...    0      0       0   \n",
      "3     0   0   0    0   0     0   0   0   0     0  ...    0      0       0   \n",
      "4     0   0   0    0   0     0   0   0   0     0  ...    0      0       0   \n",
      "..  ...  ..  ..  ...  ..   ...  ..  ..  ..   ...  ...  ...    ...     ...   \n",
      "60    0   0   0    0   0     0   0   0   0     0  ...    0      0       0   \n",
      "61    0   0   0    0   0     0   0   0   0     0  ...    0      0       0   \n",
      "62    0   0   0    0   0     0   0   0   1     0  ...    0      0       0   \n",
      "63    0   0   0    0   0     0   0   0   0     0  ...    0      0       0   \n",
      "64    0   0   0    0   0     0   0   0   0     0  ...    0      0       0   \n",
      "\n",
      "    year  years  yes  yielding  york  zurich     Label  \n",
      "0      0      0    0         0     0       0  Sci/Tech  \n",
      "1      0      0    0         0     0       0  Business  \n",
      "2      1      0    0         0     0       0  Sci/Tech  \n",
      "3      0      0    0         0     0       0    Sports  \n",
      "4      1      0    0         0     0       0  Business  \n",
      "..   ...    ...  ...       ...   ...     ...       ...  \n",
      "60     0      0    0         0     0       0  Business  \n",
      "61     0      0    0         0     0       0    Sports  \n",
      "62     0      0    0         0     0       0     World  \n",
      "63     0      0    0         0     0       0  Business  \n",
      "64     0      0    0         0     0       0     World  \n",
      "\n",
      "[65 rows x 1044 columns]\n"
     ]
    },
    {
     "name": "stderr",
     "output_type": "stream",
     "text": [
      "progress bar:  97%|█████████████████████████████████████████▊ | 34/35 [01:03<00:01,  1.91s/it]"
     ]
    },
    {
     "name": "stdout",
     "output_type": "stream",
     "text": [
      "    000  08  10  100  11  12th  15  16  18  1904  ...  www  yasir  yasser  \\\n",
      "0     0   0   0    0   0     0   0   0   0     0  ...    0      0       0   \n",
      "1     0   0   0    0   1     0   0   0   0     0  ...    0      0       0   \n",
      "2     0   0   0    0   0     0   0   0   0     0  ...    0      0       0   \n",
      "3     0   0   0    0   0     0   0   0   0     0  ...    0      0       0   \n",
      "4     0   0   0    0   0     0   0   0   0     0  ...    0      0       0   \n",
      "..  ...  ..  ..  ...  ..   ...  ..  ..  ..   ...  ...  ...    ...     ...   \n",
      "60    0   0   0    0   0     0   0   0   0     0  ...    0      0       0   \n",
      "61    0   0   0    0   0     0   0   0   0     0  ...    0      0       0   \n",
      "62    0   0   0    0   0     0   0   0   1     0  ...    0      0       0   \n",
      "63    0   0   0    0   0     0   0   0   0     0  ...    0      0       0   \n",
      "64    0   0   0    0   0     0   0   0   0     0  ...    0      0       0   \n",
      "\n",
      "    year  years  yes  yielding  york  zurich     Label  \n",
      "0      0      0    0         0     0       0  Sci/Tech  \n",
      "1      0      0    0         0     0       0  Business  \n",
      "2      1      0    0         0     0       0  Sci/Tech  \n",
      "3      0      0    0         0     0       0    Sports  \n",
      "4      1      0    0         0     0       0  Business  \n",
      "..   ...    ...  ...       ...   ...     ...       ...  \n",
      "60     0      0    0         0     0       0  Business  \n",
      "61     0      0    0         0     0       0    Sports  \n",
      "62     0      0    0         0     0       0     World  \n",
      "63     0      0    0         0     0       0  Business  \n",
      "64     0      0    0         0     0       0     World  \n",
      "\n",
      "[65 rows x 1044 columns]\n"
     ]
    },
    {
     "name": "stderr",
     "output_type": "stream",
     "text": [
      "progress bar: 100%|███████████████████████████████████████████| 35/35 [01:05<00:00,  1.92s/it]"
     ]
    },
    {
     "name": "stdout",
     "output_type": "stream",
     "text": [
      "    000  08  10  100  11  12th  15  16  18  1904  ...  www  yasir  yasser  \\\n",
      "0     0   0   0    0   0     0   0   0   0     0  ...    0      0       0   \n",
      "1     0   0   0    0   1     0   0   0   0     0  ...    0      0       0   \n",
      "2     0   0   0    0   0     0   0   0   0     0  ...    0      0       0   \n",
      "3     0   0   0    0   0     0   0   0   0     0  ...    0      0       0   \n",
      "4     0   0   0    0   0     0   0   0   0     0  ...    0      0       0   \n",
      "..  ...  ..  ..  ...  ..   ...  ..  ..  ..   ...  ...  ...    ...     ...   \n",
      "60    0   0   0    0   0     0   0   0   0     0  ...    0      0       0   \n",
      "61    0   0   0    0   0     0   0   0   0     0  ...    0      0       0   \n",
      "62    0   0   0    0   0     0   0   0   1     0  ...    0      0       0   \n",
      "63    0   0   0    0   0     0   0   0   0     0  ...    0      0       0   \n",
      "64    0   0   0    0   0     0   0   0   0     0  ...    0      0       0   \n",
      "\n",
      "    year  years  yes  yielding  york  zurich     Label  \n",
      "0      0      0    0         0     0       0  Sci/Tech  \n",
      "1      0      0    0         0     0       0  Business  \n",
      "2      1      0    0         0     0       0  Sci/Tech  \n",
      "3      0      0    0         0     0       0    Sports  \n",
      "4      1      0    0         0     0       0  Business  \n",
      "..   ...    ...  ...       ...   ...     ...       ...  \n",
      "60     0      0    0         0     0       0  Business  \n",
      "61     0      0    0         0     0       0    Sports  \n",
      "62     0      0    0         0     0       0     World  \n",
      "63     0      0    0         0     0       0  Business  \n",
      "64     0      0    0         0     0       0     World  \n",
      "\n",
      "[65 rows x 1044 columns]\n"
     ]
    },
    {
     "name": "stderr",
     "output_type": "stream",
     "text": [
      "progress bar: 100%|███████████████████████████████████████████| 35/35 [01:07<00:00,  1.92s/it]\n"
     ]
    }
   ],
   "source": [
    "tqdm.pandas(desc = \"progress bar\")\n",
    "predictions_test = counts_test.progress_apply(lambda row: NB.predict(row, has_target = True), axis = 1)"
   ]
  },
  {
   "cell_type": "code",
   "execution_count": 48,
   "id": "4cd0ed61-856f-461d-abb0-6c8f1d9c9f9c",
   "metadata": {},
   "outputs": [
    {
     "data": {
      "image/png": "[encoded data removed]",
      "text/plain": [
       "<Figure size 640x480 with 2 Axes>"
      ]
     },
     "metadata": {},
     "output_type": "display_data"
    }
   ],
   "source": [
    "conf = confusion_matrix(counts_test[\"Label\"], predictions_test)\n",
    "\n",
    "plt.figure()\n",
    "plot = plot_confusion_matrix(conf, classes = [\"World\", \"Sports\", \"Business\", \"Sci/Tech\"], title = \"Confusion matrix - Test Split\")\n",
    "plt.show()"
   ]
  },
  {
   "cell_type": "code",
   "execution_count": 49,
   "id": "3baadbb0-469b-4be2-88d8-559f17ae2b84",
   "metadata": {},
   "outputs": [
    {
     "name": "stdout",
     "output_type": "stream",
     "text": [
      "Test Accuracy:  0.2571428571428571\n"
     ]
    }
   ],
   "source": [
    "print(\"Test Accuracy: \", accuracy_score(counts_test[\"Label\"], predictions_test))"
   ]
  },
  {
   "cell_type": "markdown",
   "id": "c9bdd589-e7b0-465a-9490-9ed9b764842f",
   "metadata": {},
   "source": [
    "### What can you observe?\n",
    "\n",
    "Does it work well? What does accuracy in this context mean given that we have four balanced classes (and we assume that our sample is truly random)? What could be pitfalls why the classifier doesn't work well?"
   ]
  },
  {
   "cell_type": "markdown",
   "id": "4e111cae-ed6d-49c2-9e25-ca91471f2849",
   "metadata": {},
   "source": [
    "### **Bonus Exercise:** Performance on \"cleaned\" data.\n",
    "\n",
    "Run the naiveBayes classifier on the \"cleaned\" dataset from the clustering exercise. For example, import the cleaning function from `clean.py` and apply it to training and test partition with the code below:\n",
    "\n",
    "```python\n",
    "from clean import clean\n",
    "\n",
    "docs_cleaned_train = [clean(row[\"Article\"]) for i, row in train.iterrows()]\n",
    "docs_cleaned_test = [clean(row[\"Article\"]) for i, row in test.iterrows()]\n",
    "```\n",
    "\n",
    "Compare the performance between the \"cleaned\" and \"not cleaned\" datasets, which one performs better?"
   ]
  },
  {
   "cell_type": "markdown",
   "id": "5a779740-349f-470e-bdf7-bdc5c47280e3",
   "metadata": {},
   "source": [
    "### **Bonus Exercise:** Speeding up naiveBayes.\n",
    "\n",
    "As you can see this implementation of the naiveBayes classification algorithm is very slow and inefficient. How could we potentially improve performance and speed up prediction? Try to implement a more efficient naiveBayes classifier."
   ]
  },
  {
   "cell_type": "markdown",
   "id": "48b4033e-cdb8-4dff-ad45-ddbc4f95fcda",
   "metadata": {},
   "source": [
    "### **Alternative/Bonus Exercise:** Implement the kNN algorithm using the TF-IDF matrix representation and using the cosine distance!\n",
    "\n",
    "Compare (the performance of) your solution to that of the kNN implementation of sklearn: [https://scikit-learn.org/stable/modules/generated/sklearn.neighbors.KNeighborsClassifier.html](https://scikit-learn.org/stable/modules/generated/sklearn.neighbors.KNeighborsClassifier.html)"
   ]
  },
  {
   "cell_type": "code",
   "execution_count": null,
   "id": "f1a06187-699b-4890-9a78-ec3b7c45ac40",
   "metadata": {},
   "outputs": [],
   "source": []
  }
 ],
 "metadata": {
  "kernelspec": {
   "display_name": "Python 3 (ipykernel)",
   "language": "python",
   "name": "python3"
  },
  "language_info": {
   "codemirror_mode": {
    "name": "ipython",
    "version": 3
   },
   "file_extension": ".py",
   "mimetype": "text/x-python",
   "name": "python",
   "nbconvert_exporter": "python",
   "pygments_lexer": "ipython3",
   "version": "3.11.6"
  }
 },
 "nbformat": 4,
 "nbformat_minor": 5
}
